{
 "cells": [
  {
   "cell_type": "markdown",
   "id": "12ebdec4-79f4-4333-9e35-c70ed782f678",
   "metadata": {},
   "source": [
    "This script will tell us what the CDR numberings are in the original unnumbered pdb.\n",
    "\n",
    "\n",
    "Go to [Actual code](# Actual code)"
   ]
  },
  {
   "cell_type": "markdown",
   "id": "fcf620c1-f639-4d7c-b80e-75bf5af8cf03",
   "metadata": {
    "tags": []
   },
   "source": [
    "## Some testing before actual code"
   ]
  },
  {
   "cell_type": "code",
   "execution_count": 49,
   "id": "3124f428-f734-47c3-861c-706b99d287e7",
   "metadata": {},
   "outputs": [
    {
     "name": "stdout",
     "output_type": "stream",
     "text": [
      "PyRosetta-4 2022 [Rosetta PyRosetta4.conda.linux.cxx11thread.serialization.CentOS.python39.Release 2022.37+release.4c51f714cd413ab5625d699da693250e86294a85 2022-09-16T17:05:06] retrieved from: http://www.pyrosetta.org\n",
      "(C) Copyright Rosetta Commons Member Institutions. Created in JHU by Sergey Lyskov and PyRosetta Team.\n",
      "core.init: Checking for fconfig files in pwd and ./rosetta/flags\n",
      "core.init: Rosetta version: PyRosetta4.conda.linux.cxx11thread.serialization.CentOS.python39.Release r330 2022.37+release.4c51f71 4c51f714cd413ab5625d699da693250e86294a85 http://www.pyrosetta.org 2022-09-16T17:05:06\n",
      "core.init: command: PyRosetta -ex1 -ex2aro -database /home/akshay/apps/anaconda3/lib/python3.9/site-packages/pyrosetta/database\n",
      "basic.random.init_random_generator: 'RNG device' seed mode, using '/dev/urandom', seed=-385367745 seed_offset=0 real_seed=-385367745 thread_index=0\n",
      "basic.random.init_random_generator: RandomGenerator:init: Normal mode, seed=-385367745 RG_type=mt19937\n"
     ]
    }
   ],
   "source": [
    "import pyrosetta as py\n",
    "import numpy as np\n",
    "from pyrosetta.rosetta.protocols import antibody\n",
    "py.init()"
   ]
  },
  {
   "cell_type": "code",
   "execution_count": 50,
   "id": "acc3dd93-87df-45f1-8000-75a713827ae6",
   "metadata": {},
   "outputs": [
    {
     "name": "stdout",
     "output_type": "stream",
     "text": [
      "core.chemical.GlobalResidueTypeSet: Finished initializing fa_standard residue type set.  Created 985 residue types\n",
      "core.chemical.GlobalResidueTypeSet: Total time to initialize 1.42066 seconds.\n",
      "core.import_pose.import_pose: File '2FJG_fv_chothia.pdb' automatically determined to be of type PDB\n",
      "core.conformation.Conformation: [ WARNING ] missing heavyatom:  OXT on residue LYS:CtermProteinFull 107\n",
      "core.conformation.Conformation: [ WARNING ] missing heavyatom:  OXT on residue SER:CtermProteinFull 227\n",
      "core.conformation.Conformation: Found disulfide between residues 23 88\n",
      "core.conformation.Conformation: current variant for 23 CYS\n",
      "core.conformation.Conformation: current variant for 88 CYS\n",
      "core.conformation.Conformation: current variant for 23 CYD\n",
      "core.conformation.Conformation: current variant for 88 CYD\n",
      "core.conformation.Conformation: Found disulfide between residues 129 203\n",
      "core.conformation.Conformation: current variant for 129 CYS\n",
      "core.conformation.Conformation: current variant for 203 CYS\n",
      "core.conformation.Conformation: current variant for 129 CYD\n",
      "core.conformation.Conformation: current variant for 203 CYD\n",
      "basic.io.database: Database file opened: sampling/antibodies/cluster_center_dihedrals.txt\n",
      "protocols.antibody.AntibodyNumberingParser: Antibody numbering scheme definitions read successfully\n",
      "protocols.antibody.AntibodyNumberingParser: Antibody CDR definition read successfully\n",
      "antibody.AntibodyInfo: Successfully finished the CDR definition\n",
      "antibody.AntibodyInfo: AC Detecting Regular CDR H3 Stem Type\n",
      "antibody.AntibodyInfo: ARFVFFLPYAMDYW\n",
      "antibody.AntibodyInfo: AC Finished Detecting Regular CDR H3 Stem Type: KINKED\n",
      "antibody.AntibodyInfo: AC Finished Detecting Regular CDR H3 Stem Type: Kink: 1 Extended: 0\n",
      "antibody.AntibodyInfo: Setting up CDR Cluster for H1\n",
      "protocols.antibody.cluster.CDRClusterMatcher: Length: 13 Omega: TTTTTTTTTTTTT\n",
      "antibody.AntibodyInfo: Setting up CDR Cluster for H2\n",
      "protocols.antibody.cluster.CDRClusterMatcher: Length: 10 Omega: TTTTTTTTTT\n",
      "antibody.AntibodyInfo: Setting up CDR Cluster for H3\n",
      "protocols.antibody.cluster.CDRClusterMatcher: Length: 13 Omega: TTTTTTTTTTTTT\n",
      "antibody.AntibodyInfo: Setting up CDR Cluster for L1\n",
      "protocols.antibody.cluster.CDRClusterMatcher: Length: 11 Omega: TTTTTTTTTTT\n",
      "antibody.AntibodyInfo: Setting up CDR Cluster for L2\n",
      "protocols.antibody.cluster.CDRClusterMatcher: Length: 8 Omega: TTTTTTTT\n",
      "antibody.AntibodyInfo: Setting up CDR Cluster for L3\n",
      "protocols.antibody.cluster.CDRClusterMatcher: Length: 9 Omega: TTTTTTCTT\n"
     ]
    }
   ],
   "source": [
    "pose = py.pose_from_pdb('2FJG_fv_chothia.pdb')\n",
    "ab_info = antibody.AntibodyInfo(pose, antibody.Chothia_Scheme, antibody.North)"
   ]
  },
  {
   "cell_type": "code",
   "execution_count": 57,
   "id": "f2811d8a-fe5d-4d6a-bfaf-078054ca07d1",
   "metadata": {},
   "outputs": [],
   "source": [
    "h3 = py.rosetta.utility.vector1_bool(6)\n",
    "h3[antibody.h3] = True"
   ]
  },
  {
   "cell_type": "code",
   "execution_count": 61,
   "id": "afa6f331-3199-430d-93d5-035831b1f5b2",
   "metadata": {},
   "outputs": [
    {
     "name": "stdout",
     "output_type": "stream",
     "text": [
      "LOOP  begin  end  cut  skip_rate  extended\n",
      "LOOP start: 130  stop: 142  cut: 136  size: 13  skip rate: 0  extended?: False\n",
      "\n",
      "LOOP start: 157  stop: 166  cut: 162  size: 10  skip rate: 0  extended?: False\n",
      "\n",
      "LOOP start: 204  stop: 216  cut: 210  size: 13  skip rate: 0  extended?: False\n",
      "\n",
      "LOOP start: 24  stop: 34  cut: 29  size: 11  skip rate: 0  extended?: False\n",
      "\n",
      "LOOP start: 49  stop: 56  cut: 53  size: 8  skip rate: 0  extended?: False\n",
      "\n",
      "LOOP start: 89  stop: 97  cut: 93  size: 9  skip rate: 0  extended?: False\n",
      "\n",
      "\n"
     ]
    }
   ],
   "source": [
    "print(ab_info.get_CDR_loops(pose))"
   ]
  },
  {
   "cell_type": "code",
   "execution_count": 64,
   "id": "157a7216-e5f7-47a9-af40-b62cf57fb936",
   "metadata": {},
   "outputs": [
    {
     "data": {
      "text/plain": [
       "23"
      ]
     },
     "execution_count": 64,
     "metadata": {},
     "output_type": "execute_result"
    }
   ],
   "source": [
    "ab_info.get_CDR_start_PDB_num(antibody.h1)"
   ]
  },
  {
   "cell_type": "code",
   "execution_count": 69,
   "id": "221e4f93-656c-4570-a54d-5db15091ac09",
   "metadata": {},
   "outputs": [
    {
     "ename": "TypeError",
     "evalue": "get_CDR_start(): incompatible function arguments. The following argument types are supported:\n    1. (self: pyrosetta.rosetta.protocols.antibody.AntibodyInfo, cdr_name: pyrosetta.rosetta.protocols.antibody.CDRNameEnum, pose: pyrosetta.rosetta.core.pose.Pose) -> int\n    2. (self: pyrosetta.rosetta.protocols.antibody.AntibodyInfo, cdr_name: pyrosetta.rosetta.protocols.antibody.CDRNameEnum, pose: pyrosetta.rosetta.core.pose.Pose, transform: pyrosetta.rosetta.protocols.antibody.CDRDefinitionEnum) -> int\n\nInvoked with: <pyrosetta.rosetta.protocols.antibody.AntibodyInfo object at 0x7ffaf93627f0>, vector1_bool[0, 0, 1, 0, 0, 0], <pyrosetta.rosetta.core.pose.Pose object at 0x7ffaf94ddfb0>",
     "output_type": "error",
     "traceback": [
      "\u001b[0;31m---------------------------------------------------------------------------\u001b[0m",
      "\u001b[0;31mTypeError\u001b[0m                                 Traceback (most recent call last)",
      "Input \u001b[0;32mIn [69]\u001b[0m, in \u001b[0;36m<cell line: 1>\u001b[0;34m()\u001b[0m\n\u001b[0;32m----> 1\u001b[0m \u001b[43mab_info\u001b[49m\u001b[38;5;241;43m.\u001b[39;49m\u001b[43mget_CDR_start\u001b[49m\u001b[43m(\u001b[49m\u001b[43mh3\u001b[49m\u001b[43m,\u001b[49m\u001b[43m \u001b[49m\u001b[43mpose\u001b[49m\u001b[43m)\u001b[49m\n",
      "\u001b[0;31mTypeError\u001b[0m: get_CDR_start(): incompatible function arguments. The following argument types are supported:\n    1. (self: pyrosetta.rosetta.protocols.antibody.AntibodyInfo, cdr_name: pyrosetta.rosetta.protocols.antibody.CDRNameEnum, pose: pyrosetta.rosetta.core.pose.Pose) -> int\n    2. (self: pyrosetta.rosetta.protocols.antibody.AntibodyInfo, cdr_name: pyrosetta.rosetta.protocols.antibody.CDRNameEnum, pose: pyrosetta.rosetta.core.pose.Pose, transform: pyrosetta.rosetta.protocols.antibody.CDRDefinitionEnum) -> int\n\nInvoked with: <pyrosetta.rosetta.protocols.antibody.AntibodyInfo object at 0x7ffaf93627f0>, vector1_bool[0, 0, 1, 0, 0, 0], <pyrosetta.rosetta.core.pose.Pose object at 0x7ffaf94ddfb0>"
     ]
    }
   ],
   "source": [
    "ab_info.get_CDR_start(h3, pose)"
   ]
  },
  {
   "cell_type": "code",
   "execution_count": 75,
   "id": "8547023e-fdd7-4ef8-97a6-1e3c937f35ce",
   "metadata": {},
   "outputs": [
    {
     "data": {
      "text/plain": [
       "216"
      ]
     },
     "execution_count": 75,
     "metadata": {},
     "output_type": "execute_result"
    }
   ],
   "source": [
    "ab_info.get_CDR_end(antibody.h3, pose)"
   ]
  },
  {
   "cell_type": "code",
   "execution_count": 80,
   "id": "a1f38de4-5c87-4480-9345-3b1b870694a2",
   "metadata": {},
   "outputs": [
    {
     "data": {
      "text/plain": [
       "<bound method PyCapsule.chain_sequence of <pyrosetta.rosetta.core.pose.Pose object at 0x7ffaf94ddfb0>>"
      ]
     },
     "execution_count": 80,
     "metadata": {},
     "output_type": "execute_result"
    }
   ],
   "source": [
    "pose.chain_sequence"
   ]
  },
  {
   "cell_type": "code",
   "execution_count": 83,
   "id": "13c2a8b6-d805-4bb0-a0b7-2dc209ba6490",
   "metadata": {},
   "outputs": [
    {
     "data": {
      "text/plain": [
       "[23, 50, 93, 24, 49, 89]"
      ]
     },
     "execution_count": 83,
     "metadata": {},
     "output_type": "execute_result"
    }
   ],
   "source": [
    "[ab_info.get_CDR_start_PDB_num(i) for i in ab_info.get_all_cdrs()]"
   ]
  },
  {
   "cell_type": "code",
   "execution_count": 84,
   "id": "64052567-a99d-4469-8891-412495f8d606",
   "metadata": {},
   "outputs": [
    {
     "data": {
      "text/plain": [
       "[35, 58, 102, 34, 56, 97]"
      ]
     },
     "execution_count": 84,
     "metadata": {},
     "output_type": "execute_result"
    }
   ],
   "source": [
    "[ab_info.get_CDR_end_PDB_num(i) for i in ab_info.get_all_cdrs()]"
   ]
  },
  {
   "cell_type": "code",
   "execution_count": 95,
   "id": "f91a1e4c-6d98-4ac2-b5bb-ec762c724825",
   "metadata": {},
   "outputs": [],
   "source": [
    "cdr_seq = [ab_info.get_CDR_sequence_with_stem(i) for i in ab_info.get_all_cdrs_present()]"
   ]
  },
  {
   "cell_type": "code",
   "execution_count": 89,
   "id": "3004d736-f916-4a99-ad70-5984140d07db",
   "metadata": {},
   "outputs": [
    {
     "name": "stdout",
     "output_type": "stream",
     "text": [
      "core.import_pose.import_pose: File '2FJG_fv.pdb' automatically determined to be of type PDB\n",
      "core.conformation.Conformation: [ WARNING ] missing heavyatom:  OXT on residue LYS:CtermProteinFull 107\n",
      "core.conformation.Conformation: [ WARNING ] missing heavyatom:  OXT on residue SER:CtermProteinFull 227\n",
      "core.conformation.Conformation: Found disulfide between residues 23 88\n",
      "core.conformation.Conformation: current variant for 23 CYS\n",
      "core.conformation.Conformation: current variant for 88 CYS\n",
      "core.conformation.Conformation: current variant for 23 CYD\n",
      "core.conformation.Conformation: current variant for 88 CYD\n",
      "core.conformation.Conformation: Found disulfide between residues 129 203\n",
      "core.conformation.Conformation: current variant for 129 CYS\n",
      "core.conformation.Conformation: current variant for 203 CYS\n",
      "core.conformation.Conformation: current variant for 129 CYD\n",
      "core.conformation.Conformation: current variant for 203 CYD\n"
     ]
    }
   ],
   "source": [
    "pose2 = py.pose_from_pdb('2FJG_fv.pdb')"
   ]
  },
  {
   "cell_type": "code",
   "execution_count": 96,
   "id": "1d5be730-77a5-47e0-bdce-ff3d4f3595a0",
   "metadata": {},
   "outputs": [
    {
     "data": {
      "text/plain": [
       "129"
      ]
     },
     "execution_count": 96,
     "metadata": {},
     "output_type": "execute_result"
    }
   ],
   "source": [
    "pose.sequence().find(cdr_seq[0])"
   ]
  },
  {
   "cell_type": "code",
   "execution_count": 102,
   "id": "e6186345-a5d7-45d4-a977-d7947b3644aa",
   "metadata": {},
   "outputs": [
    {
     "data": {
      "text/plain": [
       "129"
      ]
     },
     "execution_count": 102,
     "metadata": {},
     "output_type": "execute_result"
    }
   ],
   "source": [
    "pose.sequence().index(cdr_seq[0])"
   ]
  },
  {
   "cell_type": "code",
   "execution_count": 109,
   "id": "b4c146bf-d5f3-481b-b491-668c7236d68c",
   "metadata": {},
   "outputs": [],
   "source": [
    "from rosetta.protocols.antibody.residue_selector import *\n",
    "\n",
    "cdr_selector = CDRResidueSelector(ab_info)\n",
    "sele = cdr_selector.apply(pose)"
   ]
  },
  {
   "cell_type": "code",
   "execution_count": null,
   "id": "c1aaacf9-89be-456f-9dfd-78e75d7c1735",
   "metadata": {},
   "outputs": [],
   "source": [
    "c=[]\n",
    "for i in range(1, len(sele)):\n",
    "    if sele[i]:\n",
    "        #print(i, pose.pdb_info().pose2pdb(i))\n",
    "        c.append([pose.residue(i).xyz('CA').x, pose.residue(i).xyz('CA').y, pose.residue(i).xyz('CA').z])\n",
    "print(c)"
   ]
  },
  {
   "cell_type": "code",
   "execution_count": 138,
   "id": "e8517734-3042-40f9-b204-fe133b6d5831",
   "metadata": {},
   "outputs": [
    {
     "data": {
      "text/plain": [
       "107"
      ]
     },
     "execution_count": 138,
     "metadata": {},
     "output_type": "execute_result"
    }
   ],
   "source": [
    "len(pose.chain_sequence(1))"
   ]
  },
  {
   "cell_type": "code",
   "execution_count": 134,
   "id": "f6eeaee8-cc63-422d-bf6c-d5b2e132286f",
   "metadata": {},
   "outputs": [
    {
     "ename": "TypeError",
     "evalue": "__init__(): incompatible constructor arguments. The following argument types are supported:\n    1. pyrosetta.rosetta.protocols.antibody.residue_selector.CDRResidueSelector()\n    2. pyrosetta.rosetta.protocols.antibody.residue_selector.CDRResidueSelector(ab_info: pyrosetta.rosetta.protocols.antibody.AntibodyInfo)\n    3. pyrosetta.rosetta.protocols.antibody.residue_selector.CDRResidueSelector(ab_info: pyrosetta.rosetta.protocols.antibody.AntibodyInfo, cdrs: pyrosetta.rosetta.utility.vector1_protocols_antibody_CDRNameEnum)\n    4. pyrosetta.rosetta.protocols.antibody.residue_selector.CDRResidueSelector(ab_info: pyrosetta.rosetta.protocols.antibody.AntibodyInfo, cdrs: pyrosetta.rosetta.utility.vector1_bool)\n    5. pyrosetta.rosetta.protocols.antibody.residue_selector.CDRResidueSelector(arg0: pyrosetta.rosetta.protocols.antibody.residue_selector.CDRResidueSelector)\n    6. pyrosetta.rosetta.protocols.antibody.residue_selector.CDRResidueSelector(arg0: pyrosetta.rosetta.protocols.antibody.residue_selector.CDRResidueSelector)\n\nInvoked with: <pyrosetta.rosetta.protocols.antibody.AntibodyInfo object at 0x7ffaf93627f0>, <CDRNameEnum.h1: 1>",
     "output_type": "error",
     "traceback": [
      "\u001b[0;31m---------------------------------------------------------------------------\u001b[0m",
      "\u001b[0;31mTypeError\u001b[0m                                 Traceback (most recent call last)",
      "Input \u001b[0;32mIn [134]\u001b[0m, in \u001b[0;36m<cell line: 1>\u001b[0;34m()\u001b[0m\n\u001b[0;32m----> 1\u001b[0m [ CDRResidueSelector(ab_info,i) \u001b[38;5;28;01mfor\u001b[39;00m i \u001b[38;5;129;01min\u001b[39;00m ab_info\u001b[38;5;241m.\u001b[39mget_all_cdrs()]\n",
      "Input \u001b[0;32mIn [134]\u001b[0m, in \u001b[0;36m<listcomp>\u001b[0;34m(.0)\u001b[0m\n\u001b[0;32m----> 1\u001b[0m [ \u001b[43mCDRResidueSelector\u001b[49m\u001b[43m(\u001b[49m\u001b[43mab_info\u001b[49m\u001b[43m,\u001b[49m\u001b[43mi\u001b[49m\u001b[43m)\u001b[49m \u001b[38;5;28;01mfor\u001b[39;00m i \u001b[38;5;129;01min\u001b[39;00m ab_info\u001b[38;5;241m.\u001b[39mget_all_cdrs()]\n",
      "\u001b[0;31mTypeError\u001b[0m: __init__(): incompatible constructor arguments. The following argument types are supported:\n    1. pyrosetta.rosetta.protocols.antibody.residue_selector.CDRResidueSelector()\n    2. pyrosetta.rosetta.protocols.antibody.residue_selector.CDRResidueSelector(ab_info: pyrosetta.rosetta.protocols.antibody.AntibodyInfo)\n    3. pyrosetta.rosetta.protocols.antibody.residue_selector.CDRResidueSelector(ab_info: pyrosetta.rosetta.protocols.antibody.AntibodyInfo, cdrs: pyrosetta.rosetta.utility.vector1_protocols_antibody_CDRNameEnum)\n    4. pyrosetta.rosetta.protocols.antibody.residue_selector.CDRResidueSelector(ab_info: pyrosetta.rosetta.protocols.antibody.AntibodyInfo, cdrs: pyrosetta.rosetta.utility.vector1_bool)\n    5. pyrosetta.rosetta.protocols.antibody.residue_selector.CDRResidueSelector(arg0: pyrosetta.rosetta.protocols.antibody.residue_selector.CDRResidueSelector)\n    6. pyrosetta.rosetta.protocols.antibody.residue_selector.CDRResidueSelector(arg0: pyrosetta.rosetta.protocols.antibody.residue_selector.CDRResidueSelector)\n\nInvoked with: <pyrosetta.rosetta.protocols.antibody.AntibodyInfo object at 0x7ffaf93627f0>, <CDRNameEnum.h1: 1>"
     ]
    }
   ],
   "source": [
    "[ CDRResidueSelector(ab_info,i) for i in ab_info.get_all_cdrs()]"
   ]
  },
  {
   "cell_type": "code",
   "execution_count": 136,
   "id": "2775f225-bd61-4108-8f40-c22c0e5adb5c",
   "metadata": {},
   "outputs": [
    {
     "data": {
      "text/plain": [
       "<pyrosetta.rosetta.protocols.antibody.residue_selector.CDRResidueSelector at 0x7ffaf80ff5b0>"
      ]
     },
     "execution_count": 136,
     "metadata": {},
     "output_type": "execute_result"
    }
   ],
   "source": [
    "CDRResidueSelector(ab_info, h3)"
   ]
  },
  {
   "cell_type": "code",
   "execution_count": 137,
   "id": "1e6c3c41-bc16-4222-8a7c-e511c914d92b",
   "metadata": {},
   "outputs": [
    {
     "data": {
      "text/plain": [
       "vector1_protocols_antibody_CDRNameEnum[1, 2, 3, 4, 5, 6]"
      ]
     },
     "execution_count": 137,
     "metadata": {},
     "output_type": "execute_result"
    }
   ],
   "source": [
    "ab_info.get_all_cdrs()"
   ]
  },
  {
   "cell_type": "code",
   "execution_count": 166,
   "id": "7550ea29-9a33-4a07-bd64-f1d72dfcce8e",
   "metadata": {},
   "outputs": [],
   "source": [
    "light_chain = py.rosetta.utility.vector1_bool(3)\n"
   ]
  },
  {
   "cell_type": "code",
   "execution_count": 170,
   "id": "7511c7ac-5f52-4050-b84f-ec4ae0fd9314",
   "metadata": {},
   "outputs": [],
   "source": [
    "light_chain[antibody.h3] = True"
   ]
  },
  {
   "cell_type": "code",
   "execution_count": 159,
   "id": "dc192d5c-a052-4467-ba4b-99d2a658eb39",
   "metadata": {},
   "outputs": [
    {
     "data": {
      "text/plain": [
       "pyrosetta.rosetta.protocols.antibody.CDRNameEnum"
      ]
     },
     "execution_count": 159,
     "metadata": {},
     "output_type": "execute_result"
    }
   ],
   "source": [
    "type(antibody.h1)"
   ]
  },
  {
   "cell_type": "code",
   "execution_count": 150,
   "id": "1f50b06a-97c5-4908-aa54-973226a74614",
   "metadata": {},
   "outputs": [
    {
     "data": {
      "text/plain": [
       "[True, True, True]"
      ]
     },
     "execution_count": 150,
     "metadata": {},
     "output_type": "execute_result"
    }
   ],
   "source": [
    "light_chain"
   ]
  },
  {
   "cell_type": "code",
   "execution_count": 173,
   "id": "73868944-8b15-42cb-bba3-978ae7bce966",
   "metadata": {},
   "outputs": [],
   "source": [
    "cdr_selector = CDRResidueSelector(ab_info,light_chain)"
   ]
  },
  {
   "cell_type": "code",
   "execution_count": 174,
   "id": "b77c5db4-e714-44cd-9bea-0e06d9318977",
   "metadata": {},
   "outputs": [],
   "source": [
    "sele = cdr_selector.apply(pose)"
   ]
  },
  {
   "cell_type": "code",
   "execution_count": 185,
   "id": "d049246e-78ae-4b72-b155-042c03311bce",
   "metadata": {},
   "outputs": [
    {
     "data": {
      "text/plain": [
       "array([ 22,  23,  24,  25,  26,  27,  28,  29,  30,  31,  32,  33,  34,\n",
       "        49,  50,  51,  52,  53,  54,  55,  56,  57,  58,  96,  97,  98,\n",
       "        99, 100, 101, 102, 103, 104, 105, 106, 107, 108])"
      ]
     },
     "execution_count": 185,
     "metadata": {},
     "output_type": "execute_result"
    }
   ],
   "source": [
    "np.where(np.array(sele))[0] - len(pose.chain_sequence(1))"
   ]
  },
  {
   "cell_type": "markdown",
   "id": "306090b3-a2d2-4179-969f-18e4f844f410",
   "metadata": {
    "tags": []
   },
   "source": [
    "# Actual code to find PDB numbers (of not renumbered pdbs) of CDRs"
   ]
  },
  {
   "cell_type": "code",
   "execution_count": null,
   "id": "625b13e1-145d-46ba-bebc-828794a610d6",
   "metadata": {},
   "outputs": [],
   "source": [
    "import pyrosetta as py\n",
    "import numpy as np\n",
    "from pyrosetta.rosetta.protocols import antibody\n",
    "from rosetta.protocols.antibody.residue_selector import CDRResidueSelector\n",
    "py.init()\n",
    "\n",
    "pose = py.pose_from_pdb('2FJG_fv_chothia.pdb')\n",
    "ab_info = antibody.AntibodyInfo(pose, antibody.Chothia_Scheme, antibody.North)\n",
    "\n",
    "light_length = len(pose.chain_sequence(1))\n",
    "cdr_selector = CDRResidueSelector(ab_info)\n",
    "sele = np.array(cdr_selector.apply(pose))\n",
    "sele = np.where(sele)[0] + 1\n",
    "#sele[sele > light_length] = sele[sele > light_length] - light_length"
   ]
  },
  {
   "cell_type": "code",
   "execution_count": 45,
   "id": "894073da-8a8c-491b-922e-5ed7bb3024a0",
   "metadata": {},
   "outputs": [],
   "source": [
    "a = pose.residue(11)"
   ]
  },
  {
   "cell_type": "markdown",
   "id": "3f68a9f4-cbcd-4415-870b-7596589c4546",
   "metadata": {},
   "source": [
    "# Map chothia framework to unnumbered pdb "
   ]
  },
  {
   "cell_type": "code",
   "execution_count": 1,
   "id": "c9d93232-46dc-4aed-ab50-0458d3fdf852",
   "metadata": {},
   "outputs": [],
   "source": [
    "import MDAnalysis as mda\n",
    "import numpy as np"
   ]
  },
  {
   "cell_type": "code",
   "execution_count": 2,
   "id": "25b0923e-e2fd-4711-a9ac-b1d15c70c169",
   "metadata": {},
   "outputs": [],
   "source": [
    "u = mda.Universe('2FJG_fv_chothia.pdb','2FJG_fv_chothia.pdb')\n",
    "u = u.select_atoms('not name O and backbone')"
   ]
  },
  {
   "cell_type": "code",
   "execution_count": 3,
   "id": "c7b89663-76d8-44d4-b02e-8787e2fdfa7c",
   "metadata": {},
   "outputs": [],
   "source": [
    "x1 = np.where( ((u.segments[0].residues.resids >= 6) & (u.segments[0].residues.resids<=22))  | ((u.segments[0].residues.resids >= 39) & (u.segments[0].residues.resids<=46))  |  ((u.segments[0].residues.resids >= 81) & (u.segments[0].residues.resids<=91))| ((u.segments[0].residues.resids >= 106)))"
   ]
  },
  {
   "cell_type": "code",
   "execution_count": 4,
   "id": "b249f24e-32e0-4eca-92e8-7a7533f2b00b",
   "metadata": {},
   "outputs": [],
   "source": [
    "x2 = np.where( ((u.segments[1].residues.resids >= 7) & (u.segments[1].residues.resids<=20))  | ((u.segments[1].residues.resids >= 38) & (u.segments[1].residues.resids<=44))  |  ((u.segments[1].residues.resids >= 76) & (u.segments[1].residues.resids<=85))| ((u.segments[1].residues.resids >= 101)))"
   ]
  },
  {
   "cell_type": "code",
   "execution_count": 5,
   "id": "9cb7e632-2881-43c9-a8be-9c7c1585b08c",
   "metadata": {},
   "outputs": [],
   "source": [
    "fh = u.segments[0].residues.resindices[x1]"
   ]
  },
  {
   "cell_type": "code",
   "execution_count": 6,
   "id": "894ef9e5-8a4c-4ea4-a807-1e56ef829efc",
   "metadata": {},
   "outputs": [],
   "source": [
    "fl = u.segments[1].residues.resindices[x2]"
   ]
  },
  {
   "cell_type": "code",
   "execution_count": 11,
   "id": "e3b5e8a8-6713-4551-99c0-c02dfe2671a2",
   "metadata": {},
   "outputs": [
    {
     "data": {
      "text/plain": [
       "array([  5,   6,   7,   8,   9,  10,  11,  12,  13,  14,  15,  16,  17,\n",
       "        18,  19,  20,  21,  38,  39,  40,  41,  42,  43,  44,  45,  81,\n",
       "        82,  83,  84,  85,  86,  87,  88,  89,  90,  91,  92,  93,  94,\n",
       "       112, 113, 114, 115, 116, 117, 118, 119])"
      ]
     },
     "execution_count": 11,
     "metadata": {},
     "output_type": "execute_result"
    }
   ],
   "source": [
    "fh"
   ]
  },
  {
   "cell_type": "code",
   "execution_count": 12,
   "id": "2fda0164-b078-4aad-af92-22ad16486f41",
   "metadata": {},
   "outputs": [
    {
     "data": {
      "text/plain": [
       "array([126, 127, 128, 129, 130, 131, 132, 133, 134, 135, 136, 137, 138,\n",
       "       139, 157, 158, 159, 160, 161, 162, 163, 195, 196, 197, 198, 199,\n",
       "       200, 201, 202, 203, 204, 220, 221, 222, 223, 224, 225, 226])"
      ]
     },
     "execution_count": 12,
     "metadata": {},
     "output_type": "execute_result"
    }
   ],
   "source": [
    "fl"
   ]
  },
  {
   "cell_type": "code",
   "execution_count": 7,
   "id": "a931a73e-3b62-4410-879b-d9bb7948cf2b",
   "metadata": {},
   "outputs": [],
   "source": [
    "f = np.concatenate((fh,fl))"
   ]
  },
  {
   "cell_type": "code",
   "execution_count": 8,
   "id": "6eec4bb0-b4b6-43b8-b17f-cbe7705e35b6",
   "metadata": {},
   "outputs": [
    {
     "data": {
      "text/plain": [
       "array([  5,   6,   7,   8,   9,  10,  11,  12,  13,  14,  15,  16,  17,\n",
       "        18,  19,  20,  21,  38,  39,  40,  41,  42,  43,  44,  45,  81,\n",
       "        82,  83,  84,  85,  86,  87,  88,  89,  90,  91,  92,  93,  94,\n",
       "       112, 113, 114, 115, 116, 117, 118, 119, 126, 127, 128, 129, 130,\n",
       "       131, 132, 133, 134, 135, 136, 137, 138, 139, 157, 158, 159, 160,\n",
       "       161, 162, 163, 195, 196, 197, 198, 199, 200, 201, 202, 203, 204,\n",
       "       220, 221, 222, 223, 224, 225, 226])"
      ]
     },
     "execution_count": 8,
     "metadata": {},
     "output_type": "execute_result"
    }
   ],
   "source": [
    "f"
   ]
  },
  {
   "cell_type": "code",
   "execution_count": 10,
   "id": "11d24595-4198-4e8c-b609-c17b1b1e5631",
   "metadata": {},
   "outputs": [],
   "source": [
    "np.savetxt('f.txt',f,fmt='%d',newline='\\n')"
   ]
  },
  {
   "cell_type": "code",
   "execution_count": 9,
   "id": "46052eb5-fe73-4922-b401-b19cda9f8c7a",
   "metadata": {},
   "outputs": [
    {
     "data": {
      "text/plain": [
       "\u001b[0;31mSignature:\u001b[0m\n",
       "\u001b[0mnp\u001b[0m\u001b[0;34m.\u001b[0m\u001b[0msavetxt\u001b[0m\u001b[0;34m(\u001b[0m\u001b[0;34m\u001b[0m\n",
       "\u001b[0;34m\u001b[0m    \u001b[0mfname\u001b[0m\u001b[0;34m,\u001b[0m\u001b[0;34m\u001b[0m\n",
       "\u001b[0;34m\u001b[0m    \u001b[0mX\u001b[0m\u001b[0;34m,\u001b[0m\u001b[0;34m\u001b[0m\n",
       "\u001b[0;34m\u001b[0m    \u001b[0mfmt\u001b[0m\u001b[0;34m=\u001b[0m\u001b[0;34m'%.18e'\u001b[0m\u001b[0;34m,\u001b[0m\u001b[0;34m\u001b[0m\n",
       "\u001b[0;34m\u001b[0m    \u001b[0mdelimiter\u001b[0m\u001b[0;34m=\u001b[0m\u001b[0;34m' '\u001b[0m\u001b[0;34m,\u001b[0m\u001b[0;34m\u001b[0m\n",
       "\u001b[0;34m\u001b[0m    \u001b[0mnewline\u001b[0m\u001b[0;34m=\u001b[0m\u001b[0;34m'\\n'\u001b[0m\u001b[0;34m,\u001b[0m\u001b[0;34m\u001b[0m\n",
       "\u001b[0;34m\u001b[0m    \u001b[0mheader\u001b[0m\u001b[0;34m=\u001b[0m\u001b[0;34m''\u001b[0m\u001b[0;34m,\u001b[0m\u001b[0;34m\u001b[0m\n",
       "\u001b[0;34m\u001b[0m    \u001b[0mfooter\u001b[0m\u001b[0;34m=\u001b[0m\u001b[0;34m''\u001b[0m\u001b[0;34m,\u001b[0m\u001b[0;34m\u001b[0m\n",
       "\u001b[0;34m\u001b[0m    \u001b[0mcomments\u001b[0m\u001b[0;34m=\u001b[0m\u001b[0;34m'# '\u001b[0m\u001b[0;34m,\u001b[0m\u001b[0;34m\u001b[0m\n",
       "\u001b[0;34m\u001b[0m    \u001b[0mencoding\u001b[0m\u001b[0;34m=\u001b[0m\u001b[0;32mNone\u001b[0m\u001b[0;34m,\u001b[0m\u001b[0;34m\u001b[0m\n",
       "\u001b[0;34m\u001b[0m\u001b[0;34m)\u001b[0m\u001b[0;34m\u001b[0m\u001b[0;34m\u001b[0m\u001b[0m\n",
       "\u001b[0;31mDocstring:\u001b[0m\n",
       "Save an array to a text file.\n",
       "\n",
       "Parameters\n",
       "----------\n",
       "fname : filename or file handle\n",
       "    If the filename ends in ``.gz``, the file is automatically saved in\n",
       "    compressed gzip format.  `loadtxt` understands gzipped files\n",
       "    transparently.\n",
       "X : 1D or 2D array_like\n",
       "    Data to be saved to a text file.\n",
       "fmt : str or sequence of strs, optional\n",
       "    A single format (%10.5f), a sequence of formats, or a\n",
       "    multi-format string, e.g. 'Iteration %d -- %10.5f', in which\n",
       "    case `delimiter` is ignored. For complex `X`, the legal options\n",
       "    for `fmt` are:\n",
       "\n",
       "    * a single specifier, `fmt='%.4e'`, resulting in numbers formatted\n",
       "      like `' (%s+%sj)' % (fmt, fmt)`\n",
       "    * a full string specifying every real and imaginary part, e.g.\n",
       "      `' %.4e %+.4ej %.4e %+.4ej %.4e %+.4ej'` for 3 columns\n",
       "    * a list of specifiers, one per column - in this case, the real\n",
       "      and imaginary part must have separate specifiers,\n",
       "      e.g. `['%.3e + %.3ej', '(%.15e%+.15ej)']` for 2 columns\n",
       "delimiter : str, optional\n",
       "    String or character separating columns.\n",
       "newline : str, optional\n",
       "    String or character separating lines.\n",
       "\n",
       "    .. versionadded:: 1.5.0\n",
       "header : str, optional\n",
       "    String that will be written at the beginning of the file.\n",
       "\n",
       "    .. versionadded:: 1.7.0\n",
       "footer : str, optional\n",
       "    String that will be written at the end of the file.\n",
       "\n",
       "    .. versionadded:: 1.7.0\n",
       "comments : str, optional\n",
       "    String that will be prepended to the ``header`` and ``footer`` strings,\n",
       "    to mark them as comments. Default: '# ',  as expected by e.g.\n",
       "    ``numpy.loadtxt``.\n",
       "\n",
       "    .. versionadded:: 1.7.0\n",
       "encoding : {None, str}, optional\n",
       "    Encoding used to encode the outputfile. Does not apply to output\n",
       "    streams. If the encoding is something other than 'bytes' or 'latin1'\n",
       "    you will not be able to load the file in NumPy versions < 1.14. Default\n",
       "    is 'latin1'.\n",
       "\n",
       "    .. versionadded:: 1.14.0\n",
       "\n",
       "\n",
       "See Also\n",
       "--------\n",
       "save : Save an array to a binary file in NumPy ``.npy`` format\n",
       "savez : Save several arrays into an uncompressed ``.npz`` archive\n",
       "savez_compressed : Save several arrays into a compressed ``.npz`` archive\n",
       "\n",
       "Notes\n",
       "-----\n",
       "Further explanation of the `fmt` parameter\n",
       "(``%[flag]width[.precision]specifier``):\n",
       "\n",
       "flags:\n",
       "    ``-`` : left justify\n",
       "\n",
       "    ``+`` : Forces to precede result with + or -.\n",
       "\n",
       "    ``0`` : Left pad the number with zeros instead of space (see width).\n",
       "\n",
       "width:\n",
       "    Minimum number of characters to be printed. The value is not truncated\n",
       "    if it has more characters.\n",
       "\n",
       "precision:\n",
       "    - For integer specifiers (eg. ``d,i,o,x``), the minimum number of\n",
       "      digits.\n",
       "    - For ``e, E`` and ``f`` specifiers, the number of digits to print\n",
       "      after the decimal point.\n",
       "    - For ``g`` and ``G``, the maximum number of significant digits.\n",
       "    - For ``s``, the maximum number of characters.\n",
       "\n",
       "specifiers:\n",
       "    ``c`` : character\n",
       "\n",
       "    ``d`` or ``i`` : signed decimal integer\n",
       "\n",
       "    ``e`` or ``E`` : scientific notation with ``e`` or ``E``.\n",
       "\n",
       "    ``f`` : decimal floating point\n",
       "\n",
       "    ``g,G`` : use the shorter of ``e,E`` or ``f``\n",
       "\n",
       "    ``o`` : signed octal\n",
       "\n",
       "    ``s`` : string of characters\n",
       "\n",
       "    ``u`` : unsigned decimal integer\n",
       "\n",
       "    ``x,X`` : unsigned hexadecimal integer\n",
       "\n",
       "This explanation of ``fmt`` is not complete, for an exhaustive\n",
       "specification see [1]_.\n",
       "\n",
       "References\n",
       "----------\n",
       ".. [1] `Format Specification Mini-Language\n",
       "       <https://docs.python.org/library/string.html#format-specification-mini-language>`_,\n",
       "       Python Documentation.\n",
       "\n",
       "Examples\n",
       "--------\n",
       ">>> x = y = z = np.arange(0.0,5.0,1.0)\n",
       ">>> np.savetxt('test.out', x, delimiter=',')   # X is an array\n",
       ">>> np.savetxt('test.out', (x,y,z))   # x,y,z equal sized 1D arrays\n",
       ">>> np.savetxt('test.out', x, fmt='%1.4e')   # use exponential notation\n",
       "\u001b[0;31mFile:\u001b[0m      ~/apps/anaconda3/lib/python3.9/site-packages/numpy/lib/npyio.py\n",
       "\u001b[0;31mType:\u001b[0m      function\n"
      ]
     },
     "metadata": {},
     "output_type": "display_data"
    }
   ],
   "source": [
    "np.savetxt?"
   ]
  },
  {
   "cell_type": "code",
   "execution_count": null,
   "id": "eeabe891-2591-4501-8190-100dbda44386",
   "metadata": {},
   "outputs": [],
   "source": []
  },
  {
   "cell_type": "markdown",
   "id": "80c18440-3992-42b9-a36b-98519cb916b0",
   "metadata": {},
   "source": [
    "# Find framework"
   ]
  },
  {
   "cell_type": "code",
   "execution_count": 6,
   "id": "5719ecf4-d62a-4f15-91a0-945a1af4a25b",
   "metadata": {},
   "outputs": [],
   "source": [
    "x = antibody.AntibodyRegionEnum(3)"
   ]
  },
  {
   "cell_type": "code",
   "execution_count": 7,
   "id": "40e2db66-e5f4-4927-b485-89e5058cac65",
   "metadata": {},
   "outputs": [
    {
     "data": {
      "text/plain": [
       "<AntibodyRegionEnum.framework_region: 3>"
      ]
     },
     "execution_count": 7,
     "metadata": {},
     "output_type": "execute_result"
    }
   ],
   "source": [
    "x"
   ]
  },
  {
   "cell_type": "code",
   "execution_count": 14,
   "id": "bc69edc8-27dd-4392-8b1f-c142d06270bb",
   "metadata": {},
   "outputs": [
    {
     "data": {
      "text/plain": [
       "<AntibodyRegionEnum.framework_region: 3>"
      ]
     },
     "execution_count": 14,
     "metadata": {},
     "output_type": "execute_result"
    }
   ],
   "source": [
    "x.framework_region"
   ]
  },
  {
   "cell_type": "code",
   "execution_count": 18,
   "id": "2ff36ffd-06a9-4404-a0be-7a043fbbdaf5",
   "metadata": {},
   "outputs": [],
   "source": [
    "from rosetta.protocols.antibody.residue_selector import AntibodyRegionSelector"
   ]
  },
  {
   "cell_type": "code",
   "execution_count": 22,
   "id": "cda56500-210f-4d71-8b76-3956624ff820",
   "metadata": {},
   "outputs": [],
   "source": [
    "y = AntibodyRegionSelector(ab_info,x)"
   ]
  },
  {
   "cell_type": "code",
   "execution_count": 23,
   "id": "8263de73-4512-4984-bea6-d17ba8a8ed48",
   "metadata": {},
   "outputs": [
    {
     "data": {
      "text/plain": [
       "vector1_bool[1, 1, 1, 1, 1, 1, 1, 1, 1, 1, 1, 1, 1, 1, 1, 1, 1, 1, 1, 1, 1, 1, 0, 0, 0, 0, 0, 0, 0, 0, 0, 0, 0, 0, 0, 1, 1, 1, 1, 1, 1, 1, 1, 1, 1, 1, 1, 1, 1, 0, 0, 0, 0, 0, 0, 0, 0, 0, 0, 1, 1, 1, 1, 1, 1, 1, 1, 1, 1, 1, 1, 1, 1, 1, 1, 1, 1, 1, 1, 1, 1, 1, 1, 1, 1, 1, 1, 1, 1, 1, 1, 1, 1, 1, 1, 1, 0, 0, 0, 0, 0, 0, 0, 0, 0, 0, 0, 0, 0, 1, 1, 1, 1, 1, 1, 1, 1, 1, 1, 1, 1, 1, 1, 1, 1, 1, 1, 1, 1, 1, 1, 1, 1, 1, 1, 1, 1, 1, 1, 1, 1, 1, 1, 0, 0, 0, 0, 0, 0, 0, 0, 0, 0, 0, 1, 1, 1, 1, 1, 1, 1, 1, 1, 1, 1, 1, 1, 1, 0, 0, 0, 0, 0, 0, 0, 0, 1, 1, 1, 1, 1, 1, 1, 1, 1, 1, 1, 1, 1, 1, 1, 1, 1, 1, 1, 1, 1, 1, 1, 1, 1, 1, 1, 1, 1, 1, 1, 1, 0, 0, 0, 0, 0, 0, 0, 0, 0, 1, 1, 1, 1, 1, 1, 1, 1, 1, 1]"
      ]
     },
     "execution_count": 23,
     "metadata": {},
     "output_type": "execute_result"
    }
   ],
   "source": [
    "y.apply(pose)"
   ]
  },
  {
   "cell_type": "code",
   "execution_count": 24,
   "id": "52320762-49fb-429e-8c10-870647d67b32",
   "metadata": {},
   "outputs": [
    {
     "data": {
      "text/plain": [
       "vector1_bool[0, 0, 0, 0, 0, 0, 0, 0, 0, 0, 0, 0, 0, 0, 0, 0, 0, 0, 0, 0, 0, 0, 1, 1, 1, 1, 1, 1, 1, 1, 1, 1, 1, 1, 1, 0, 0, 0, 0, 0, 0, 0, 0, 0, 0, 0, 0, 0, 0, 1, 1, 1, 1, 1, 1, 1, 1, 1, 1, 0, 0, 0, 0, 0, 0, 0, 0, 0, 0, 0, 0, 0, 0, 0, 0, 0, 0, 0, 0, 0, 0, 0, 0, 0, 0, 0, 0, 0, 0, 0, 0, 0, 0, 0, 0, 0, 1, 1, 1, 1, 1, 1, 1, 1, 1, 1, 1, 1, 1, 0, 0, 0, 0, 0, 0, 0, 0, 0, 0, 0, 0, 0, 0, 0, 0, 0, 0, 0, 0, 0, 0, 0, 0, 0, 0, 0, 0, 0, 0, 0, 0, 0, 0, 1, 1, 1, 1, 1, 1, 1, 1, 1, 1, 1, 0, 0, 0, 0, 0, 0, 0, 0, 0, 0, 0, 0, 0, 0, 1, 1, 1, 1, 1, 1, 1, 1, 0, 0, 0, 0, 0, 0, 0, 0, 0, 0, 0, 0, 0, 0, 0, 0, 0, 0, 0, 0, 0, 0, 0, 0, 0, 0, 0, 0, 0, 0, 0, 0, 1, 1, 1, 1, 1, 1, 1, 1, 1, 0, 0, 0, 0, 0, 0, 0, 0, 0, 0]"
      ]
     },
     "execution_count": 24,
     "metadata": {},
     "output_type": "execute_result"
    }
   ],
   "source": [
    "cdr_selector.apply(pose)"
   ]
  },
  {
   "cell_type": "code",
   "execution_count": 29,
   "id": "65d31dd1-e5cc-4857-844f-4ad038b0ace0",
   "metadata": {},
   "outputs": [
    {
     "data": {
      "text/plain": [
       "array([2, 2, 2, 2, 2, 2, 2, 2, 2, 2, 2, 2, 2, 2, 2, 2, 2, 2, 2, 2, 2, 2,\n",
       "       1, 1, 1, 1, 1, 1, 1, 1, 1, 1, 1, 1, 1, 2, 2, 2, 2, 2, 2, 2, 2, 2,\n",
       "       2, 2, 2, 2, 2, 1, 1, 1, 1, 1, 1, 1, 1, 1, 1, 2, 2, 2, 2, 2, 2, 2,\n",
       "       2, 2, 2, 2, 2, 2, 2, 2, 2, 2, 2, 2, 2, 2, 2, 2, 2, 2, 2, 2, 2, 2,\n",
       "       2, 2, 2, 2, 2, 2, 2, 2, 1, 1, 1, 1, 1, 1, 1, 1, 1, 1, 1, 1, 1, 2,\n",
       "       2, 2, 2, 2, 2, 2, 2, 2, 2, 2, 2, 2, 2, 2, 2, 2, 2, 2, 2, 2, 2, 2,\n",
       "       2, 2, 2, 2, 2, 2, 2, 2, 2, 2, 2, 1, 1, 1, 1, 1, 1, 1, 1, 1, 1, 1,\n",
       "       2, 2, 2, 2, 2, 2, 2, 2, 2, 2, 2, 2, 2, 2, 1, 1, 1, 1, 1, 1, 1, 1,\n",
       "       2, 2, 2, 2, 2, 2, 2, 2, 2, 2, 2, 2, 2, 2, 2, 2, 2, 2, 2, 2, 2, 2,\n",
       "       2, 2, 2, 2, 2, 2, 2, 2, 2, 2, 1, 1, 1, 1, 1, 1, 1, 1, 1, 2, 2, 2,\n",
       "       2, 2, 2, 2, 2, 2, 2])"
      ]
     },
     "execution_count": 29,
     "metadata": {},
     "output_type": "execute_result"
    }
   ],
   "source": [
    "np.array(y.apply(pose),dtype=int)*2 + np.array(cdr_selector.apply(pose),dtype=int)"
   ]
  },
  {
   "cell_type": "code",
   "execution_count": 28,
   "id": "1ee4a752-1592-4e2c-a8b9-cd073efee89b",
   "metadata": {},
   "outputs": [
    {
     "data": {
      "text/plain": [
       "\u001b[0;31mDocstring:\u001b[0m     \n",
       "Members:\n",
       "\n",
       "  antigen_region\n",
       "\n",
       "  cdr_region\n",
       "\n",
       "  framework_region\n",
       "\n",
       "  AntibodyRegionEnum_start\n",
       "\n",
       "  AntibodyRegionEnum_total\n",
       "\n",
       "  unknown_ab_region\n",
       "\u001b[0;31mInit docstring:\u001b[0m __init__(self: pyrosetta.rosetta.protocols.antibody.AntibodyRegionEnum, arg0: int) -> None\n",
       "\u001b[0;31mType:\u001b[0m           pybind11_type\n",
       "\u001b[0;31mSubclasses:\u001b[0m     \n"
      ]
     },
     "metadata": {},
     "output_type": "display_data"
    }
   ],
   "source": [
    "antibody.AntibodyRegionEnum?"
   ]
  },
  {
   "cell_type": "code",
   "execution_count": 24,
   "id": "d6475b78-3d4b-4e79-86e6-957610c0f296",
   "metadata": {},
   "outputs": [],
   "source": [
    "np.savetxt('x.txt',sele,fmt='%d', newline=\" \" , footer='\\n', comments='')"
   ]
  },
  {
   "cell_type": "code",
   "execution_count": 10,
   "id": "674a36ad-8657-4eed-8e3b-44c1decc4d36",
   "metadata": {},
   "outputs": [
    {
     "data": {
      "text/plain": [
       "\u001b[0;31mSignature:\u001b[0m\n",
       "\u001b[0mnp\u001b[0m\u001b[0;34m.\u001b[0m\u001b[0msavetxt\u001b[0m\u001b[0;34m(\u001b[0m\u001b[0;34m\u001b[0m\n",
       "\u001b[0;34m\u001b[0m    \u001b[0mfname\u001b[0m\u001b[0;34m,\u001b[0m\u001b[0;34m\u001b[0m\n",
       "\u001b[0;34m\u001b[0m    \u001b[0mX\u001b[0m\u001b[0;34m,\u001b[0m\u001b[0;34m\u001b[0m\n",
       "\u001b[0;34m\u001b[0m    \u001b[0mfmt\u001b[0m\u001b[0;34m=\u001b[0m\u001b[0;34m'%.18e'\u001b[0m\u001b[0;34m,\u001b[0m\u001b[0;34m\u001b[0m\n",
       "\u001b[0;34m\u001b[0m    \u001b[0mdelimiter\u001b[0m\u001b[0;34m=\u001b[0m\u001b[0;34m' '\u001b[0m\u001b[0;34m,\u001b[0m\u001b[0;34m\u001b[0m\n",
       "\u001b[0;34m\u001b[0m    \u001b[0mnewline\u001b[0m\u001b[0;34m=\u001b[0m\u001b[0;34m'\\n'\u001b[0m\u001b[0;34m,\u001b[0m\u001b[0;34m\u001b[0m\n",
       "\u001b[0;34m\u001b[0m    \u001b[0mheader\u001b[0m\u001b[0;34m=\u001b[0m\u001b[0;34m''\u001b[0m\u001b[0;34m,\u001b[0m\u001b[0;34m\u001b[0m\n",
       "\u001b[0;34m\u001b[0m    \u001b[0mfooter\u001b[0m\u001b[0;34m=\u001b[0m\u001b[0;34m''\u001b[0m\u001b[0;34m,\u001b[0m\u001b[0;34m\u001b[0m\n",
       "\u001b[0;34m\u001b[0m    \u001b[0mcomments\u001b[0m\u001b[0;34m=\u001b[0m\u001b[0;34m'# '\u001b[0m\u001b[0;34m,\u001b[0m\u001b[0;34m\u001b[0m\n",
       "\u001b[0;34m\u001b[0m    \u001b[0mencoding\u001b[0m\u001b[0;34m=\u001b[0m\u001b[0;32mNone\u001b[0m\u001b[0;34m,\u001b[0m\u001b[0;34m\u001b[0m\n",
       "\u001b[0;34m\u001b[0m\u001b[0;34m)\u001b[0m\u001b[0;34m\u001b[0m\u001b[0;34m\u001b[0m\u001b[0m\n",
       "\u001b[0;31mDocstring:\u001b[0m\n",
       "Save an array to a text file.\n",
       "\n",
       "Parameters\n",
       "----------\n",
       "fname : filename or file handle\n",
       "    If the filename ends in ``.gz``, the file is automatically saved in\n",
       "    compressed gzip format.  `loadtxt` understands gzipped files\n",
       "    transparently.\n",
       "X : 1D or 2D array_like\n",
       "    Data to be saved to a text file.\n",
       "fmt : str or sequence of strs, optional\n",
       "    A single format (%10.5f), a sequence of formats, or a\n",
       "    multi-format string, e.g. 'Iteration %d -- %10.5f', in which\n",
       "    case `delimiter` is ignored. For complex `X`, the legal options\n",
       "    for `fmt` are:\n",
       "\n",
       "    * a single specifier, `fmt='%.4e'`, resulting in numbers formatted\n",
       "      like `' (%s+%sj)' % (fmt, fmt)`\n",
       "    * a full string specifying every real and imaginary part, e.g.\n",
       "      `' %.4e %+.4ej %.4e %+.4ej %.4e %+.4ej'` for 3 columns\n",
       "    * a list of specifiers, one per column - in this case, the real\n",
       "      and imaginary part must have separate specifiers,\n",
       "      e.g. `['%.3e + %.3ej', '(%.15e%+.15ej)']` for 2 columns\n",
       "delimiter : str, optional\n",
       "    String or character separating columns.\n",
       "newline : str, optional\n",
       "    String or character separating lines.\n",
       "\n",
       "    .. versionadded:: 1.5.0\n",
       "header : str, optional\n",
       "    String that will be written at the beginning of the file.\n",
       "\n",
       "    .. versionadded:: 1.7.0\n",
       "footer : str, optional\n",
       "    String that will be written at the end of the file.\n",
       "\n",
       "    .. versionadded:: 1.7.0\n",
       "comments : str, optional\n",
       "    String that will be prepended to the ``header`` and ``footer`` strings,\n",
       "    to mark them as comments. Default: '# ',  as expected by e.g.\n",
       "    ``numpy.loadtxt``.\n",
       "\n",
       "    .. versionadded:: 1.7.0\n",
       "encoding : {None, str}, optional\n",
       "    Encoding used to encode the outputfile. Does not apply to output\n",
       "    streams. If the encoding is something other than 'bytes' or 'latin1'\n",
       "    you will not be able to load the file in NumPy versions < 1.14. Default\n",
       "    is 'latin1'.\n",
       "\n",
       "    .. versionadded:: 1.14.0\n",
       "\n",
       "\n",
       "See Also\n",
       "--------\n",
       "save : Save an array to a binary file in NumPy ``.npy`` format\n",
       "savez : Save several arrays into an uncompressed ``.npz`` archive\n",
       "savez_compressed : Save several arrays into a compressed ``.npz`` archive\n",
       "\n",
       "Notes\n",
       "-----\n",
       "Further explanation of the `fmt` parameter\n",
       "(``%[flag]width[.precision]specifier``):\n",
       "\n",
       "flags:\n",
       "    ``-`` : left justify\n",
       "\n",
       "    ``+`` : Forces to precede result with + or -.\n",
       "\n",
       "    ``0`` : Left pad the number with zeros instead of space (see width).\n",
       "\n",
       "width:\n",
       "    Minimum number of characters to be printed. The value is not truncated\n",
       "    if it has more characters.\n",
       "\n",
       "precision:\n",
       "    - For integer specifiers (eg. ``d,i,o,x``), the minimum number of\n",
       "      digits.\n",
       "    - For ``e, E`` and ``f`` specifiers, the number of digits to print\n",
       "      after the decimal point.\n",
       "    - For ``g`` and ``G``, the maximum number of significant digits.\n",
       "    - For ``s``, the maximum number of characters.\n",
       "\n",
       "specifiers:\n",
       "    ``c`` : character\n",
       "\n",
       "    ``d`` or ``i`` : signed decimal integer\n",
       "\n",
       "    ``e`` or ``E`` : scientific notation with ``e`` or ``E``.\n",
       "\n",
       "    ``f`` : decimal floating point\n",
       "\n",
       "    ``g,G`` : use the shorter of ``e,E`` or ``f``\n",
       "\n",
       "    ``o`` : signed octal\n",
       "\n",
       "    ``s`` : string of characters\n",
       "\n",
       "    ``u`` : unsigned decimal integer\n",
       "\n",
       "    ``x,X`` : unsigned hexadecimal integer\n",
       "\n",
       "This explanation of ``fmt`` is not complete, for an exhaustive\n",
       "specification see [1]_.\n",
       "\n",
       "References\n",
       "----------\n",
       ".. [1] `Format Specification Mini-Language\n",
       "       <https://docs.python.org/library/string.html#format-specification-mini-language>`_,\n",
       "       Python Documentation.\n",
       "\n",
       "Examples\n",
       "--------\n",
       ">>> x = y = z = np.arange(0.0,5.0,1.0)\n",
       ">>> np.savetxt('test.out', x, delimiter=',')   # X is an array\n",
       ">>> np.savetxt('test.out', (x,y,z))   # x,y,z equal sized 1D arrays\n",
       ">>> np.savetxt('test.out', x, fmt='%1.4e')   # use exponential notation\n",
       "\u001b[0;31mFile:\u001b[0m      ~/apps/anaconda3/lib/python3.9/site-packages/numpy/lib/npyio.py\n",
       "\u001b[0;31mType:\u001b[0m      function\n"
      ]
     },
     "metadata": {},
     "output_type": "display_data"
    }
   ],
   "source": [
    "np.savetxt?"
   ]
  },
  {
   "cell_type": "code",
   "execution_count": 3,
   "id": "d6a3249e-a38d-40a2-9d40-c4df31bd230b",
   "metadata": {},
   "outputs": [],
   "source": [
    "x = np.array(cdr_selector.apply(pose))"
   ]
  },
  {
   "cell_type": "code",
   "execution_count": 5,
   "id": "9700c3f2-1fac-403e-8814-fe5a4dd1f0a4",
   "metadata": {},
   "outputs": [
    {
     "data": {
      "text/plain": [
       "array([False, False, False, False, False, False, False, False, False,\n",
       "       False, False, False, False, False, False, False, False, False,\n",
       "       False, False, False, False,  True,  True,  True,  True,  True,\n",
       "        True,  True,  True,  True,  True,  True,  True,  True, False,\n",
       "       False, False, False, False, False, False, False, False, False,\n",
       "       False, False, False, False,  True,  True,  True,  True,  True,\n",
       "        True,  True,  True,  True,  True, False, False, False, False,\n",
       "       False, False, False, False, False, False, False, False, False,\n",
       "       False, False, False, False, False, False, False, False, False,\n",
       "       False, False, False, False, False, False, False, False, False,\n",
       "       False, False, False, False, False, False,  True,  True,  True,\n",
       "        True,  True,  True,  True,  True,  True,  True,  True,  True,\n",
       "        True, False, False, False, False, False, False, False, False,\n",
       "       False, False, False, False, False, False, False, False, False,\n",
       "       False, False, False, False, False, False, False, False, False,\n",
       "       False, False, False, False, False, False, False, False,  True,\n",
       "        True,  True,  True,  True,  True,  True,  True,  True,  True,\n",
       "        True, False, False, False, False, False, False, False, False,\n",
       "       False, False, False, False, False, False,  True,  True,  True,\n",
       "        True,  True,  True,  True,  True, False, False, False, False,\n",
       "       False, False, False, False, False, False, False, False, False,\n",
       "       False, False, False, False, False, False, False, False, False,\n",
       "       False, False, False, False, False, False, False, False, False,\n",
       "       False,  True,  True,  True,  True,  True,  True,  True,  True,\n",
       "        True, False, False, False, False, False, False, False, False,\n",
       "       False, False])"
      ]
     },
     "execution_count": 5,
     "metadata": {},
     "output_type": "execute_result"
    }
   ],
   "source": [
    "x"
   ]
  },
  {
   "cell_type": "code",
   "execution_count": 2,
   "id": "dd83681d-42ac-4441-9932-d692add3f928",
   "metadata": {},
   "outputs": [
    {
     "data": {
      "text/plain": [
       "array([ 23,  24,  25,  26,  27,  28,  29,  30,  31,  32,  33,  34,  35,\n",
       "        50,  51,  52,  53,  54,  55,  56,  57,  58,  59,  97,  98,  99,\n",
       "       100, 101, 102, 103, 104, 105, 106, 107, 108, 109, 144, 145, 146,\n",
       "       147, 148, 149, 150, 151, 152, 153, 154, 169, 170, 171, 172, 173,\n",
       "       174, 175, 176, 209, 210, 211, 212, 213, 214, 215, 216, 217])"
      ]
     },
     "execution_count": 2,
     "metadata": {},
     "output_type": "execute_result"
    }
   ],
   "source": [
    "sele"
   ]
  },
  {
   "cell_type": "markdown",
   "id": "90343681-48e3-44ac-8650-9c8bbed9dd0e",
   "metadata": {
    "tags": []
   },
   "source": [
    "# Some exploration with regards to CDR L4,H4"
   ]
  },
  {
   "cell_type": "code",
   "execution_count": null,
   "id": "36d98d3d-c65b-490d-9b7d-0844def7ec95",
   "metadata": {},
   "outputs": [],
   "source": [
    "[py.rosetta.core.conformation.Residue.is_surface(pose.residue(i)) for i in range(1,len(pose.sequence())+1)]"
   ]
  },
  {
   "cell_type": "code",
   "execution_count": 212,
   "id": "cb46de0a-f24e-4cff-9dbb-4c82f0fbc224",
   "metadata": {},
   "outputs": [
    {
     "data": {
      "text/plain": [
       "<pyrosetta.rosetta.basic.datacache.BasicDataCache at 0x7ffb3e5d85f0>"
      ]
     },
     "execution_count": 212,
     "metadata": {},
     "output_type": "execute_result"
    }
   ],
   "source": [
    "pose.residue_data(1)"
   ]
  },
  {
   "cell_type": "code",
   "execution_count": 1,
   "id": "fd030a19-4943-434c-9c52-5967a4c3f3a0",
   "metadata": {},
   "outputs": [
    {
     "name": "stdout",
     "output_type": "stream",
     "text": [
      "PyRosetta-4 2022 [Rosetta PyRosetta4.conda.linux.cxx11thread.serialization.CentOS.python39.Release 2022.37+release.4c51f714cd413ab5625d699da693250e86294a85 2022-09-16T17:05:06] retrieved from: http://www.pyrosetta.org\n",
      "(C) Copyright Rosetta Commons Member Institutions. Created in JHU by Sergey Lyskov and PyRosetta Team.\n",
      "core.init: Checking for fconfig files in pwd and ./rosetta/flags\n",
      "core.init: Rosetta version: PyRosetta4.conda.linux.cxx11thread.serialization.CentOS.python39.Release r330 2022.37+release.4c51f71 4c51f714cd413ab5625d699da693250e86294a85 http://www.pyrosetta.org 2022-09-16T17:05:06\n",
      "core.init: command: PyRosetta -ex1 -ex2aro -database /home/akshay/apps/anaconda3/lib/python3.9/site-packages/pyrosetta/database\n",
      "basic.random.init_random_generator: 'RNG device' seed mode, using '/dev/urandom', seed=-78995210 seed_offset=0 real_seed=-78995210 thread_index=0\n",
      "basic.random.init_random_generator: RandomGenerator:init: Normal mode, seed=-78995210 RG_type=mt19937\n"
     ]
    },
    {
     "name": "stderr",
     "output_type": "stream",
     "text": [
      "/tmp/ipykernel_1795057/688859594.py:4: UserWarning: Import of 'rosetta' as a top-level module is deprecated and may be removed in 2018, import via 'pyrosetta.rosetta'.\n",
      "  from rosetta.protocols.antibody.residue_selector import CDRResidueSelector\n"
     ]
    },
    {
     "name": "stdout",
     "output_type": "stream",
     "text": [
      "core.chemical.GlobalResidueTypeSet: Finished initializing fa_standard residue type set.  Created 985 residue types\n",
      "core.chemical.GlobalResidueTypeSet: Total time to initialize 0.91407 seconds.\n",
      "core.import_pose.import_pose: File '2FJG_fv_chothia.pdb' automatically determined to be of type PDB\n",
      "core.conformation.Conformation: [ WARNING ] missing heavyatom:  OXT on residue LYS:CtermProteinFull 107\n",
      "core.conformation.Conformation: [ WARNING ] missing heavyatom:  OXT on residue SER:CtermProteinFull 227\n",
      "core.conformation.Conformation: Found disulfide between residues 23 88\n",
      "core.conformation.Conformation: current variant for 23 CYS\n",
      "core.conformation.Conformation: current variant for 88 CYS\n",
      "core.conformation.Conformation: current variant for 23 CYD\n",
      "core.conformation.Conformation: current variant for 88 CYD\n",
      "core.conformation.Conformation: Found disulfide between residues 129 203\n",
      "core.conformation.Conformation: current variant for 129 CYS\n",
      "core.conformation.Conformation: current variant for 203 CYS\n",
      "core.conformation.Conformation: current variant for 129 CYD\n",
      "core.conformation.Conformation: current variant for 203 CYD\n",
      "basic.io.database: Database file opened: sampling/antibodies/cluster_center_dihedrals.txt\n",
      "protocols.antibody.AntibodyNumberingParser: Antibody numbering scheme definitions read successfully\n",
      "protocols.antibody.AntibodyNumberingParser: Antibody CDR definition read successfully\n",
      "antibody.AntibodyInfo: Successfully finished the CDR definition\n",
      "antibody.AntibodyInfo: AC Detecting Regular CDR H3 Stem Type\n",
      "antibody.AntibodyInfo: ARFVFFLPYAMDYW\n",
      "antibody.AntibodyInfo: AC Finished Detecting Regular CDR H3 Stem Type: KINKED\n",
      "antibody.AntibodyInfo: AC Finished Detecting Regular CDR H3 Stem Type: Kink: 1 Extended: 0\n",
      "antibody.AntibodyInfo: Setting up CDR Cluster for H1\n",
      "protocols.antibody.cluster.CDRClusterMatcher: Length: 13 Omega: TTTTTTTTTTTTT\n",
      "antibody.AntibodyInfo: Setting up CDR Cluster for H2\n",
      "protocols.antibody.cluster.CDRClusterMatcher: Length: 10 Omega: TTTTTTTTTT\n",
      "antibody.AntibodyInfo: Setting up CDR Cluster for H3\n",
      "protocols.antibody.cluster.CDRClusterMatcher: Length: 13 Omega: TTTTTTTTTTTTT\n",
      "antibody.AntibodyInfo: Setting up CDR Cluster for L1\n",
      "protocols.antibody.cluster.CDRClusterMatcher: Length: 11 Omega: TTTTTTTTTTT\n",
      "antibody.AntibodyInfo: Setting up CDR Cluster for L2\n",
      "protocols.antibody.cluster.CDRClusterMatcher: Length: 8 Omega: TTTTTTTT\n",
      "antibody.AntibodyInfo: Setting up CDR Cluster for L3\n",
      "protocols.antibody.cluster.CDRClusterMatcher: Length: 9 Omega: TTTTTTCTT\n"
     ]
    }
   ],
   "source": [
    "import pyrosetta as py\n",
    "import numpy as np\n",
    "from pyrosetta.rosetta.protocols import antibody\n",
    "from rosetta.protocols.antibody.residue_selector import CDRResidueSelector\n",
    "py.init()\n",
    "\n",
    "pose = py.pose_from_pdb('2FJG_fv_chothia.pdb')\n",
    "ab_info = antibody.AntibodyInfo(pose, antibody.Chothia_Scheme, antibody.North)"
   ]
  },
  {
   "cell_type": "code",
   "execution_count": 2,
   "id": "0af06d6c-982c-4b26-8258-2cbc3170f2b7",
   "metadata": {},
   "outputs": [
    {
     "data": {
      "text/plain": [
       "<CDRNameEnum.proto_l4: 8>"
      ]
     },
     "execution_count": 2,
     "metadata": {},
     "output_type": "execute_result"
    }
   ],
   "source": [
    "antibody.CDRNameEnum.L4"
   ]
  },
  {
   "cell_type": "code",
   "execution_count": 7,
   "id": "e12bc601-7ada-461f-a822-8d7ade059208",
   "metadata": {},
   "outputs": [
    {
     "ename": "TypeError",
     "evalue": "get_CDR_sequence_with_stem(): incompatible function arguments. The following argument types are supported:\n    1. (self: pyrosetta.rosetta.protocols.antibody.AntibodyInfo, cdr_name: pyrosetta.rosetta.protocols.antibody.CDRNameEnum) -> str\n    2. (self: pyrosetta.rosetta.protocols.antibody.AntibodyInfo, cdr_name: pyrosetta.rosetta.protocols.antibody.CDRNameEnum, left_stem: int) -> str\n    3. (self: pyrosetta.rosetta.protocols.antibody.AntibodyInfo, cdr_name: pyrosetta.rosetta.protocols.antibody.CDRNameEnum, left_stem: int, right_stem: int) -> str\n    4. (self: pyrosetta.rosetta.protocols.antibody.AntibodyInfo, cdr_name: pyrosetta.rosetta.protocols.antibody.CDRNameEnum, pose: pyrosetta.rosetta.core.pose.Pose) -> str\n    5. (self: pyrosetta.rosetta.protocols.antibody.AntibodyInfo, cdr_name: pyrosetta.rosetta.protocols.antibody.CDRNameEnum, pose: pyrosetta.rosetta.core.pose.Pose, left_stem: int) -> str\n    6. (self: pyrosetta.rosetta.protocols.antibody.AntibodyInfo, cdr_name: pyrosetta.rosetta.protocols.antibody.CDRNameEnum, pose: pyrosetta.rosetta.core.pose.Pose, left_stem: int, right_stem: int) -> str\n    7. (self: pyrosetta.rosetta.protocols.antibody.AntibodyInfo, cdr_name: pyrosetta.rosetta.protocols.antibody.CDRNameEnum, pose: pyrosetta.rosetta.core.pose.Pose, left_stem: int, right_stem: int, transform: pyrosetta.rosetta.protocols.antibody.CDRDefinitionEnum) -> str\n\nInvoked with: <pyrosetta.rosetta.protocols.antibody.AntibodyInfo object at 0x7fa4c8a14270>, <property object at 0x7fa4d78f7db0>",
     "output_type": "error",
     "traceback": [
      "\u001b[0;31m---------------------------------------------------------------------------\u001b[0m",
      "\u001b[0;31mTypeError\u001b[0m                                 Traceback (most recent call last)",
      "Input \u001b[0;32mIn [7]\u001b[0m, in \u001b[0;36m<cell line: 1>\u001b[0;34m()\u001b[0m\n\u001b[0;32m----> 1\u001b[0m \u001b[43mab_info\u001b[49m\u001b[38;5;241;43m.\u001b[39;49m\u001b[43mget_CDR_sequence_with_stem\u001b[49m\u001b[43m(\u001b[49m\u001b[43mantibody\u001b[49m\u001b[38;5;241;43m.\u001b[39;49m\u001b[43mCDRNameEnum\u001b[49m\u001b[38;5;241;43m.\u001b[39;49m\u001b[43mname\u001b[49m\u001b[43m)\u001b[49m\n",
      "\u001b[0;31mTypeError\u001b[0m: get_CDR_sequence_with_stem(): incompatible function arguments. The following argument types are supported:\n    1. (self: pyrosetta.rosetta.protocols.antibody.AntibodyInfo, cdr_name: pyrosetta.rosetta.protocols.antibody.CDRNameEnum) -> str\n    2. (self: pyrosetta.rosetta.protocols.antibody.AntibodyInfo, cdr_name: pyrosetta.rosetta.protocols.antibody.CDRNameEnum, left_stem: int) -> str\n    3. (self: pyrosetta.rosetta.protocols.antibody.AntibodyInfo, cdr_name: pyrosetta.rosetta.protocols.antibody.CDRNameEnum, left_stem: int, right_stem: int) -> str\n    4. (self: pyrosetta.rosetta.protocols.antibody.AntibodyInfo, cdr_name: pyrosetta.rosetta.protocols.antibody.CDRNameEnum, pose: pyrosetta.rosetta.core.pose.Pose) -> str\n    5. (self: pyrosetta.rosetta.protocols.antibody.AntibodyInfo, cdr_name: pyrosetta.rosetta.protocols.antibody.CDRNameEnum, pose: pyrosetta.rosetta.core.pose.Pose, left_stem: int) -> str\n    6. (self: pyrosetta.rosetta.protocols.antibody.AntibodyInfo, cdr_name: pyrosetta.rosetta.protocols.antibody.CDRNameEnum, pose: pyrosetta.rosetta.core.pose.Pose, left_stem: int, right_stem: int) -> str\n    7. (self: pyrosetta.rosetta.protocols.antibody.AntibodyInfo, cdr_name: pyrosetta.rosetta.protocols.antibody.CDRNameEnum, pose: pyrosetta.rosetta.core.pose.Pose, left_stem: int, right_stem: int, transform: pyrosetta.rosetta.protocols.antibody.CDRDefinitionEnum) -> str\n\nInvoked with: <pyrosetta.rosetta.protocols.antibody.AntibodyInfo object at 0x7fa4c8a14270>, <property object at 0x7fa4d78f7db0>"
     ]
    }
   ],
   "source": [
    "ab_info.get_CDR_sequence_with_stem(antibody.CDRNameEnum.num_cdr_loops)"
   ]
  },
  {
   "cell_type": "code",
   "execution_count": 19,
   "id": "d1c61120-0e91-4cd3-8f5b-8825d536d42c",
   "metadata": {},
   "outputs": [
    {
     "data": {
      "text/plain": [
       "vector1_double[14.3172, 97.3108, 98.8773, -46.9145]"
      ]
     },
     "execution_count": 19,
     "metadata": {},
     "output_type": "execute_result"
    }
   ],
   "source": [
    "antibody.vl_vh_orientation_coords(pose, ab_info)"
   ]
  },
  {
   "cell_type": "code",
   "execution_count": 16,
   "id": "d77862c9-bfe4-48a2-9010-a8c1c8c52a44",
   "metadata": {},
   "outputs": [
    {
     "data": {
      "text/plain": [
       "pyrosetta.rosetta.core.pose.Pose"
      ]
     },
     "execution_count": 16,
     "metadata": {},
     "output_type": "execute_result"
    }
   ],
   "source": [
    "type(pose)"
   ]
  },
  {
   "cell_type": "code",
   "execution_count": null,
   "id": "0209f8b2-778e-491a-8880-68b9e3bec540",
   "metadata": {},
   "outputs": [],
   "source": []
  }
 ],
 "metadata": {
  "kernelspec": {
   "display_name": "Python 3 (ipykernel)",
   "language": "python",
   "name": "python3"
  },
  "language_info": {
   "codemirror_mode": {
    "name": "ipython",
    "version": 3
   },
   "file_extension": ".py",
   "mimetype": "text/x-python",
   "name": "python",
   "nbconvert_exporter": "python",
   "pygments_lexer": "ipython3",
   "version": "3.9.12"
  },
  "toc-autonumbering": true
 },
 "nbformat": 4,
 "nbformat_minor": 5
}
