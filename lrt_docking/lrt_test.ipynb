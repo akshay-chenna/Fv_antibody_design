{
 "cells": [
  {
   "cell_type": "markdown",
   "id": "5796ac30-1aee-416b-ae63-b7db8e4eb427",
   "metadata": {
    "tags": []
   },
   "source": [
    "# Force calculations functionally (faster)\n",
    "* See 1_native/lrt.ipynb for other codes (such as analytical expression)"
   ]
  },
  {
   "cell_type": "code",
   "execution_count": 1,
   "id": "1eb67e75-54b1-4101-97f9-d5a314efa9fc",
   "metadata": {},
   "outputs": [],
   "source": [
    "import glob\n",
    "import numpy as np\n",
    "import MDAnalysis as mda\n",
    "import matplotlib.pyplot as plt\n",
    "from scipy.optimize import curve_fit"
   ]
  },
  {
   "cell_type": "code",
   "execution_count": 2,
   "id": "a82a7dd6-0ec3-46b1-b6dc-62ee573e9ea6",
   "metadata": {},
   "outputs": [],
   "source": [
    "def load_data(file_list):\n",
    "    dg_files = glob.glob(file_list)\n",
    "    data = np.concatenate([np.genfromtxt(file, skip_header=1) for file in dg_files])\n",
    "    data = data[np.argsort(data[:,0])]\n",
    "    return data"
   ]
  },
  {
   "cell_type": "code",
   "execution_count": 3,
   "id": "d1da81f4-ffdd-4f73-b7d0-b944a637ba3f",
   "metadata": {},
   "outputs": [],
   "source": [
    "mm = load_data('mmpbsa_g/*mm*dat')\n",
    "pol = load_data('mmpbsa_g/*_pol*dat')\n",
    "apol = load_data('mmpbsa_g/*_apol*dat')\n",
    "\n",
    "mmpbsa = mm+pol+apol\n",
    "mmpbsa[:,0] = mmpbsa[:,0]/3"
   ]
  },
  {
   "cell_type": "code",
   "execution_count": 4,
   "id": "40edc0f3-ef75-4faf-8629-9e9afb32d0b2",
   "metadata": {},
   "outputs": [],
   "source": [
    "u = mda.Universe('mdframe.pdb','md_corrected.xtc')\n",
    "antibody = u.select_atoms('chainID A or chainID B')\n",
    "mmpbsa = mmpbsa[:,1:antibody.n_residues+1]"
   ]
  },
  {
   "cell_type": "code",
   "execution_count": 5,
   "id": "163706c4-f364-4e1c-a5fb-0d698d6f7510",
   "metadata": {},
   "outputs": [],
   "source": [
    "ab_cb = u.select_atoms('(chainID A or chainID B) and (name CA)')\n",
    "an_interface = u.select_atoms('(around 5 ((chainID A or chainID B) and not (name H* or name [1-9]H*)))')\n",
    "\n",
    "relative_positions = []\n",
    "for _ in u.trajectory[-101:]:\n",
    "    relative_positions.append(ab_cb.positions - an_interface.center_of_mass())\n",
    "relative_positions = np.delete(relative_positions,0,0)\n",
    "mean_pos = np.mean(relative_positions, axis=0)"
   ]
  },
  {
   "cell_type": "code",
   "execution_count": 6,
   "id": "2fd9720c-e7e7-4f1e-8408-df9b0159ffe9",
   "metadata": {},
   "outputs": [],
   "source": [
    "def quadratic_hypersurface(P, a, b, c, d, e, f, g, h,i, j):\n",
    "    x, y, z = P\n",
    "    return  a + b*x + c*y + d*z + e*x**2 + f*y**2 + g*z**2 + h*x*y + i*y*z + j*z*x\n",
    "\n",
    "def func_forces(positions, mmpbsa, mean_pos):\n",
    "    \n",
    "    coeff, _ = curve_fit(quadratic_hypersurface, positions.T, mmpbsa)\n",
    "    \n",
    "    def dgx(P):\n",
    "        x, y, z = P\n",
    "        return -1*(coeff[1]+2*coeff[4]*x + coeff[7]*y + coeff[9]*z)\n",
    "    def dgy(P):\n",
    "        x, y, z = P\n",
    "        return -1*(coeff[2]+2*coeff[5]*y + coeff[7]*x + coeff[8]*z)\n",
    "    def dgz(P):\n",
    "        x, y, z = P\n",
    "        return -1*(coeff[3]+2*coeff[6]*z + coeff[8]*y + coeff[9]*x)\n",
    "    \n",
    "    return np.stack((dgx(mean_pos),dgy(mean_pos),dgz(mean_pos)))"
   ]
  },
  {
   "cell_type": "code",
   "execution_count": 7,
   "id": "ec87e773-fb93-41a1-b80e-35b003743541",
   "metadata": {},
   "outputs": [
    {
     "name": "stdout",
     "output_type": "stream",
     "text": [
      "CPU times: user 208 ms, sys: 0 ns, total: 208 ms\n",
      "Wall time: 207 ms\n"
     ]
    }
   ],
   "source": [
    "%%time\n",
    "forces2 = np.array([func_forces(relative_positions[:,i,:], mmpbsa[:,i], mean_pos[i]) for i in range(antibody.n_residues)])"
   ]
  },
  {
   "cell_type": "code",
   "execution_count": 8,
   "id": "81b59049-2616-4034-a875-dd0ecbfdb22f",
   "metadata": {},
   "outputs": [
    {
     "data": {
      "text/plain": [
       "array([1.74998583e-04, 5.02912900e-04, 4.72327408e-06])"
      ]
     },
     "execution_count": 8,
     "metadata": {},
     "output_type": "execute_result"
    }
   ],
   "source": [
    "np.abs(forces2).min(axis=0)"
   ]
  },
  {
   "cell_type": "code",
   "execution_count": 9,
   "id": "8d8604e0-216a-4f43-af59-abd74c22c01d",
   "metadata": {},
   "outputs": [
    {
     "data": {
      "text/plain": [
       "array([8.16318837, 3.44135264, 7.19709161])"
      ]
     },
     "execution_count": 9,
     "metadata": {},
     "output_type": "execute_result"
    }
   ],
   "source": [
    "np.abs(forces2).max(axis=0)"
   ]
  },
  {
   "cell_type": "markdown",
   "id": "b0acd9f2-5258-4808-ab4c-bc5ea2da93b6",
   "metadata": {},
   "source": [
    "* Units of force: $\\frac{kJ}{mol \\cdot \\AA}$"
   ]
  },
  {
   "cell_type": "markdown",
   "id": "4b05ce01-2065-49fa-874c-8e0c5e292ec6",
   "metadata": {
    "tags": []
   },
   "source": [
    "# Construction of antibody ANM"
   ]
  },
  {
   "cell_type": "markdown",
   "id": "12a06696-2006-4f9c-86e3-444c81e5c7a0",
   "metadata": {},
   "source": [
    "## Manual ENM model building"
   ]
  },
  {
   "cell_type": "code",
   "execution_count": 10,
   "id": "566b86b6-faf7-4ce7-8155-41c7fe37f03a",
   "metadata": {},
   "outputs": [],
   "source": [
    "import numpy as np\n",
    "import MDAnalysis as mda\n",
    "import matplotlib.pyplot as plt\n",
    "from scipy.stats import pearsonr\n",
    "from scipy.spatial import distance\n",
    "from MDAnalysis.analysis import distances\n",
    "from scipy.linalg import fractional_matrix_power"
   ]
  },
  {
   "cell_type": "code",
   "execution_count": 11,
   "id": "d008b980-461f-4d4f-bade-c190fb2df1c3",
   "metadata": {},
   "outputs": [
    {
     "name": "stderr",
     "output_type": "stream",
     "text": [
      "/tmp/ipykernel_2449010/50439137.py:10: RuntimeWarning: divide by zero encountered in power\n",
      "  distance_map = distance_map**-2\n"
     ]
    }
   ],
   "source": [
    "u = mda.Universe('mdframe_solute.pdb','mdframe_solute.pdb')\n",
    "antibody_CA = u.select_atoms('(chainID A or chainID B) and name CA')\n",
    "n_CA = len(antibody_CA)\n",
    "positions = antibody_CA.positions/10 # In nano meters\n",
    "\n",
    "cutoff = 1.2 # In nanometers\n",
    "distance_map = distance.cdist(positions,positions)\n",
    "distance_map = np.repeat(np.repeat(distance_map,3,axis=1),3,axis=0)\n",
    "distance_map[distance_map>cutoff] = 0\n",
    "distance_map = distance_map**-2\n",
    "distance_map[distance_map == np.inf] = 0"
   ]
  },
  {
   "cell_type": "code",
   "execution_count": 12,
   "id": "af1c5c76-38e9-46be-b24b-443223b8546a",
   "metadata": {},
   "outputs": [],
   "source": [
    "xx_distance_map = distance.cdist(positions[:,0].reshape(-1,1),positions[:,0].reshape(-1,1), lambda u, v: u-v)\n",
    "yy_distance_map = distance.cdist(positions[:,1].reshape(-1,1),positions[:,1].reshape(-1,1), lambda u, v: u-v)\n",
    "zz_distance_map = distance.cdist(positions[:,2].reshape(-1,1),positions[:,2].reshape(-1,1), lambda u, v: u-v)"
   ]
  },
  {
   "cell_type": "code",
   "execution_count": 13,
   "id": "40c9e18d-5862-493f-b55d-0b0c1910a365",
   "metadata": {},
   "outputs": [],
   "source": [
    "gamma = 1\n",
    "S = np.zeros((n_CA*3, n_CA*3))\n",
    "S[::3,::3] = xx_distance_map * xx_distance_map\n",
    "S[1::3,1::3] = yy_distance_map * yy_distance_map\n",
    "S[2::3,2::3] = zz_distance_map * zz_distance_map\n",
    "S[::3,1::3] = xx_distance_map * yy_distance_map\n",
    "S[::3,2::3] = xx_distance_map * zz_distance_map\n",
    "S[1::3,2::3] = yy_distance_map * zz_distance_map\n",
    "S = distance_map * S"
   ]
  },
  {
   "cell_type": "code",
   "execution_count": 20,
   "id": "6550b462-d482-4337-916d-fab5c991abd7",
   "metadata": {},
   "outputs": [],
   "source": [
    "for i in range(n_CA):\n",
    "    S[i*3+0,i*3+0] = -1*np.sum(S[i*3+0,0::3])\n",
    "    S[i*3+1,i*3+1] = -1*np.sum(S[i*3+1,1::3])\n",
    "    S[i*3+2,i*3+2] = -1*np.sum(S[i*3+2,2::3])\n",
    "    S[i*3+0,i*3+1] = -1*np.sum(S[i*3+0,1::3])\n",
    "    S[i*3+1,i*3+0] = -1*np.sum(S[i*3+0,1::3])\n",
    "    S[i*3+0,i*3+2] = -1*np.sum(S[i*3+0,2::3])\n",
    "    S[i*3+2,i*3+0] = -1*np.sum(S[i*3+0,2::3])\n",
    "    S[i*3+1,i*3+2] = -1*np.sum(S[i*3+1,2::3])\n",
    "    S[i*3+2,i*3+1] = -1*np.sum(S[i*3+1,2::3])"
   ]
  },
  {
   "cell_type": "code",
   "execution_count": 21,
   "id": "54c4b233-cd10-4ddb-b306-cec21c594170",
   "metadata": {},
   "outputs": [],
   "source": [
    "H = -1*gamma*S"
   ]
  },
  {
   "cell_type": "code",
   "execution_count": 32,
   "id": "1585b031-e87e-4fb0-ae1a-4b53ae12b812",
   "metadata": {},
   "outputs": [
    {
     "data": {
      "text/plain": [
       "<matplotlib.image.AxesImage at 0x7f41d46220d0>"
      ]
     },
     "execution_count": 32,
     "metadata": {},
     "output_type": "execute_result"
    },
    {
     "data": {
      "image/png": "[encoded data removed]",
      "text/plain": [
       "<Figure size 864x648 with 1 Axes>"
      ]
     },
     "metadata": {
      "needs_background": "light"
     },
     "output_type": "display_data"
    }
   ],
   "source": [
    "plt.figure(figsize=(12,9))\n",
    "tf = np.isclose(H,He, atol=0.5)\n",
    "plt.imshow(tf)"
   ]
  },
  {
   "cell_type": "code",
   "execution_count": 257,
   "id": "fe4ae43d-ec91-4fdb-b1f7-8c7bfeb203a0",
   "metadata": {},
   "outputs": [
    {
     "ename": "UFuncTypeError",
     "evalue": "Cannot cast ufunc 'add' output from dtype('complex128') to dtype('float64') with casting rule 'same_kind'",
     "output_type": "error",
     "traceback": [
      "\u001b[0;31m---------------------------------------------------------------------------\u001b[0m",
      "\u001b[0;31mUFuncTypeError\u001b[0m                            Traceback (most recent call last)",
      "Input \u001b[0;32mIn [257]\u001b[0m, in \u001b[0;36m<cell line: 11>\u001b[0;34m()\u001b[0m\n\u001b[1;32m     10\u001b[0m C \u001b[38;5;241m=\u001b[39m np\u001b[38;5;241m.\u001b[39mzeros((np\u001b[38;5;241m.\u001b[39mshape(H_m)))\n\u001b[1;32m     11\u001b[0m \u001b[38;5;28;01mfor\u001b[39;00m i \u001b[38;5;129;01min\u001b[39;00m \u001b[38;5;28mrange\u001b[39m(\u001b[38;5;28mlen\u001b[39m(v)\u001b[38;5;241m-\u001b[39m\u001b[38;5;241m6\u001b[39m):\n\u001b[0;32m---> 12\u001b[0m     C  \u001b[38;5;241m+\u001b[39m\u001b[38;5;241m=\u001b[39m np\u001b[38;5;241m.\u001b[39mouter(U[:,i\u001b[38;5;241m+\u001b[39m\u001b[38;5;241m6\u001b[39m], U[:,i\u001b[38;5;241m+\u001b[39m\u001b[38;5;241m6\u001b[39m])\u001b[38;5;241m/\u001b[39mv[i\u001b[38;5;241m+\u001b[39m\u001b[38;5;241m6\u001b[39m]\n\u001b[1;32m     13\u001b[0m C \u001b[38;5;241m=\u001b[39m RT\u001b[38;5;241m*\u001b[39mC\n\u001b[1;32m     15\u001b[0m sq_fluctuations \u001b[38;5;241m=\u001b[39m np\u001b[38;5;241m.\u001b[39mdiag(C)\u001b[38;5;241m.\u001b[39mreshape(\u001b[38;5;241m-\u001b[39m\u001b[38;5;241m1\u001b[39m,\u001b[38;5;241m3\u001b[39m)\u001b[38;5;241m.\u001b[39msum(axis\u001b[38;5;241m=\u001b[39m\u001b[38;5;241m1\u001b[39m)\n",
      "\u001b[0;31mUFuncTypeError\u001b[0m: Cannot cast ufunc 'add' output from dtype('complex128') to dtype('float64') with casting rule 'same_kind'"
     ]
    }
   ],
   "source": [
    "[v, U_m] = np.linalg.eig(H_m)\n",
    "U_m = U_m[:,np.argsort(v)]\n",
    "v = v[np.argsort(v)]\n",
    "U = M_f @ U_m\n",
    "for i in range(len(U_m)):\n",
    "    U[:,i] = U[:,i]/np.linalg.norm(U[:,i])\n",
    "\n",
    "RT = 310*8.314/1000\n",
    "\n",
    "C = np.zeros((np.shape(H_m)))\n",
    "for i in range(len(v)-6):\n",
    "    C  += np.outer(U[:,i+6], U[:,i+6])/v[i+6]\n",
    "C = RT*C\n",
    "\n",
    "sq_fluctuations = np.diag(C).reshape(-1,3).sum(axis=1)\n",
    "fluctuations = np.sqrt(sq_fluctuations)\n",
    "\n",
    "rmsf_L = np.genfromtxt('rmsf_chL.xvg')[:,1]\n",
    "rmsf_H = np.genfromtxt('rmsf_chH.xvg')[:,1]\n",
    "rmsf = np.hstack((rmsf_L,rmsf_H))*10\n",
    "\n",
    "plt.plot(fluctuations)\n",
    "plt.plot(rmsf)\n",
    "\n",
    "corr, _ = pearsonr(rmsf, fluctuations)\n",
    "print('Pearson corr coeff =', corr)\n",
    "\n",
    "scale = (sq_fluctuations.mean()/rmsf.mean()**2)\n",
    "print('The scale (kJ/A^2)is:', scale)"
   ]
  },
  {
   "cell_type": "markdown",
   "id": "158387d1-1b22-46cb-ba69-9d48e3650f05",
   "metadata": {},
   "source": [
    "## Semi-Manual ENM model building"
   ]
  },
  {
   "cell_type": "code",
   "execution_count": 1,
   "id": "18840cf4-c4f8-4f0b-b41b-90ac84f653e1",
   "metadata": {},
   "outputs": [
    {
     "name": "stderr",
     "output_type": "stream",
     "text": [
      "@> 96585 atoms and 1 coordinate set(s) were parsed in 0.84s.\n",
      "@> Hessian was built in 0.04s.\n"
     ]
    },
    {
     "name": "stdout",
     "output_type": "stream",
     "text": [
      "Pearson corr coeff = 0.6712106803338982\n",
      "The scale (kJ/A^2)is: 0.26169070273952894\n"
     ]
    },
    {
     "data": {
      "image/png": "[encoded data removed]",
      "text/plain": [
       "<Figure size 432x288 with 1 Axes>"
      ]
     },
     "metadata": {
      "needs_background": "light"
     },
     "output_type": "display_data"
    }
   ],
   "source": [
    "from prody import *\n",
    "from pylab import *\n",
    "import Bio.PDB\n",
    "import matplotlib.pyplot as plt\n",
    "from scipy.stats import pearsonr\n",
    "from scipy.linalg import fractional_matrix_power\n",
    "\n",
    "pdb = 'mdframe.pdb'\n",
    "structure = parsePDB(pdb)\n",
    "\n",
    "calphas = structure.select('chid A B and calpha')\n",
    "\n",
    "anm = ANM('Fv')\n",
    "scale = 1\n",
    "anm.buildHessian(calphas, cutoff=12, gamma=1.0*scale)\n",
    "He = anm.getHessian()\n",
    "\n",
    "h = HierView(calphas)\n",
    "residue_mass = []\n",
    "for i in range(len(calphas)):\n",
    "    x = np.where(structure.getResindices()==i)[0]\n",
    "    residue_mass.append(Residue(structure,x,h).getMasses().sum())\n",
    "residue_mass = np.repeat(residue_mass,3)\n",
    "residue_mass = residue_mass/1000\n",
    "\n",
    "M = np.diag(residue_mass)\n",
    "M_f = fractional_matrix_power(M,-0.5)\n",
    "H_m = (M_f@He)@M_f\n",
    "\n",
    "[v, U_m] = np.linalg.eig(H_m)\n",
    "U_m = U_m[:,np.argsort(v)]\n",
    "v = v[np.argsort(v)]\n",
    "U = M_f @ U_m\n",
    "for i in range(len(U_m)):\n",
    "    U[:,i] = U[:,i]/np.linalg.norm(U[:,i])\n",
    "\n",
    "RT = 310*8.314/1000\n",
    "\n",
    "C = np.zeros((np.shape(H_m)))\n",
    "for i in range(len(v)-6):\n",
    "    C  += np.outer(U[:,i+6], U[:,i+6])/v[i+6]\n",
    "C = RT*C\n",
    "\n",
    "sq_fluctuations = np.diag(C).reshape(-1,3).sum(axis=1)\n",
    "fluctuations = np.sqrt(sq_fluctuations)\n",
    "\n",
    "rmsf_L = np.genfromtxt('rmsf_chL.xvg')[:,1]\n",
    "rmsf_H = np.genfromtxt('rmsf_chH.xvg')[:,1]\n",
    "rmsf = np.hstack((rmsf_L,rmsf_H))*10\n",
    "\n",
    "plt.plot(fluctuations)\n",
    "plt.plot(rmsf)\n",
    "\n",
    "corr, _ = pearsonr(rmsf, fluctuations)\n",
    "print('Pearson corr coeff =', corr)\n",
    "\n",
    "scale = (sq_fluctuations.mean()/rmsf.mean()**2)\n",
    "print('The scale (kJ/A^2)is:', scale)"
   ]
  },
  {
   "cell_type": "markdown",
   "id": "ef108423-fe65-43aa-bad5-7ad257811e21",
   "metadata": {},
   "source": [
    "Typically $\\Gamma \\in \\text{(100, 10000)} \\frac{kJ}{nm^2} $"
   ]
  },
  {
   "cell_type": "code",
   "execution_count": 11,
   "id": "05a02f6e-f505-4f5a-95a7-b428f0cea2a3",
   "metadata": {},
   "outputs": [
    {
     "name": "stderr",
     "output_type": "stream",
     "text": [
      "@> Hessian was built in 0.04s.\n"
     ]
    },
    {
     "name": "stdout",
     "output_type": "stream",
     "text": [
      "Scale 0.9685486555428583\n"
     ]
    },
    {
     "data": {
      "image/png": "[encoded data removed]",
      "text/plain": [
       "<Figure size 432x288 with 1 Axes>"
      ]
     },
     "metadata": {
      "needs_background": "light"
     },
     "output_type": "display_data"
    }
   ],
   "source": [
    "anm.buildHessian(calphas, cutoff=12, gamma=1.0*scale)\n",
    "H = anm.getHessian().round(3)\n",
    "\n",
    "H_m = (M_f@H)@M_f\n",
    "\n",
    "[v, U_m] = np.linalg.eig(H_m)\n",
    "U_m = U_m[:,np.argsort(v)]\n",
    "v = v[np.argsort(v)]\n",
    "U = M_f @ U_m\n",
    "for i in range(len(U_m)):\n",
    "    U[:,i] = U[:,i]/np.linalg.norm(U[:,i])\n",
    "\n",
    "C = np.zeros((np.shape(H_m)))\n",
    "for i in range(len(v)-6):\n",
    "    C  += np.outer(U[:,i+6], U[:,i+6])/v[i+6]\n",
    "C = RT*C\n",
    "\n",
    "sq_fluctuations = np.diag(C).reshape(-1,3).sum(axis=1)\n",
    "fluctuations = np.sqrt(sq_fluctuations)\n",
    "\n",
    "plt.plot(fluctuations)\n",
    "plt.plot(rmsf)\n",
    "\n",
    "scale = fluctuations.mean()/rmsf.mean()\n",
    "print('Scale', scale)"
   ]
  },
  {
   "cell_type": "markdown",
   "id": "5c52b178-85c1-43e3-a1c4-b06657fb71ba",
   "metadata": {
    "tags": []
   },
   "source": [
    "# Linear response"
   ]
  },
  {
   "cell_type": "code",
   "execution_count": 19,
   "id": "b95bca97-a6b3-4f31-9632-6799b0fae6f7",
   "metadata": {},
   "outputs": [],
   "source": [
    "d_lrt = C @ forces2.flatten() # This computes the direction\n",
    "d_lrt = fractional_matrix_power(M,0.5) @ d_lrt\n",
    "d_lrt = d_lrt / np.linalg.norm(d_lrt)\n",
    "O_lrt = np.dot(d_lrt, U_m) # This computes the column-wise dot product"
   ]
  },
  {
   "cell_type": "code",
   "execution_count": 20,
   "id": "5a82cdbb-2479-41b6-8787-16a8233583e0",
   "metadata": {},
   "outputs": [
    {
     "data": {
      "text/plain": [
       "1.0000000000000049"
      ]
     },
     "execution_count": 20,
     "metadata": {},
     "output_type": "execute_result"
    }
   ],
   "source": [
    "np.linalg.norm(O_lrt)"
   ]
  },
  {
   "cell_type": "code",
   "execution_count": 21,
   "id": "a7050fc6-af20-4c78-a90f-19e07fce7b2b",
   "metadata": {},
   "outputs": [
    {
     "data": {
      "text/plain": [
       "Text(0.5, 0, '$\\\\omega$')"
      ]
     },
     "execution_count": 21,
     "metadata": {},
     "output_type": "execute_result"
    },
    {
     "data": {
      "image/png": "[encoded data removed]",
      "text/plain": [
       "<Figure size 432x288 with 1 Axes>"
      ]
     },
     "metadata": {
      "needs_background": "light"
     },
     "output_type": "display_data"
    }
   ],
   "source": [
    "plt.plot((O_lrt),'.')\n",
    "plt.ylabel('Mode overlap')\n",
    "plt.xlabel(r'$\\omega$')"
   ]
  },
  {
   "cell_type": "markdown",
   "id": "a4b0da6d-1548-4043-8449-9412acf90745",
   "metadata": {},
   "source": [
    "## Conformational change"
   ]
  },
  {
   "cell_type": "markdown",
   "id": "9e91659e-08b0-4d25-84d1-c604db389505",
   "metadata": {},
   "source": [
    "### Take top x modes accounting for 95% of the directional change"
   ]
  },
  {
   "cell_type": "code",
   "execution_count": 22,
   "id": "6c4350d8-61a0-49bc-83e3-8b6ce20700a6",
   "metadata": {},
   "outputs": [
    {
     "name": "stdout",
     "output_type": "stream",
     "text": [
      "Take top 252 modes\n"
     ]
    }
   ],
   "source": [
    "O_lrt_index = np.flip(np.argsort(np.abs(O_lrt)))\n",
    "distance = []\n",
    "dp = []\n",
    "for i in range(len(O_lrt)):\n",
    "    direction = np.zeros(len(O_lrt))\n",
    "    for j in range(i+1):\n",
    "        direction += O_lrt[O_lrt_index[j]] * U_m[:,O_lrt_index[j]]\n",
    "    direction = direction/np.linalg.norm(direction)\n",
    "    distance.append(np.linalg.norm(d_lrt-direction))\n",
    "    dp.append(np.dot(d_lrt,direction))\n",
    "    #if dp[-1] >=0.95:\n",
    "    if distance[-1] <= 0.05:\n",
    "        break\n",
    "print('Take top {} modes'.format(i+1))"
   ]
  },
  {
   "cell_type": "code",
   "execution_count": 23,
   "id": "bf40b2fa-b24b-4fa4-ad6b-9c13aec815ee",
   "metadata": {},
   "outputs": [],
   "source": [
    "O_lrt_top = O_lrt[O_lrt_index[:i+1]]\n",
    "U_m_top = U_m[:,O_lrt_index[:i+1]]\n",
    "v_top = v[O_lrt_index[:i+1]]"
   ]
  },
  {
   "cell_type": "markdown",
   "id": "6e065b51-ff9a-4c7d-821c-dfcb13d52f6c",
   "metadata": {
    "tags": []
   },
   "source": [
    "### Positional"
   ]
  },
  {
   "cell_type": "code",
   "execution_count": 24,
   "id": "8fe8bcdf-3bb6-483f-ac21-b9cc1e5a6f5e",
   "metadata": {},
   "outputs": [],
   "source": [
    "deformation_direction = (O_lrt_top*(v_top**-0.5)@(U_m_top.T)).reshape(-1,3)\n",
    "rmsd = 1\n",
    "deformation_magnitude = rmsd * sqrt(len(residue_mass)/3*3) / (sqrt(np.sum((O_lrt_top**2)*(v_top**-1))))\n",
    "deformation = deformation_magnitude * deformation_direction"
   ]
  },
  {
   "cell_type": "code",
   "execution_count": 25,
   "id": "7fdbea01-83c2-4d6c-a1a6-52262787932f",
   "metadata": {},
   "outputs": [
    {
     "data": {
      "text/plain": [
       "1.0"
      ]
     },
     "execution_count": 25,
     "metadata": {},
     "output_type": "execute_result"
    }
   ],
   "source": [
    "#check\n",
    "deformation_magnitude*np.sqrt(np.sum((O_lrt_top**2) *(v_top**-1)))/sqrt(len(residue_mass)/3*3)"
   ]
  },
  {
   "cell_type": "code",
   "execution_count": 26,
   "id": "34115471-cd74-430b-9cfb-d4cfb68aa65e",
   "metadata": {},
   "outputs": [],
   "source": [
    "np.save('deformation',deformation)"
   ]
  },
  {
   "cell_type": "markdown",
   "id": "d32a6f66-2453-459b-bb47-0fb898e8aec7",
   "metadata": {
    "tags": []
   },
   "source": [
    "# Pyrosetta movers"
   ]
  },
  {
   "cell_type": "code",
   "execution_count": null,
   "id": "6917070f-c8e4-4b7d-9319-9e62c02c38ac",
   "metadata": {},
   "outputs": [],
   "source": [
    "import pyrosetta as py\n",
    "py.init()"
   ]
  },
  {
   "cell_type": "code",
   "execution_count": null,
   "id": "48b4186c-9963-45df-b9ad-3f80cc429d81",
   "metadata": {},
   "outputs": [],
   "source": [
    "%%capture\n",
    "pose = py.pose_from_pdb('mdframe_solute.pdb')"
   ]
  },
  {
   "cell_type": "code",
   "execution_count": 22,
   "id": "8ea64cf4-1967-45b8-962b-989a61471903",
   "metadata": {},
   "outputs": [],
   "source": [
    "orig_pose = pose.assign(pose)"
   ]
  },
  {
   "cell_type": "code",
   "execution_count": 20,
   "id": "5f33b1ce-44cd-4b51-83a3-e2f21366499e",
   "metadata": {},
   "outputs": [
    {
     "ename": "NameError",
     "evalue": "name 'pose' is not defined",
     "output_type": "error",
     "traceback": [
      "\u001b[0;31m---------------------------------------------------------------------------\u001b[0m",
      "\u001b[0;31mNameError\u001b[0m                                 Traceback (most recent call last)",
      "Input \u001b[0;32mIn [20]\u001b[0m, in \u001b[0;36m<cell line: 1>\u001b[0;34m()\u001b[0m\n\u001b[0;32m----> 1\u001b[0m \u001b[38;5;28;01mfor\u001b[39;00m r \u001b[38;5;129;01min\u001b[39;00m \u001b[38;5;28mrange\u001b[39m(\u001b[38;5;241m1\u001b[39m,\u001b[43mpose\u001b[49m\u001b[38;5;241m.\u001b[39mchain_end(\u001b[38;5;241m2\u001b[39m)\u001b[38;5;241m+\u001b[39m\u001b[38;5;241m1\u001b[39m):\n\u001b[1;32m      2\u001b[0m     \u001b[38;5;28;01mfor\u001b[39;00m a \u001b[38;5;129;01min\u001b[39;00m \u001b[38;5;28mrange\u001b[39m(\u001b[38;5;241m1\u001b[39m,pose\u001b[38;5;241m.\u001b[39mresidue(r)\u001b[38;5;241m.\u001b[39mnatoms()\u001b[38;5;241m+\u001b[39m\u001b[38;5;241m1\u001b[39m):\n\u001b[1;32m      3\u001b[0m         new_coords \u001b[38;5;241m=\u001b[39m np\u001b[38;5;241m.\u001b[39marray(pose\u001b[38;5;241m.\u001b[39mresidue(r)\u001b[38;5;241m.\u001b[39mxyz(a)) \u001b[38;5;241m+\u001b[39m deformation[r\u001b[38;5;241m-\u001b[39m\u001b[38;5;241m1\u001b[39m]\n",
      "\u001b[0;31mNameError\u001b[0m: name 'pose' is not defined"
     ]
    }
   ],
   "source": [
    "for r in range(1,pose.chain_end(2)+1):\n",
    "    for a in range(1,pose.residue(r).natoms()+1):\n",
    "        new_coords = np.array(pose.residue(r).xyz(a)) + deformation[r-1]\n",
    "        pose.residue(r).set_xyz(a, py.rosetta.numeric.xyzVector_double_t(new_coords[0], new_coords[1], new_coords[2]))"
   ]
  },
  {
   "cell_type": "code",
   "execution_count": null,
   "id": "067cc368-db88-4139-af16-1dd4bf02e0be",
   "metadata": {},
   "outputs": [],
   "source": [
    "defo"
   ]
  },
  {
   "cell_type": "code",
   "execution_count": 24,
   "id": "175d4c9b-df07-4b1a-85a8-f3c7924594c3",
   "metadata": {},
   "outputs": [
    {
     "data": {
      "text/plain": [
       "[83.0, 87.8, 34.42]"
      ]
     },
     "execution_count": 24,
     "metadata": {},
     "output_type": "execute_result"
    }
   ],
   "source": [
    "list(pose.residue(1).atom(\"CA\").xyz())"
   ]
  },
  {
   "cell_type": "code",
   "execution_count": 25,
   "id": "e888df32-f475-4b55-a07a-0623777fda7a",
   "metadata": {},
   "outputs": [
    {
     "data": {
      "text/plain": [
       "[83.0, 87.8, 34.42]"
      ]
     },
     "execution_count": 25,
     "metadata": {},
     "output_type": "execute_result"
    }
   ],
   "source": [
    "list(orig_pose.residue(1).atom(\"CA\").xyz())"
   ]
  },
  {
   "cell_type": "code",
   "execution_count": null,
   "id": "7e906ea7-04e7-4cec-91a7-7bc140d3fb7b",
   "metadata": {},
   "outputs": [],
   "source": [
    "py.rosetta.core.scoring.bb_rmsd(pose,orig_pose)"
   ]
  },
  {
   "cell_type": "code",
   "execution_count": 74,
   "id": "3043013e-a8c9-4f6e-8691-58d54de0aef6",
   "metadata": {},
   "outputs": [
    {
     "data": {
      "text/plain": [
       "<generator object PoseResidueAccessor.__getitem__.<locals>.<genexpr> at 0x7f5e58a805f0>"
      ]
     },
     "execution_count": 74,
     "metadata": {},
     "output_type": "execute_result"
    }
   ],
   "source": [
    "pose.residues[:100]"
   ]
  },
  {
   "cell_type": "code",
   "execution_count": 65,
   "id": "4bee3957-724c-4b1b-8726-aa897189fb7b",
   "metadata": {},
   "outputs": [
    {
     "ename": "NameError",
     "evalue": "name 'CA_rmsd' is not defined",
     "output_type": "error",
     "traceback": [
      "\u001b[0;31m---------------------------------------------------------------------------\u001b[0m",
      "\u001b[0;31mNameError\u001b[0m                                 Traceback (most recent call last)",
      "Input \u001b[0;32mIn [65]\u001b[0m, in \u001b[0;36m<cell line: 1>\u001b[0;34m()\u001b[0m\n\u001b[0;32m----> 1\u001b[0m \u001b[43mCA_rmsd\u001b[49m(pose,orig_pose)\n",
      "\u001b[0;31mNameError\u001b[0m: name 'CA_rmsd' is not defined"
     ]
    }
   ],
   "source": [
    "CA_rmsd(pose,orig_pose)"
   ]
  },
  {
   "cell_type": "code",
   "execution_count": 53,
   "id": "c48ba706-3a1c-4220-b68d-acbb5d6d0355",
   "metadata": {},
   "outputs": [],
   "source": [
    "r = 1\n",
    "i = 1\n",
    "new_coords = np.array(pose.residue(r).xyz(i)) + deform_vec[r]"
   ]
  },
  {
   "cell_type": "code",
   "execution_count": 54,
   "id": "4a556b0e-8de0-45e5-9485-8cbaf7e27af6",
   "metadata": {},
   "outputs": [
    {
     "data": {
      "text/plain": [
       "array([83.56723519, 89.10669171, 34.82146259])"
      ]
     },
     "execution_count": 54,
     "metadata": {},
     "output_type": "execute_result"
    }
   ],
   "source": [
    "new_coords"
   ]
  },
  {
   "cell_type": "code",
   "execution_count": 58,
   "id": "2238cd97-41e6-4987-bdd2-2889c8a61bbd",
   "metadata": {},
   "outputs": [
    {
     "data": {
      "text/plain": [
       "[83.56723518823678, 89.1066917118976, 34.82146258623267]"
      ]
     },
     "execution_count": 58,
     "metadata": {},
     "output_type": "execute_result"
    }
   ],
   "source": [
    "list(py.rosetta.numeric.xyzVector_double_t(new_coords[0], new_coords[1], new_coords[2]))"
   ]
  },
  {
   "cell_type": "code",
   "execution_count": 52,
   "id": "106be4f4-9997-42d1-8517-9db65d54ae60",
   "metadata": {},
   "outputs": [
    {
     "ename": "NameError",
     "evalue": "name 'numeric' is not defined",
     "output_type": "error",
     "traceback": [
      "\u001b[0;31m---------------------------------------------------------------------------\u001b[0m",
      "\u001b[0;31mNameError\u001b[0m                                 Traceback (most recent call last)",
      "Input \u001b[0;32mIn [52]\u001b[0m, in \u001b[0;36m<cell line: 1>\u001b[0;34m()\u001b[0m\n\u001b[0;32m----> 1\u001b[0m \u001b[43mnumeric\u001b[49m\n",
      "\u001b[0;31mNameError\u001b[0m: name 'numeric' is not defined"
     ]
    }
   ],
   "source": [
    "numeric"
   ]
  },
  {
   "cell_type": "code",
   "execution_count": 42,
   "id": "66de3d31-07b7-4787-a5a6-8eec895dc067",
   "metadata": {},
   "outputs": [
    {
     "data": {
      "text/plain": [
       "array([62.83, 85.57, 24.29])"
      ]
     },
     "execution_count": 42,
     "metadata": {},
     "output_type": "execute_result"
    }
   ],
   "source": [
    "np.array(pose.residue(10).xyz(1))"
   ]
  },
  {
   "cell_type": "code",
   "execution_count": 44,
   "id": "27ea7955-53e3-4fe6-ace5-6afa7a890492",
   "metadata": {},
   "outputs": [
    {
     "name": "stdout",
     "output_type": "stream",
     "text": [
      "Help on method set_xyz in module pyrosetta.rosetta.core.conformation:\n",
      "\n",
      "set_xyz(...) method of pyrosetta.rosetta.core.conformation.Residue instance\n",
      "    set_xyz(*args, **kwargs)\n",
      "    Overloaded function.\n",
      "    \n",
      "    1. set_xyz(self: pyrosetta.rosetta.core.conformation.Residue, atm_index: int, xyz_in: pyrosetta.rosetta.numeric.xyzVector_double_t) -> None\n",
      "    \n",
      "    Sets the position of this residue's atom with index number  <atm_index>\n",
      "    \n",
      "     example(s):\n",
      "    \n",
      "     See also:\n",
      "         Residue\n",
      "         Residue.atom\n",
      "         Residue.atoms\n",
      "         Residue.xyz\n",
      "         Pose\n",
      "    \n",
      "    C++: core::conformation::Residue::set_xyz(const unsigned long, const class numeric::xyzVector<double> &) --> void\n",
      "    \n",
      "    2. set_xyz(self: pyrosetta.rosetta.core.conformation.Residue, atm_name: str, xyz_in: pyrosetta.rosetta.numeric.xyzVector_double_t) -> None\n",
      "    \n",
      "    Sets the position of this residue's atom with name  <atm_name>\n",
      "    \n",
      "     example(s):\n",
      "    \n",
      "     See also:\n",
      "         Residue\n",
      "         Residue.atom\n",
      "         Residue.atoms\n",
      "         Residue.xyz\n",
      "         Pose\n",
      "    \n",
      "    C++: core::conformation::Residue::set_xyz(const std::string &, const class numeric::xyzVector<double> &) --> void\n",
      "\n"
     ]
    }
   ],
   "source": [
    "help(pose.residue(1).set_xyz)"
   ]
  },
  {
   "cell_type": "code",
   "execution_count": 37,
   "id": "920e0283-029d-46d9-ba83-6e6908d55021",
   "metadata": {},
   "outputs": [
    {
     "data": {
      "text/plain": [
       "227"
      ]
     },
     "execution_count": 37,
     "metadata": {},
     "output_type": "execute_result"
    }
   ],
   "source": [
    "pose.chain_end(2)"
   ]
  },
  {
   "cell_type": "code",
   "execution_count": 11,
   "id": "4fa78d5a-60d7-48b1-810e-b951dfd7ad9a",
   "metadata": {},
   "outputs": [
    {
     "data": {
      "text/plain": [
       "416"
      ]
     },
     "execution_count": 11,
     "metadata": {},
     "output_type": "execute_result"
    }
   ],
   "source": [
    "len(pose.sequence())"
   ]
  },
  {
   "cell_type": "code",
   "execution_count": 13,
   "id": "9e7f1cb7-ec28-4195-a8a8-bdd87e6846ac",
   "metadata": {},
   "outputs": [
    {
     "data": {
      "text/plain": [
       "416"
      ]
     },
     "execution_count": 13,
     "metadata": {},
     "output_type": "execute_result"
    }
   ],
   "source": [
    "pose.total_residue()"
   ]
  },
  {
   "cell_type": "code",
   "execution_count": null,
   "id": "c2a95194-e4c7-4c59-92cb-15a2dd581b06",
   "metadata": {},
   "outputs": [],
   "source": [
    "pose.pdb_info().pdb2pose('A', 1)"
   ]
  },
  {
   "cell_type": "code",
   "execution_count": 8,
   "id": "8fff348a-b7c1-47ec-9094-79ad97cd34d3",
   "metadata": {},
   "outputs": [
    {
     "data": {
      "text/plain": [
       "335"
      ]
     },
     "execution_count": 8,
     "metadata": {},
     "output_type": "execute_result"
    }
   ],
   "source": [
    "pose.pdb_info().pdb2pose('B',1)"
   ]
  },
  {
   "cell_type": "code",
   "execution_count": 14,
   "id": "2384f0d7-d40c-41ef-98d6-13d9e4ab76a6",
   "metadata": {},
   "outputs": [
    {
     "name": "stdout",
     "output_type": "stream",
     "text": [
      "      83.00000000000000       87.80000000000000       34.42000000000000\n"
     ]
    }
   ],
   "source": [
    "print(pose.residue(1).xyz(\"CA\"))"
   ]
  },
  {
   "cell_type": "code",
   "execution_count": 5,
   "id": "01a39ea3-b575-4a22-b125-38e42f8eba89",
   "metadata": {},
   "outputs": [
    {
     "name": "stdout",
     "output_type": "stream",
     "text": [
      "      80.12000000000000       91.61000000000000       33.71000000000000\n"
     ]
    }
   ],
   "source": [
    "print(pose.residue(108).xyz(\"CA\"))"
   ]
  },
  {
   "cell_type": "code",
   "execution_count": null,
   "id": "1632adb7-1e3e-4398-bc69-efbf9d54db7a",
   "metadata": {},
   "outputs": [],
   "source": [
    "len(pose.chain_sequence(4))"
   ]
  },
  {
   "cell_type": "code",
   "execution_count": null,
   "id": "d50a6b11-93a9-42cf-b843-989e932b9470",
   "metadata": {},
   "outputs": [],
   "source": []
  },
  {
   "cell_type": "code",
   "execution_count": null,
   "id": "00526bfe-5452-472c-a3fe-ab670dd233cd",
   "metadata": {},
   "outputs": [],
   "source": [
    "coords = [ [ pose.residue( r.xyz( a ) for a in range( 1 , pose.residue( r ).natoms() + 1 ) ] for r in range( 1 , pose.total_residue() + 1 ]"
   ]
  },
  {
   "cell_type": "code",
   "execution_count": null,
   "id": "0927bd68-1182-490a-96e7-b5a61a8266b9",
   "metadata": {},
   "outputs": [],
   "source": [
    "print(pose)"
   ]
  },
  {
   "cell_type": "code",
   "execution_count": null,
   "id": "421f6fdb-a9af-4a07-8d23-8b32de19e8c0",
   "metadata": {},
   "outputs": [],
   "source": [
    "print(pose.pdb_info())"
   ]
  },
  {
   "cell_type": "code",
   "execution_count": null,
   "id": "28b5aa06-77e3-4220-82b8-a02cbf1660da",
   "metadata": {},
   "outputs": [],
   "source": [
    "pose.residue(3)."
   ]
  },
  {
   "cell_type": "code",
   "execution_count": null,
   "id": "3abf93c6-5a39-4a75-931c-19f46204cca0",
   "metadata": {},
   "outputs": [],
   "source": [
    "movemap = py.MoveMap()"
   ]
  },
  {
   "cell_type": "code",
   "execution_count": null,
   "id": "91c805ae-a05d-4758-9b01-4510f6556bd3",
   "metadata": {},
   "outputs": [],
   "source": [
    "movemap.set_bb_true_range"
   ]
  },
  {
   "cell_type": "code",
   "execution_count": null,
   "id": "d66c7601-36ef-42cb-acc2-1b27ecdc1dc3",
   "metadata": {},
   "outputs": [],
   "source": []
  }
 ],
 "metadata": {
  "kernelspec": {
   "display_name": "Python 3 (ipykernel)",
   "language": "python",
   "name": "python3"
  },
  "language_info": {
   "codemirror_mode": {
    "name": "ipython",
    "version": 3
   },
   "file_extension": ".py",
   "mimetype": "text/x-python",
   "name": "python",
   "nbconvert_exporter": "python",
   "pygments_lexer": "ipython3",
   "version": "3.9.12"
  },
  "toc-autonumbering": true,
  "toc-showtags": false
 },
 "nbformat": 4,
 "nbformat_minor": 5
}
