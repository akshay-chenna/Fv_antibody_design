{
 "cells": [
  {
   "cell_type": "markdown",
   "id": "1236dbec-0aee-4d24-8cb3-20bf21cd2619",
   "metadata": {
    "jp-MarkdownHeadingCollapsed": true,
    "tags": []
   },
   "source": [
    "### Actual code to find loop rmsds between trajectories\n",
    "Also see traj_analysis.ipynb (copied from here)"
   ]
  },
  {
   "cell_type": "code",
   "execution_count": null,
   "id": "a0bf93ba-e763-4a8f-98ea-30e9a3813519",
   "metadata": {},
   "outputs": [],
   "source": [
    "'''\n",
    "Calculate the RMSD of the loops between trajectories. Supported loops are h/l1-3, heavy,light, all.\n",
    "NOTE THAT SELECTIONS HAVE TO BE EQUIVALENT.\n",
    "'''\n",
    "\n",
    "import sys\n",
    "import matplotlib\n",
    "import numpy as np\n",
    "import MDAnalysis as mda\n",
    "import pyrosetta as py\n",
    "from MDAnalysis.analysis import rms\n",
    "from pyrosetta.rosetta.protocols import antibody\n",
    "from rosetta.protocols.antibody.residue_selector import CDRResidueSelector\n",
    "import matplotlib.pyplot as plt\n",
    "import seaborn as sns\n",
    "cmap = matplotlib.cm.get_cmap(\"jet\", 6)\n",
    "py.init('-out:level 0')\n",
    "\n",
    "ref_top = '340K_pierce_simulations/9/mdframe.pdb'\n",
    "ref_traj = '340K_pierce_simulations/9/md_corrected.xtc'\n",
    "mobile_top = 'pierce_simulations/9/mdframe.pdb'\n",
    "mobile_traj = 'pierce_simulations/9/md_corrected.xtc'\n",
    "name = '1'\n",
    "index_ref = 340\n",
    "index_mob = 310\n",
    "rmsd_val = 1\n",
    "renumbered_pdb = 'pierce_simulations/9/fv_chothia.pdb'\n",
    "cdr = 'h3'\n",
    "\n",
    "pose = py.pose_from_pdb(renumbered_pdb)\n",
    "ab_info = antibody.AntibodyInfo(pose, antibody.Chothia_Scheme, antibody.North)\n",
    "\n",
    "if cdr == 'all':\n",
    "    vec = ab_info.get_all_cdrs()\n",
    "elif cdr == 'heavy':\n",
    "    vec = py.rosetta.utility.vector1_bool(6)\n",
    "    vec[antibody.h1] = True\n",
    "    vec[antibody.h2] = True\n",
    "    vec[antibody.h3] = True\n",
    "\n",
    "elif cdr == 'light':\n",
    "    vec = py.rosetta.utility.vector1_bool(6)\n",
    "    vec[antibody.l1] = True\n",
    "    vec[antibody.l2] = True\n",
    "    vec[antibody.l3] = True\n",
    "\n",
    "else:\n",
    "    vec = py.rosetta.utility.vector1_bool(6)\n",
    "    vec[getattr(antibody,cdr)] = True\n",
    "\n",
    "cdr_sel = py.rosetta.protocols.antibody.residue_selector.CDRResidueSelector(ab_info, vec)\n",
    "where = np.where(cdr_sel.apply(pose))\n",
    "\n",
    "u = mda.Universe(ref_top,ref_traj)\n",
    "v = mda.Universe(mobile_top,mobile_traj)\n",
    "\n",
    "u.transfer_to_memory(step=10,verbose=True)\n",
    "v.transfer_to_memory(step=100,verbose=True)\n",
    "\n",
    "if (cdr == 'h1') or (cdr=='h2') or (cdr=='h3') or (cdr=='heavy'):\n",
    "    x = 0\n",
    "    framework = np.concatenate((u.segments.resindices[0][5:11+1], u.segments.resindices[0][38:45+1],u.segments.resindices[0][80:90+1],u.segments.resindices[0][105:len(pose.chain_sequence(1))]))\n",
    "    loop = u.segments.resindices[0][where]\n",
    "elif (cdr == 'l1') or (cdr=='l2') or (cdr=='l3') or (cdr=='light'):\n",
    "    x = 1\n",
    "    framework = np.concatenate((u.segments.resindices[1][6:19+1], u.segments.resindices[1][37:43+1],u.segments.resindices[1][75:84+1],u.segments.resindices[1][100:len(pose.chain_sequence(2))]))\n",
    "    loop = u.segments.resindices[1][where[0]-len(pose.chain_sequence(1))]\n",
    "elif cdr == 'all':\n",
    "    framework1 = np.concatenate((u.segments.resindices[0][5:11+1], u.segments.resindices[0][38:45+1],u.segments.resindices[0][80:90+1],u.segments.resindices[0][105:len(pose.chain_sequence(1))]))\n",
    "    framework2 = np.concatenate((u.segments.resindices[1][6:19+1], u.segments.resindices[1][37:43+1],u.segments.resindices[1][75:84+1],u.segments.resindices[1][100:len(pose.chain_sequence(2))]))\n",
    "    framework = np.concatenate((framework1,framework2))\n",
    "\n",
    "resids = ''\n",
    "for i in framework:\n",
    "    resids += 'resindex ' + str(i) + ' or '\n",
    "framework_selection = 'not name O and (backbone and (' + resids[:-4] +'))'\n",
    "\n",
    "resids = ''\n",
    "for i in loop:\n",
    "    resids += 'resindex ' + str(i) + ' or '\n",
    "loop_selection = 'not name O and (backbone and (' + resids[:-4] +'))'\n",
    "    \n",
    "frmsd = np.zeros([len(u.trajectory), len(v.trajectory)]) #framework rmsd\n",
    "lrmsd = np.zeros([len(u.trajectory), len(v.trajectory)]) # loop rmsd\n",
    "\n",
    "for i in range(0,len(u.trajectory)):\n",
    "    r = rms.RMSD(v, u, select=framework_selection, ref_frame=i, groupselections=[loop_selection]).run()\n",
    "    frmsd[i,:] = r.rmsd[:,2]\n",
    "    lrmsd[i,:] = r.rmsd[:,3]\n",
    "\n",
    "match = np.where((lrmsd<float(rmsd_val)).any(axis=1))[0].shape[0]/len(v.trajectory)\n",
    "print(name,index_ref,index_mob,cdr,rmsd_val,str(match)[:4],sep='\\t')\n",
    "\n",
    "plt.figure(figsize=(12,8))\n",
    "sns.heatmap(lrmsd, cmap = cmap, vmin=0,vmax=6)\n",
    "plt.xlabel('Mobile-'+str(index_mob))\n",
    "plt.ylabel('Reference-'+str(index_ref))\n",
    "plt.title(str(name)+' Frame-wise RMSD  ($\\AA$) '+str(cdr))\n",
    "plt.savefig(\"{}_lrmsd_{}_{}_{}.png\".format(name,index_ref,index_mob,cdr),dpi=300, facecolor='white',bbox_inches='tight')\n",
    "\n",
    "plt.figure(figsize=(12,8))\n",
    "sns.heatmap(frmsd, cmap = cmap, vmin=0,vmax=6)\n",
    "plt.xlabel('Mobile-'+str(index_mob))\n",
    "plt.ylabel('Reference-'+str(index_ref))\n",
    "plt.title(str(name)+' Frame-wise RMSD  ($\\AA$) '+str(cdr))\n",
    "plt.savefig(\"{}_frmsd_{}_{}_{}.png\".format(name,index_ref,index_mob,cdr),dpi=300, facecolor='white',bbox_inches='tight')"
   ]
  },
  {
   "cell_type": "markdown",
   "id": "638105c4-6f25-423f-ab63-978c9f9a84c2",
   "metadata": {
    "tags": []
   },
   "source": [
    "# Plot heatmaps"
   ]
  },
  {
   "cell_type": "code",
   "execution_count": 2,
   "id": "0f733009-24ec-40b9-b844-89491c2e94e9",
   "metadata": {},
   "outputs": [],
   "source": [
    "import pandas as pd\n",
    "import numpy as np\n",
    "import matplotlib.pyplot as plt\n",
    "import matplotlib\n",
    "import seaborn as sns"
   ]
  },
  {
   "cell_type": "code",
   "execution_count": 17,
   "id": "631764e3-7ffb-4db4-9ab1-135657d544f9",
   "metadata": {},
   "outputs": [
    {
     "data": {
      "image/png": "[encoded data removed]",
      "text/plain": [
       "<Figure size 576x432 with 2 Axes>"
      ]
     },
     "metadata": {
      "needs_background": "light"
     },
     "output_type": "display_data"
    }
   ],
   "source": [
    "df = pd.read_table('l1_rmsd_similarity.out')\n",
    "x = np.array(df['Match']).reshape(-1,3)\n",
    "plt.figure(figsize=(8,6))\n",
    "plt.rcParams['font.size']=16\n",
    "sns.heatmap(x, vmin=0, vmax=1, cmap='tab10')\n",
    "plt.xticks([0.5,1.5,2.5],['340','370','450']);\n",
    "plt.yticks([0.5,1.5,2.5,3.5,4.5,5.5,6.5,7.5,8.5,9.5,10.5,11.5,12.5,13.5,14.5],[str(i) for i in (1,2,3,4,5,6,7,8,10,11,12,13,14,15,16)], rotation='0');\n",
    "plt.title('L1 - 2 $\\AA$ bb RMSD')\n",
    "plt.savefig('l1_rmsd_similarity.png',dpi=300,facecolor='white',bbox_inches='tight')"
   ]
  }
 ],
 "metadata": {
  "kernelspec": {
   "display_name": "Python 3 (ipykernel)",
   "language": "python",
   "name": "python3"
  },
  "language_info": {
   "codemirror_mode": {
    "name": "ipython",
    "version": 3
   },
   "file_extension": ".py",
   "mimetype": "text/x-python",
   "name": "python",
   "nbconvert_exporter": "python",
   "pygments_lexer": "ipython3",
   "version": "3.9.12"
  }
 },
 "nbformat": 4,
 "nbformat_minor": 5
}
