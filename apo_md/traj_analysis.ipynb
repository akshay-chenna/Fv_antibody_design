{
 "cells": [
  {
   "cell_type": "markdown",
   "id": "95f8f852-a7d0-4674-8c4b-6b85614f0082",
   "metadata": {
    "tags": []
   },
   "source": [
    "# Scripts on analysis"
   ]
  },
  {
   "cell_type": "markdown",
   "id": "e0b0f670-eeff-4772-b8b7-1fb113cc467b",
   "metadata": {
    "jp-MarkdownHeadingCollapsed": true,
    "tags": [],
    "toc-hr-collapsed": true
   },
   "source": [
    "## Pair-wise RMSD of the full structure"
   ]
  },
  {
   "cell_type": "code",
   "execution_count": null,
   "id": "126e5858-182d-4981-954d-3bc59789aa14",
   "metadata": {},
   "outputs": [],
   "source": [
    "import numpy as np\n",
    "import matplotlib.pyplot as plt\n",
    "import MDAnalysis as mda\n",
    "from MDAnalysis.analysis import rms\n",
    "import MDAnalysis.analysis.encore as encore\n",
    "import matplotlib\n",
    "import seaborn as sns"
   ]
  },
  {
   "cell_type": "code",
   "execution_count": null,
   "id": "3c358295-f1d2-4621-bbb3-60aa20d0a6b9",
   "metadata": {},
   "outputs": [],
   "source": [
    "u = mda.Universe('340K_pierce_simulations/1/mdframe.pdb','340K_pierce_simulations/1/md_corrected.xtc')\n",
    "v = mda.Universe('370K_pierce_simulations/1/mdframe.pdb','370K_pierce_simulations/1/md_corrected.xtc')\n",
    "w = mda.Universe('pierce_simulations/1/mdframe.pdb', 'pierce_simulations/1/md_corrected.xtc')"
   ]
  },
  {
   "cell_type": "code",
   "execution_count": null,
   "id": "f9af3d25-cd51-4a7b-b96f-fa79a2407672",
   "metadata": {},
   "outputs": [],
   "source": [
    "u.transfer_to_memory(step=10,verbose=True)\n",
    "v.transfer_to_memory(step=10, verbose=True)\n",
    "w.transfer_to_memory(step=100, verbose=True)"
   ]
  },
  {
   "cell_type": "code",
   "execution_count": null,
   "id": "142b1319-1a9e-4ffb-baf5-f30e2e16fb72",
   "metadata": {},
   "outputs": [],
   "source": [
    "#ces, details = encore.ces([u,v],ncores=50)"
   ]
  },
  {
   "cell_type": "code",
   "execution_count": null,
   "id": "92fbd7f5-a64b-4955-b354-9d35da2b3b18",
   "metadata": {},
   "outputs": [],
   "source": [
    "x = np.zeros([len(u.trajectory), len(w.trajectory)])"
   ]
  },
  {
   "cell_type": "code",
   "execution_count": null,
   "id": "c53b850d-5bdb-47e7-895e-6bdcfaed6c84",
   "metadata": {},
   "outputs": [],
   "source": [
    "for i in range(0,len(u.trajectory)):\n",
    "    #u.trajectory[i]\n",
    "    r = rms.RMSD(w, u, select='backbone', ref_frame=i).run()\n",
    "    x[i,:] = r.rmsd[:,2]"
   ]
  },
  {
   "cell_type": "code",
   "execution_count": null,
   "id": "fb8d2e66-9647-49d1-9bc8-5c2d0f2aaa9e",
   "metadata": {},
   "outputs": [],
   "source": [
    "cmap = matplotlib.cm.get_cmap(\"jet\", 6)\n",
    "plt.figure(figsize=(12,8))\n",
    "sns.heatmap(x, cmap = cmap, vmin=0,vmax=6)\n",
    "plt.xlabel('Mobile-310K')\n",
    "plt.ylabel('Reference-370K')\n",
    "plt.title('#1-Frame-wise Backbone RMSD  ($\\AA$)')\n",
    "plt.savefig('prmsd_1_310_370.png',dpi=300)"
   ]
  },
  {
   "cell_type": "code",
   "execution_count": null,
   "id": "786a0992-bb9c-487b-a30d-3b4a3899798b",
   "metadata": {},
   "outputs": [],
   "source": [
    "x.shape"
   ]
  },
  {
   "cell_type": "code",
   "execution_count": null,
   "id": "ce8a3742-5829-4812-bd01-4b99369cb48e",
   "metadata": {},
   "outputs": [],
   "source": [
    "t = np.where((x<1.5).any(axis=0))[0].shape[0]/len(w.trajectory)"
   ]
  },
  {
   "cell_type": "code",
   "execution_count": null,
   "id": "fb619d7b-4635-4268-9d86-7944e27363d7",
   "metadata": {},
   "outputs": [],
   "source": [
    "name='1'\n",
    "a='0'\n",
    "b='1'"
   ]
  },
  {
   "cell_type": "code",
   "execution_count": null,
   "id": "0e6303bb-6ead-4bfd-b832-fbe89becdead",
   "metadata": {},
   "outputs": [],
   "source": [
    "print(name,a,b,str(t)[:4],sep='\\t')"
   ]
  },
  {
   "cell_type": "code",
   "execution_count": null,
   "id": "b1ccbaf3-b014-438e-9a13-1285bc6895a3",
   "metadata": {},
   "outputs": [],
   "source": [
    "from MDAnalysis.analysis.encore.dimensionality_reduction import DimensionalityReductionMethod as drm"
   ]
  },
  {
   "cell_type": "code",
   "execution_count": null,
   "id": "224325ac-3ce6-4d26-a6e6-2be1d25157cd",
   "metadata": {},
   "outputs": [],
   "source": [
    "u = mda.Universe('pierce_simulations/1/mdframe.pdb', 'pierce_simulations/1/md_corrected.xtc')\n",
    "v = mda.Universe('340K_pierce_simulations/1/mdframe.pdb','340K_pierce_simulations/1/md_corrected.xtc')\n",
    "w = mda.Universe('370K_pierce_simulations/1/mdframe.pdb','370K_pierce_simulations/1/md_corrected.xtc')\n",
    "\n",
    "\n",
    "u.transfer_to_memory(step=10, stop=5001,verbose=True)\n",
    "v.transfer_to_memory(step=10, verbose=True)\n",
    "w.transfer_to_memory(step=10, verbose=True)"
   ]
  },
  {
   "cell_type": "code",
   "execution_count": null,
   "id": "ed7d37e9-1756-43ca-beb6-7226690beb9b",
   "metadata": {},
   "outputs": [],
   "source": [
    "pc = drm.PrincipalComponentAnalysis(dimension=1,svd_solver='auto')"
   ]
  },
  {
   "cell_type": "code",
   "execution_count": null,
   "id": "3fad83cd-6a79-4188-884e-d7531be7bbf2",
   "metadata": {},
   "outputs": [],
   "source": [
    "dres, details = encore.dres([u,v,w], select='backbone', dimensionality_reduction_method=pc, ncores=10)"
   ]
  },
  {
   "cell_type": "code",
   "execution_count": null,
   "id": "d8cb1592-456a-4745-9c92-1b64f15563aa",
   "metadata": {},
   "outputs": [],
   "source": [
    "details"
   ]
  },
  {
   "cell_type": "markdown",
   "id": "c9e821e0-c21d-4113-bc6e-9535c48d95f4",
   "metadata": {},
   "source": [
    "## RMSDs of CDR loops only"
   ]
  },
  {
   "cell_type": "markdown",
   "id": "53a1d1cb-ddce-43b6-a6dd-c46f12540896",
   "metadata": {},
   "source": [
    "See this folder for good scripts: /home/akshay/docking/1/.\n",
    "* Commands.sh: Commands to extract fv and renumber it.\n",
    "* find_cdrs.ipynb: Find the cdr regions of renumbered antibodies\n",
    "* get_fv_lengths: find the fv length of the antibody chains"
   ]
  },
  {
   "cell_type": "markdown",
   "id": "48c06890-99c3-4732-8bdc-b7b349e6b336",
   "metadata": {
    "tags": []
   },
   "source": [
    "### Tests"
   ]
  },
  {
   "cell_type": "code",
   "execution_count": null,
   "id": "44929779-fac9-42c1-96b0-ca2b949334a1",
   "metadata": {},
   "outputs": [],
   "source": [
    "import pyrosetta as py\n",
    "import numpy as np\n",
    "from pyrosetta.rosetta.protocols import antibody\n",
    "from rosetta.protocols.antibody.residue_selector import CDRResidueSelector\n",
    "py.init()\n",
    "\n",
    "pose = py.pose_from_pdb('2FJG_fv_chothia.pdb')\n",
    "ab_info = antibody.AntibodyInfo(pose, antibody.Chothia_Scheme, antibody.North)\n",
    "\n",
    "light_length = len(pose.chain_sequence(1))\n",
    "cdr_selector = CDRResidueSelector(ab_info)\n",
    "sele = np.array(cdr_selector.apply(pose))\n",
    "sele = np.where(sele)[0] + 1\n",
    "#sele[sele > light_length] = sele[sele > light_length] - light_length"
   ]
  },
  {
   "cell_type": "code",
   "execution_count": 2,
   "id": "8fc99fc0-4024-4ec5-9a4e-6f48303ff2a9",
   "metadata": {},
   "outputs": [
    {
     "name": "stdout",
     "output_type": "stream",
     "text": [
      "<class 'pyrosetta.rosetta.protocols.antibody.CDRNameEnum'>\n",
      "<class 'pyrosetta.rosetta.protocols.antibody.CDRNameEnum'>\n",
      "<class 'pyrosetta.rosetta.protocols.antibody.CDRNameEnum'>\n",
      "<class 'pyrosetta.rosetta.protocols.antibody.CDRNameEnum'>\n",
      "<class 'pyrosetta.rosetta.protocols.antibody.CDRNameEnum'>\n",
      "<class 'pyrosetta.rosetta.protocols.antibody.CDRNameEnum'>\n"
     ]
    }
   ],
   "source": [
    "for i in ab_info.get_all_cdrs():\n",
    "    print(type(i))"
   ]
  },
  {
   "cell_type": "code",
   "execution_count": 53,
   "id": "b70677f0-0382-46b7-bc88-2971296d99eb",
   "metadata": {},
   "outputs": [
    {
     "data": {
      "text/plain": [
       "<CDRNameEnum.h1: 1>"
      ]
     },
     "execution_count": 53,
     "metadata": {},
     "output_type": "execute_result"
    }
   ],
   "source": [
    "ab_info.get_all_cdrs()[1]"
   ]
  },
  {
   "cell_type": "code",
   "execution_count": 4,
   "id": "69a5991d-11d5-4b06-9682-14a94262af3c",
   "metadata": {},
   "outputs": [],
   "source": [
    "x = ab_info.get_all_cdrs()"
   ]
  },
  {
   "cell_type": "code",
   "execution_count": 38,
   "id": "ec99b8e2-5a5d-4ae4-ac91-77d317a000d6",
   "metadata": {},
   "outputs": [
    {
     "data": {
      "text/plain": [
       "\u001b[0;31mDocstring:\u001b[0m      Select CDR residues.\n",
       "\u001b[0;31mInit docstring:\u001b[0m\n",
       "__init__(*args, **kwargs)\n",
       "Overloaded function.\n",
       "\n",
       "1. __init__(self: pyrosetta.rosetta.protocols.antibody.residue_selector.CDRResidueSelector) -> None\n",
       "\n",
       "2. __init__(self: pyrosetta.rosetta.protocols.antibody.residue_selector.CDRResidueSelector, ab_info: pyrosetta.rosetta.protocols.antibody.AntibodyInfo) -> None\n",
       "\n",
       "3. __init__(self: pyrosetta.rosetta.protocols.antibody.residue_selector.CDRResidueSelector, ab_info: pyrosetta.rosetta.protocols.antibody.AntibodyInfo, cdrs: pyrosetta.rosetta.utility.vector1_protocols_antibody_CDRNameEnum) -> None\n",
       "\n",
       "4. __init__(self: pyrosetta.rosetta.protocols.antibody.residue_selector.CDRResidueSelector, ab_info: pyrosetta.rosetta.protocols.antibody.AntibodyInfo, cdrs: pyrosetta.rosetta.utility.vector1_bool) -> None\n",
       "\n",
       "5. __init__(self: pyrosetta.rosetta.protocols.antibody.residue_selector.CDRResidueSelector, arg0: pyrosetta.rosetta.protocols.antibody.residue_selector.CDRResidueSelector) -> None\n",
       "\n",
       "6. __init__(self: pyrosetta.rosetta.protocols.antibody.residue_selector.CDRResidueSelector, arg0: pyrosetta.rosetta.protocols.antibody.residue_selector.CDRResidueSelector) -> None\n",
       "\u001b[0;31mType:\u001b[0m           pybind11_type\n",
       "\u001b[0;31mSubclasses:\u001b[0m     \n"
      ]
     },
     "metadata": {},
     "output_type": "display_data"
    }
   ],
   "source": [
    "py.rosetta.protocols.antibody.residue_selector.CDRResidueSelector?"
   ]
  },
  {
   "cell_type": "code",
   "execution_count": 54,
   "id": "dfdc305b-9898-4423-9163-d77917d02af1",
   "metadata": {},
   "outputs": [
    {
     "ename": "TypeError",
     "evalue": "__init__(): incompatible constructor arguments. The following argument types are supported:\n    1. pyrosetta.rosetta.protocols.antibody.residue_selector.CDRResidueSelector()\n    2. pyrosetta.rosetta.protocols.antibody.residue_selector.CDRResidueSelector(ab_info: pyrosetta.rosetta.protocols.antibody.AntibodyInfo)\n    3. pyrosetta.rosetta.protocols.antibody.residue_selector.CDRResidueSelector(ab_info: pyrosetta.rosetta.protocols.antibody.AntibodyInfo, cdrs: pyrosetta.rosetta.utility.vector1_protocols_antibody_CDRNameEnum)\n    4. pyrosetta.rosetta.protocols.antibody.residue_selector.CDRResidueSelector(ab_info: pyrosetta.rosetta.protocols.antibody.AntibodyInfo, cdrs: pyrosetta.rosetta.utility.vector1_bool)\n    5. pyrosetta.rosetta.protocols.antibody.residue_selector.CDRResidueSelector(arg0: pyrosetta.rosetta.protocols.antibody.residue_selector.CDRResidueSelector)\n    6. pyrosetta.rosetta.protocols.antibody.residue_selector.CDRResidueSelector(arg0: pyrosetta.rosetta.protocols.antibody.residue_selector.CDRResidueSelector)\n\nInvoked with: <pyrosetta.rosetta.protocols.antibody.AntibodyInfo object at 0x7f0b9aecafb0>, <CDRNameEnum.h1: 1>",
     "output_type": "error",
     "traceback": [
      "\u001b[0;31m---------------------------------------------------------------------------\u001b[0m",
      "\u001b[0;31mTypeError\u001b[0m                                 Traceback (most recent call last)",
      "Input \u001b[0;32mIn [54]\u001b[0m, in \u001b[0;36m<cell line: 1>\u001b[0;34m()\u001b[0m\n\u001b[0;32m----> 1\u001b[0m \u001b[43mpy\u001b[49m\u001b[38;5;241;43m.\u001b[39;49m\u001b[43mrosetta\u001b[49m\u001b[38;5;241;43m.\u001b[39;49m\u001b[43mprotocols\u001b[49m\u001b[38;5;241;43m.\u001b[39;49m\u001b[43mantibody\u001b[49m\u001b[38;5;241;43m.\u001b[39;49m\u001b[43mresidue_selector\u001b[49m\u001b[38;5;241;43m.\u001b[39;49m\u001b[43mCDRResidueSelector\u001b[49m\u001b[43m(\u001b[49m\u001b[43mab_info\u001b[49m\u001b[43m,\u001b[49m\u001b[43m \u001b[49m\u001b[43mpy\u001b[49m\u001b[38;5;241;43m.\u001b[39;49m\u001b[43mrosetta\u001b[49m\u001b[38;5;241;43m.\u001b[39;49m\u001b[43mprotocols\u001b[49m\u001b[38;5;241;43m.\u001b[39;49m\u001b[43mantibody\u001b[49m\u001b[38;5;241;43m.\u001b[39;49m\u001b[43mh1\u001b[49m\u001b[43m)\u001b[49m\n",
      "\u001b[0;31mTypeError\u001b[0m: __init__(): incompatible constructor arguments. The following argument types are supported:\n    1. pyrosetta.rosetta.protocols.antibody.residue_selector.CDRResidueSelector()\n    2. pyrosetta.rosetta.protocols.antibody.residue_selector.CDRResidueSelector(ab_info: pyrosetta.rosetta.protocols.antibody.AntibodyInfo)\n    3. pyrosetta.rosetta.protocols.antibody.residue_selector.CDRResidueSelector(ab_info: pyrosetta.rosetta.protocols.antibody.AntibodyInfo, cdrs: pyrosetta.rosetta.utility.vector1_protocols_antibody_CDRNameEnum)\n    4. pyrosetta.rosetta.protocols.antibody.residue_selector.CDRResidueSelector(ab_info: pyrosetta.rosetta.protocols.antibody.AntibodyInfo, cdrs: pyrosetta.rosetta.utility.vector1_bool)\n    5. pyrosetta.rosetta.protocols.antibody.residue_selector.CDRResidueSelector(arg0: pyrosetta.rosetta.protocols.antibody.residue_selector.CDRResidueSelector)\n    6. pyrosetta.rosetta.protocols.antibody.residue_selector.CDRResidueSelector(arg0: pyrosetta.rosetta.protocols.antibody.residue_selector.CDRResidueSelector)\n\nInvoked with: <pyrosetta.rosetta.protocols.antibody.AntibodyInfo object at 0x7f0b9aecafb0>, <CDRNameEnum.h1: 1>"
     ]
    }
   ],
   "source": [
    "py.rosetta.protocols.antibody.residue_selector.CDRResidueSelector(ab_info, py.rosetta.protocols.antibody.h1)"
   ]
  },
  {
   "cell_type": "code",
   "execution_count": 75,
   "id": "4fa904c1-c906-4f6c-bab2-d58107a25762",
   "metadata": {},
   "outputs": [],
   "source": [
    "x = py.rosetta.protocols.antibody.H1"
   ]
  },
  {
   "cell_type": "code",
   "execution_count": 76,
   "id": "274365a8-79d7-412d-85a5-bbca758855e5",
   "metadata": {},
   "outputs": [
    {
     "data": {
      "text/plain": [
       "<CDRNameEnum.h1: 1>"
      ]
     },
     "execution_count": 76,
     "metadata": {},
     "output_type": "execute_result"
    }
   ],
   "source": [
    "x"
   ]
  },
  {
   "cell_type": "code",
   "execution_count": 7,
   "id": "29a335b5-0473-481f-bcef-87e3533193cc",
   "metadata": {},
   "outputs": [],
   "source": [
    "vec = py.rosetta.utility.vector1_bool(6)"
   ]
  },
  {
   "cell_type": "code",
   "execution_count": 8,
   "id": "d76bf154-fa5c-4b90-9b0a-df8d37d98676",
   "metadata": {},
   "outputs": [
    {
     "data": {
      "text/plain": [
       "vector1_bool[0, 0, 0, 0, 0, 0]"
      ]
     },
     "execution_count": 8,
     "metadata": {},
     "output_type": "execute_result"
    }
   ],
   "source": [
    "vec"
   ]
  },
  {
   "cell_type": "code",
   "execution_count": 9,
   "id": "089d193c-2f2e-445a-93ac-53810e39d22d",
   "metadata": {},
   "outputs": [
    {
     "data": {
      "text/plain": [
       "pyrosetta.rosetta.utility.vector1_bool"
      ]
     },
     "execution_count": 9,
     "metadata": {},
     "output_type": "execute_result"
    }
   ],
   "source": [
    "type(vec)"
   ]
  },
  {
   "cell_type": "code",
   "execution_count": 61,
   "id": "245f0eaa-f2da-4a7b-9a3b-a25f966ad754",
   "metadata": {},
   "outputs": [],
   "source": [
    "vec[x] = True"
   ]
  },
  {
   "cell_type": "code",
   "execution_count": 24,
   "id": "2be5377f-c2b7-45e2-988b-4003fc75d088",
   "metadata": {},
   "outputs": [
    {
     "data": {
      "text/plain": [
       "<CDRNameEnum.h1: 1>"
      ]
     },
     "execution_count": 24,
     "metadata": {},
     "output_type": "execute_result"
    }
   ],
   "source": [
    "py.rosetta.protocols.antibody.CDRNameEnum.h1"
   ]
  },
  {
   "cell_type": "code",
   "execution_count": 15,
   "id": "40450810-b4cc-4675-b79d-fc7dd5b708a0",
   "metadata": {},
   "outputs": [],
   "source": [
    "cdr_sel = py.rosetta.protocols.antibody.residue_selector.CDRResidueSelector(ab_info, vec)"
   ]
  },
  {
   "cell_type": "code",
   "execution_count": 16,
   "id": "39d53349-c270-467a-b200-bc41e353e32b",
   "metadata": {},
   "outputs": [
    {
     "data": {
      "text/plain": [
       "(array([], dtype=int64),)"
      ]
     },
     "execution_count": 16,
     "metadata": {},
     "output_type": "execute_result"
    }
   ],
   "source": [
    "np.where(cdr_sel.apply(pose))"
   ]
  },
  {
   "cell_type": "code",
   "execution_count": 17,
   "id": "23e38cb1-47ee-418d-b87c-abb299426218",
   "metadata": {},
   "outputs": [
    {
     "data": {
      "text/plain": [
       "(array([ 22,  23,  24,  25,  26,  27,  28,  29,  30,  31,  32,  33,  34,\n",
       "         49,  50,  51,  52,  53,  54,  55,  56,  57,  58,  96,  97,  98,\n",
       "         99, 100, 101, 102, 103, 104, 105, 106, 107, 108, 143, 144, 145,\n",
       "        146, 147, 148, 149, 150, 151, 152, 153, 168, 169, 170, 171, 172,\n",
       "        173, 174, 175]),)"
      ]
     },
     "execution_count": 17,
     "metadata": {},
     "output_type": "execute_result"
    }
   ],
   "source": [
    "cdr_sel = py.rosetta.protocols.antibody.residue_selector.CDRResidueSelector(ab_info, x)\n",
    "np.where(cdr_sel.apply(pose))"
   ]
  },
  {
   "cell_type": "code",
   "execution_count": 23,
   "id": "c3a11f69-6013-4b68-a406-83a2c4538e12",
   "metadata": {},
   "outputs": [
    {
     "data": {
      "text/plain": [
       "array([ 23,  24,  25,  26,  27,  28,  29,  30,  31,  32,  33,  34,  35,\n",
       "        50,  51,  52,  53,  54,  55,  56,  57,  58,  59,  97,  98,  99,\n",
       "       100, 101, 102, 103, 104, 105, 106, 107, 108, 109, 144, 145, 146,\n",
       "       147, 148, 149, 150, 151, 152, 153, 154, 169, 170, 171, 172, 173,\n",
       "       174, 175, 176, 209, 210, 211, 212, 213, 214, 215, 216, 217])"
      ]
     },
     "execution_count": 23,
     "metadata": {},
     "output_type": "execute_result"
    }
   ],
   "source": [
    "sele"
   ]
  },
  {
   "cell_type": "code",
   "execution_count": 24,
   "id": "2a8b32c9-d8e3-417a-af17-29953fd65ddf",
   "metadata": {},
   "outputs": [],
   "source": [
    "sele[sele > light_length] = sele[sele > light_length] - light_length"
   ]
  },
  {
   "cell_type": "code",
   "execution_count": 25,
   "id": "f8c40b95-9cd2-45b6-a884-faa5f96e0837",
   "metadata": {},
   "outputs": [
    {
     "data": {
      "text/plain": [
       "array([ 23,  24,  25,  26,  27,  28,  29,  30,  31,  32,  33,  34,  35,\n",
       "        50,  51,  52,  53,  54,  55,  56,  57,  58,  59,  97,  98,  99,\n",
       "       100, 101, 102, 103, 104, 105, 106, 107, 108, 109,  24,  25,  26,\n",
       "        27,  28,  29,  30,  31,  32,  33,  34,  49,  50,  51,  52,  53,\n",
       "        54,  55,  56,  89,  90,  91,  92,  93,  94,  95,  96,  97])"
      ]
     },
     "execution_count": 25,
     "metadata": {},
     "output_type": "execute_result"
    }
   ],
   "source": [
    "sele"
   ]
  },
  {
   "cell_type": "code",
   "execution_count": 26,
   "id": "f105f48f-2685-4f8d-9491-74130a7a4f44",
   "metadata": {},
   "outputs": [],
   "source": [
    "y = 'H1'"
   ]
  },
  {
   "cell_type": "code",
   "execution_count": 29,
   "id": "81edb387-0595-43ad-92e6-e49968a264cc",
   "metadata": {},
   "outputs": [
    {
     "data": {
      "text/plain": [
       "<CDRNameEnum.h1: 1>"
      ]
     },
     "execution_count": 29,
     "metadata": {},
     "output_type": "execute_result"
    }
   ],
   "source": [
    "getattr(antibody,y)"
   ]
  },
  {
   "cell_type": "code",
   "execution_count": 1,
   "id": "f7c9c9ae-a75e-49a5-869f-931b0bc43fa6",
   "metadata": {},
   "outputs": [
    {
     "name": "stderr",
     "output_type": "stream",
     "text": [
      "/tmp/ipykernel_250621/2548576014.py:4: UserWarning: Import of 'rosetta' as a top-level module is deprecated and may be removed in 2018, import via 'pyrosetta.rosetta'.\n",
      "  from rosetta.protocols.antibody.residue_selector import CDRResidueSelector\n"
     ]
    },
    {
     "name": "stdout",
     "output_type": "stream",
     "text": [
      "PyRosetta-4 2022 [Rosetta PyRosetta4.conda.linux.cxx11thread.serialization.CentOS.python39.Release 2022.37+release.4c51f714cd413ab5625d699da693250e86294a85 2022-09-16T17:05:06] retrieved from: http://www.pyrosetta.org\n",
      "(C) Copyright Rosetta Commons Member Institutions. Created in JHU by Sergey Lyskov and PyRosetta Team.\n"
     ]
    }
   ],
   "source": [
    "import pyrosetta as py\n",
    "import numpy as np\n",
    "from pyrosetta.rosetta.protocols import antibody\n",
    "from rosetta.protocols.antibody.residue_selector import CDRResidueSelector\n",
    "py.init('-out:level 0')\n",
    "\n",
    "pose = py.pose_from_pdb('2FJG_fv_chothia.pdb')\n",
    "ab_info = antibody.AntibodyInfo(pose, antibody.Chothia_Scheme, antibody.North)\n",
    "\n",
    "#cdr='h1'\n",
    "#vec = py.rosetta.utility.vector1_bool(6)\n",
    "#vec[getattr(antibody,cdr)] = True\n",
    "vec = ab_info.get_all_cdrs()\n",
    "cdr_sel = py.rosetta.protocols.antibody.residue_selector.CDRResidueSelector(ab_info, vec)\n",
    "selection = np.where(cdr_sel.apply(pose))[0] + 1"
   ]
  },
  {
   "cell_type": "code",
   "execution_count": 18,
   "id": "077b7be9-ebd0-41c3-be5c-c66f6c9ffaaf",
   "metadata": {},
   "outputs": [
    {
     "data": {
      "text/plain": [
       "pyrosetta.rosetta.utility.vector1_utility_vector1_protocols_antibody_FrameWork_std_allocator_protocols_antibody_FrameWork_t"
      ]
     },
     "execution_count": 18,
     "metadata": {},
     "output_type": "execute_result"
    }
   ],
   "source": [
    "type(ab_info.get_AntibodyFrameworkInfo())"
   ]
  },
  {
   "cell_type": "code",
   "execution_count": 34,
   "id": "643a2740-c5a1-4c17-bebf-9a591ac4824e",
   "metadata": {},
   "outputs": [],
   "source": [
    "vec[antibody.h1] = True"
   ]
  },
  {
   "cell_type": "code",
   "execution_count": 37,
   "id": "c02ceb41-9bdb-4316-9be9-ba968d00db9f",
   "metadata": {},
   "outputs": [
    {
     "data": {
      "text/plain": [
       "vector1_protocols_antibody_CDRNameEnum[1, 2, 3, 4, 5, 6]"
      ]
     },
     "execution_count": 37,
     "metadata": {},
     "output_type": "execute_result"
    }
   ],
   "source": [
    "vec"
   ]
  },
  {
   "cell_type": "code",
   "execution_count": 42,
   "id": "2c796141-c69a-4630-87f2-9eab1e3b9b80",
   "metadata": {},
   "outputs": [
    {
     "data": {
      "text/plain": [
       "(array([22, 23, 24, 25, 26, 27, 28, 29, 30, 31, 32, 33, 34]),)"
      ]
     },
     "execution_count": 42,
     "metadata": {},
     "output_type": "execute_result"
    }
   ],
   "source": [
    "selection"
   ]
  },
  {
   "cell_type": "code",
   "execution_count": 38,
   "id": "d44d88aa-1b76-41e7-8e12-174712f46c52",
   "metadata": {},
   "outputs": [],
   "source": [
    "a='xcv'\n",
    "b='asdfa'"
   ]
  },
  {
   "cell_type": "code",
   "execution_count": 40,
   "id": "44334691-993a-4884-b4e5-4f1c043e7f2a",
   "metadata": {},
   "outputs": [],
   "source": [
    "a += a"
   ]
  },
  {
   "cell_type": "code",
   "execution_count": 60,
   "id": "8fed7cdd-c34f-40cb-bb54-6f16833eb689",
   "metadata": {},
   "outputs": [],
   "source": [
    "resids = ''\n",
    "for i in np.where(cdr_sel.apply(pose))[0] + 1:\n",
    "    resids += 'resid ' + str(i) + ' or '\n",
    "selection = 'name CA and (' + resids[:-4] +')'"
   ]
  },
  {
   "cell_type": "code",
   "execution_count": 53,
   "id": "93931ac8-417e-4c2d-b85b-478f5166f5d2",
   "metadata": {},
   "outputs": [],
   "source": [
    "x = []"
   ]
  },
  {
   "cell_type": "code",
   "execution_count": 54,
   "id": "ac6014c8-ecf9-4844-8910-edf6b14e11ac",
   "metadata": {},
   "outputs": [],
   "source": [
    "x += 'a ' + str(0) + ' b '"
   ]
  },
  {
   "cell_type": "code",
   "execution_count": 51,
   "id": "47fbbd00-fda7-4a8a-99ac-c369c55e5e97",
   "metadata": {},
   "outputs": [],
   "source": [
    "x += x"
   ]
  },
  {
   "cell_type": "code",
   "execution_count": 52,
   "id": "9109bf56-89fc-44e7-9885-07a950badb84",
   "metadata": {},
   "outputs": [
    {
     "data": {
      "text/plain": [
       "'a 0 b a 0 b '"
      ]
     },
     "execution_count": 52,
     "metadata": {},
     "output_type": "execute_result"
    }
   ],
   "source": [
    "x"
   ]
  },
  {
   "cell_type": "code",
   "execution_count": 36,
   "id": "08cd2b78-ffc9-4183-ba1b-02a1d522ce13",
   "metadata": {},
   "outputs": [
    {
     "data": {
      "text/plain": [
       "array([22, 23, 24, 25, 26, 27, 28, 29, 30, 31, 32, 33, 34])"
      ]
     },
     "execution_count": 36,
     "metadata": {},
     "output_type": "execute_result"
    }
   ],
   "source": [
    "'name CA and selection[0]"
   ]
  },
  {
   "cell_type": "markdown",
   "id": "585f7112-0bd0-4a7c-bc27-ffe38a28c3e9",
   "metadata": {
    "tags": []
   },
   "source": [
    "### Test code to calculate loop rmsds directly"
   ]
  },
  {
   "cell_type": "code",
   "execution_count": 1,
   "id": "0d4d1a50-f722-4e1b-8c65-625bd41a0693",
   "metadata": {},
   "outputs": [
    {
     "name": "stdout",
     "output_type": "stream",
     "text": [
      "PyRosetta-4 2022 [Rosetta PyRosetta4.conda.linux.cxx11thread.serialization.CentOS.python39.Release 2022.37+release.4c51f714cd413ab5625d699da693250e86294a85 2022-09-16T17:05:06] retrieved from: http://www.pyrosetta.org\n",
      "(C) Copyright Rosetta Commons Member Institutions. Created in JHU by Sergey Lyskov and PyRosetta Team.\n"
     ]
    },
    {
     "name": "stderr",
     "output_type": "stream",
     "text": [
      "/tmp/ipykernel_426598/901955414.py:10: UserWarning: Import of 'rosetta' as a top-level module is deprecated and may be removed in 2018, import via 'pyrosetta.rosetta'.\n",
      "  from rosetta.protocols.antibody.residue_selector import CDRResidueSelector\n"
     ]
    }
   ],
   "source": [
    "import matplotlib\n",
    "import numpy as np\n",
    "import MDAnalysis as mda\n",
    "import seaborn as sns\n",
    "import pyrosetta as py\n",
    "import matplotlib.pyplot as plt\n",
    "from MDAnalysis.analysis import rms\n",
    "import MDAnalysis.analysis.encore as encore\n",
    "from pyrosetta.rosetta.protocols import antibody\n",
    "from rosetta.protocols.antibody.residue_selector import CDRResidueSelector\n",
    "py.init('-out:level 0')"
   ]
  },
  {
   "cell_type": "code",
   "execution_count": 2,
   "id": "0bc4b286-0a99-4251-9d3c-17927d0008f6",
   "metadata": {},
   "outputs": [],
   "source": [
    "pose = py.pose_from_pdb('analysis/loop_rmsd/test/2FJG_fv_chothia.pdb')\n",
    "ab_info = antibody.AntibodyInfo(pose, antibody.Chothia_Scheme, antibody.North)\n",
    "\n",
    "cdr='l1'\n",
    "vec = py.rosetta.utility.vector1_bool(6)\n",
    "vec[getattr(antibody,cdr)] = True\n",
    "#vec = ab_info.get_all_cdrs()\n",
    "cdr_sel = py.rosetta.protocols.antibody.residue_selector.CDRResidueSelector(ab_info, vec)\n",
    "where = np.where(cdr_sel.apply(pose))"
   ]
  },
  {
   "cell_type": "code",
   "execution_count": 6,
   "id": "b09cb1e1-f79a-4ef2-b390-8a0ac175f77f",
   "metadata": {},
   "outputs": [],
   "source": [
    "u = mda.Universe('340K_pierce_simulations/1/mdframe.pdb','340K_pierce_simulations/1/md_corrected.xtc')\n",
    "#u = mda.Universe('analysis/loop_rmsd/test/2FJG_fv_chothia.pdb','analysis/loop_rmsd/test/2FJG_fv_chothia.pdb')\n",
    "v = mda.Universe('370K_pierce_simulations/1/mdframe.pdb','370K_pierce_simulations/1/md_corrected.xtc')\n",
    "#v = mda.Universe('pierce_simulations/1/mdframe.pdb', 'pierce_simulations/1/md_corrected.xtc')"
   ]
  },
  {
   "cell_type": "code",
   "execution_count": 7,
   "id": "d4e10955-ebde-4365-a8ae-7b79f3898c71",
   "metadata": {},
   "outputs": [
    {
     "data": {
      "application/vnd.jupyter.widget-view+json": {
       "model_id": "691ada06259f4fa4a334a57892008b02",
       "version_major": 2,
       "version_minor": 0
      },
      "text/plain": [
       "Loading frames:   0%|          | 0/501 [00:00<?, ?it/s]"
      ]
     },
     "metadata": {},
     "output_type": "display_data"
    },
    {
     "data": {
      "application/vnd.jupyter.widget-view+json": {
       "model_id": "092ccb3ef1df41c5bc19b4f76888255e",
       "version_major": 2,
       "version_minor": 0
      },
      "text/plain": [
       "Loading frames:   0%|          | 0/51 [00:00<?, ?it/s]"
      ]
     },
     "metadata": {},
     "output_type": "display_data"
    }
   ],
   "source": [
    "u.transfer_to_memory(step=10,verbose=True)\n",
    "v.transfer_to_memory(step=100, verbose=True)\n",
    "#w.transfer_to_memory(step=100, verbose=True)"
   ]
  },
  {
   "cell_type": "code",
   "execution_count": 9,
   "id": "253c58da-281d-43cd-9276-bba7dadd4713",
   "metadata": {},
   "outputs": [
    {
     "ename": "IndentationError",
     "evalue": "unexpected indent (1931156011.py, line 2)",
     "output_type": "error",
     "traceback": [
      "\u001b[0;36m  Input \u001b[0;32mIn [9]\u001b[0;36m\u001b[0m\n\u001b[0;31m    v_framework = np.concatenate((v.segments.resindices[0][5:11+1], v.segments.resindices[0][38:45+1],v.segments.resindices[0][80:90+1],v.segments.resindices[0][105:len(pose.chain_sequence(1))]))\u001b[0m\n\u001b[0m    ^\u001b[0m\n\u001b[0;31mIndentationError\u001b[0m\u001b[0;31m:\u001b[0m unexpected indent\n"
     ]
    }
   ],
   "source": [
    "# if (cdr == 'h1') or (cdr=='h2') or (cdr=='h3') or (cdr=='heavy'):\n",
    "    v_framework = np.concatenate((v.segments.resindices[0][5:11+1], v.segments.resindices[0][38:45+1],v.segments.resindices[0][80:90+1],v.segments.resindices[0][105:len(pose.chain_sequence(1))]))\n",
    "    v_loop = v.segments.resindices[0][where]\n",
    "elif (cdr == 'l1') or (cdr=='l2') or (cdr=='l3') or (cdr=='light'):\n",
    "    v_framework = np.concatenate((v.segments.resindices[1][6:19+1], v.segments.resindices[1][37:43+1],v.segments.resindices[1][75:84+1],v.segments.resindices[1][100:len(pose.chain_sequence(2))]))\n",
    "    v_loop = v.segments.resindices[1][where[0]-len(pose.chain_sequence(1))]\n",
    "elif cdr == 'all':\n",
    "    framework1 = np.concatenate((v.segments.resindices[0][5:11+1], v.segments.resindices[0][38:45+1],v.segments.resindices[0][80:90+1],v.segments.resindices[0][105:len(pose.chain_sequence(1))]))\n",
    "    framework2 = np.concatenate((v.segments.resindices[1][6:19+1], v.segments.resindices[1][37:43+1],v.segments.resindices[1][75:84+1],v.segments.resindices[1][100:len(pose.chain_sequence(2))]))\n",
    "    v_framework = np.concatenate((framework1,framework2))\n",
    "    \n",
    "resids = ''\n",
    "for i in v_framework:\n",
    "    resids += 'resindex ' + str(i) + ' or '\n",
    "v_framework_selection = 'not name O and (backbone and (' + resids[:-4] +'))'\n",
    "\n",
    "resids = ''\n",
    "for i in v_loop:\n",
    "    resids += 'resindex ' + str(i) + ' or '\n",
    "v_loop_selection = 'not name O and (backbone and (' + resids[:-4] +'))'"
   ]
  },
  {
   "cell_type": "code",
   "execution_count": 53,
   "id": "3f1287f7-5937-4c16-be6a-d6f8f95a3d20",
   "metadata": {
    "tags": []
   },
   "outputs": [],
   "source": [
    "if (cdr == 'h1') or (cdr=='h2') or (cdr=='h3') or (cdr=='heavy'):\n",
    "    u_framework = np.concatenate((u.segments.resindices[0][5:11+1], u.segments.resindices[0][38:45+1],u.segments.resindices[0][80:90+1],u.segments.resindices[0][105:len(pose.chain_sequence(1))]))\n",
    "    u_loop = u.segments.resindices[0][where]\n",
    "elif (cdr == 'l1') or (cdr=='l2') or (cdr=='l3') or (cdr=='light'):\n",
    "    u_framework = np.concatenate((u.segments.resindices[1][6:19+1], u.segments.resindices[1][37:43+1],u.segments.resindices[1][75:84+1],u.segments.resindices[1][100:len(pose.chain_sequence(2))]))\n",
    "    u_loop = u.segments.resindices[1][where[0]-len(pose.chain_sequence(1))]\n",
    "elif cdr == 'all':\n",
    "    framework1 = np.concatenate((u.segments.resindices[0][5:11+1], u.segments.resindices[0][38:45+1],u.segments.resindices[0][80:90+1],u.segments.resindices[0][105:len(pose.chain_sequence(1))]))\n",
    "    framework2 = np.concatenate((u.segments.resindices[1][6:19+1], u.segments.resindices[1][37:43+1],u.segments.resindices[1][75:84+1],u.segments.resindices[1][100:len(pose.chain_sequence(2))]))\n",
    "    u_framework = np.concatenate((framework1,framework2))\n",
    "    \n",
    "resids = ''\n",
    "for i in u_framework:\n",
    "    resids += 'resindex ' + str(i) + ' or '\n",
    "u_framework_selection = 'not name O and (backbone and (' + resids[:-4] +'))'\n",
    "\n",
    "resids = ''\n",
    "for i in u_loop:\n",
    "    resids += 'resindex ' + str(i) + ' or '\n",
    "u_loop_selection = 'not name O and (backbone and (' + resids[:-4] +'))'"
   ]
  },
  {
   "cell_type": "code",
   "execution_count": 54,
   "id": "234e6394-ff4d-4997-98a3-9fe31587b3cc",
   "metadata": {},
   "outputs": [
    {
     "data": {
      "text/plain": [
       "'not name O and (backbone and (resindex 241 or resindex 242 or resindex 243 or resindex 244 or resindex 245 or resindex 246 or resindex 247 or resindex 248 or resindex 249 or resindex 250 or resindex 251))'"
      ]
     },
     "execution_count": 54,
     "metadata": {},
     "output_type": "execute_result"
    }
   ],
   "source": [
    "v_loop_selection"
   ]
  },
  {
   "cell_type": "code",
   "execution_count": 55,
   "id": "d45aafdf-1235-48b0-bcd8-ddb90cafefc7",
   "metadata": {},
   "outputs": [
    {
     "data": {
      "text/plain": [
       "'not name O and (backbone and (resindex 143 or resindex 144 or resindex 145 or resindex 146 or resindex 147 or resindex 148 or resindex 149 or resindex 150 or resindex 151 or resindex 152 or resindex 153))'"
      ]
     },
     "execution_count": 55,
     "metadata": {},
     "output_type": "execute_result"
    }
   ],
   "source": [
    "u_loop_selection"
   ]
  },
  {
   "cell_type": "code",
   "execution_count": 57,
   "id": "84113b36-afbe-499a-adc5-d8743d2d0b26",
   "metadata": {},
   "outputs": [
    {
     "data": {
      "text/plain": [
       "'not name O and (backbone and (resindex 224 or resindex 225 or resindex 226 or resindex 227 or resindex 228 or resindex 229 or resindex 230 or resindex 231 or resindex 232 or resindex 233 or resindex 234 or resindex 235 or resindex 236 or resindex 237 or resindex 255 or resindex 256 or resindex 257 or resindex 258 or resindex 259 or resindex 260 or resindex 261 or resindex 293 or resindex 294 or resindex 295 or resindex 296 or resindex 297 or resindex 298 or resindex 299 or resindex 300 or resindex 301 or resindex 302 or resindex 318 or resindex 319 or resindex 320 or resindex 321 or resindex 322 or resindex 323 or resindex 324))'"
      ]
     },
     "execution_count": 57,
     "metadata": {},
     "output_type": "execute_result"
    }
   ],
   "source": [
    "v_framework_selection"
   ]
  },
  {
   "cell_type": "code",
   "execution_count": 58,
   "id": "5087e2b3-cbf6-4bab-9715-73f1703fb575",
   "metadata": {},
   "outputs": [
    {
     "data": {
      "text/plain": [
       "'not name O and (backbone and (resindex 126 or resindex 127 or resindex 128 or resindex 129 or resindex 130 or resindex 131 or resindex 132 or resindex 133 or resindex 134 or resindex 135 or resindex 136 or resindex 137 or resindex 138 or resindex 139 or resindex 157 or resindex 158 or resindex 159 or resindex 160 or resindex 161 or resindex 162 or resindex 163 or resindex 195 or resindex 196 or resindex 197 or resindex 198 or resindex 199 or resindex 200 or resindex 201 or resindex 202 or resindex 203 or resindex 204 or resindex 220 or resindex 221 or resindex 222 or resindex 223 or resindex 224 or resindex 225 or resindex 226))'"
      ]
     },
     "execution_count": 58,
     "metadata": {},
     "output_type": "execute_result"
    }
   ],
   "source": [
    "u_framework_selection"
   ]
  },
  {
   "cell_type": "code",
   "execution_count": 60,
   "id": "554d57ed-79b2-44b0-920b-dc853c3d90d9",
   "metadata": {},
   "outputs": [
    {
     "name": "stderr",
     "output_type": "stream",
     "text": [
      "/home/akshay/apps/anaconda3/lib/python3.9/site-packages/MDAnalysis/analysis/rms.py:718: DeprecationWarning: The `rmsd` attribute was deprecated in MDAnalysis 2.0.0 and will be removed in MDAnalysis 3.0.0. Please use `results.rmsd` instead.\n",
      "  warnings.warn(wmsg, DeprecationWarning)\n"
     ]
    }
   ],
   "source": [
    "x = np.zeros([len(u.trajectory), len(v.trajectory)])\n",
    "y = np.zeros([len(u.trajectory), len(v.trajectory)])\n",
    "\n",
    "for i in range(0,len(u.trajectory)):\n",
    "    #u.trajectory[i]\n",
    "    r = rms.RMSD(v, u, select=(v_framework_selection,u_framework_selection), ref_frame=i, groupselections=[u_loop_selection]).run()\n",
    "    x[i,:] = r.rmsd[:,2]\n",
    "    y[i,:] = r.rmsd[:,3]"
   ]
  },
  {
   "cell_type": "code",
   "execution_count": 61,
   "id": "c4bbeb4f-c2a6-4680-814a-a71a3491ec50",
   "metadata": {},
   "outputs": [
    {
     "data": {
      "text/plain": [
       "Text(0.5, 1.0, '#1-Frame-wise Backbone RMSD  ($\\\\AA$)')"
      ]
     },
     "execution_count": 61,
     "metadata": {},
     "output_type": "execute_result"
    },
    {
     "data": {
      "image/png": "[encoded data removed]",
      "text/plain": [
       "<Figure size 864x576 with 2 Axes>"
      ]
     },
     "metadata": {
      "needs_background": "light"
     },
     "output_type": "display_data"
    }
   ],
   "source": [
    "cmap = matplotlib.cm.get_cmap(\"jet\", 6)\n",
    "plt.figure(figsize=(12,8))\n",
    "sns.heatmap(x, cmap = cmap, vmin=0,vmax=6)\n",
    "plt.xlabel('Mobile-310K')\n",
    "plt.ylabel('Reference-370K')\n",
    "plt.title('#1-Frame-wise Backbone RMSD  ($\\AA$)')\n",
    "#plt.savefig('prmsd_1_310_370.png',dpi=300)"
   ]
  },
  {
   "cell_type": "code",
   "execution_count": 63,
   "id": "7639ca2e-831d-4510-b6a4-48c712337e3a",
   "metadata": {},
   "outputs": [
    {
     "data": {
      "text/plain": [
       "Text(0.5, 1.0, '#1-Frame-wise Backbone RMSD  ($\\\\AA$)')"
      ]
     },
     "execution_count": 63,
     "metadata": {},
     "output_type": "execute_result"
    },
    {
     "data": {
      "image/png": "[encoded data removed]",
      "text/plain": [
       "<Figure size 864x576 with 2 Axes>"
      ]
     },
     "metadata": {
      "needs_background": "light"
     },
     "output_type": "display_data"
    }
   ],
   "source": [
    "cmap = matplotlib.cm.get_cmap(\"jet\", 6)\n",
    "plt.figure(figsize=(12,8))\n",
    "sns.heatmap(y, cmap = cmap, vmin=0)\n",
    "plt.xlabel('Mobile-310K')\n",
    "plt.ylabel('Reference-370K')\n",
    "plt.title('#1-Frame-wise Backbone RMSD  ($\\AA$)')\n",
    "#plt.savefig('prmsd_1_310_370.png',dpi=300)"
   ]
  },
  {
   "cell_type": "markdown",
   "id": "6e555571-8d2e-404e-b846-20ad59e00194",
   "metadata": {
    "jp-MarkdownHeadingCollapsed": true,
    "tags": []
   },
   "source": [
    "### Test code to calculate loop rmsds by first aligning separately"
   ]
  },
  {
   "cell_type": "code",
   "execution_count": 1,
   "id": "1a9d0ca0-96e0-4b18-8bd0-6752cadb04d8",
   "metadata": {},
   "outputs": [
    {
     "name": "stdout",
     "output_type": "stream",
     "text": [
      "PyRosetta-4 2022 [Rosetta PyRosetta4.conda.linux.cxx11thread.serialization.CentOS.python39.Release 2022.37+release.4c51f714cd413ab5625d699da693250e86294a85 2022-09-16T17:05:06] retrieved from: http://www.pyrosetta.org\n",
      "(C) Copyright Rosetta Commons Member Institutions. Created in JHU by Sergey Lyskov and PyRosetta Team.\n"
     ]
    },
    {
     "name": "stderr",
     "output_type": "stream",
     "text": [
      "/tmp/ipykernel_334328/3280448234.py:11: UserWarning: Import of 'rosetta' as a top-level module is deprecated and may be removed in 2018, import via 'pyrosetta.rosetta'.\n",
      "  from rosetta.protocols.antibody.residue_selector import CDRResidueSelector\n"
     ]
    }
   ],
   "source": [
    "import matplotlib\n",
    "import numpy as np\n",
    "import MDAnalysis as mda\n",
    "import seaborn as sns\n",
    "import pyrosetta as py\n",
    "import matplotlib.pyplot as plt\n",
    "from MDAnalysis.analysis import rms\n",
    "from MDAnalysis.analysis import align\n",
    "import MDAnalysis.analysis.encore as encore\n",
    "from pyrosetta.rosetta.protocols import antibody\n",
    "from rosetta.protocols.antibody.residue_selector import CDRResidueSelector\n",
    "py.init('-out:level 0')"
   ]
  },
  {
   "cell_type": "code",
   "execution_count": 9,
   "id": "898c2420-aed2-4f58-8533-2ac11b5266e6",
   "metadata": {},
   "outputs": [],
   "source": [
    "pose = py.pose_from_pdb('2FJG_fv_chothia.pdb')\n",
    "ab_info = antibody.AntibodyInfo(pose, antibody.Chothia_Scheme, antibody.North)\n",
    "\n",
    "cdr='l2'\n",
    "vec = py.rosetta.utility.vector1_bool(6)\n",
    "vec[getattr(antibody,cdr)] = True\n",
    "#vec = ab_info.get_all_cdrs()\n",
    "cdr_sel = py.rosetta.protocols.antibody.residue_selector.CDRResidueSelector(ab_info, vec)\n",
    "where = np.where(cdr_sel.apply(pose))"
   ]
  },
  {
   "cell_type": "code",
   "execution_count": 24,
   "id": "4854e64c-c6af-4c73-b2cd-4c2163be6c0e",
   "metadata": {},
   "outputs": [],
   "source": [
    "#u = mda.Universe('340K_pierce_simulations/1/mdframe.pdb','340K_pierce_simulations/1/md_corrected.xtc')\n",
    "u = mda.Universe('2FJG_fv_chothia.pdb','2FJG_fv_chothia.pdb')\n",
    "v = mda.Universe('370K_pierce_simulations/1/mdframe.pdb','370K_pierce_simulations/1/md_corrected.xtc')\n",
    "#v = mda.Universe('pierce_simulations/1/mdframe.pdb', 'pierce_simulations/1/md_corrected.xtc')"
   ]
  },
  {
   "cell_type": "code",
   "execution_count": 25,
   "id": "039989bc-5a50-4e14-bfbf-012373bc45c1",
   "metadata": {},
   "outputs": [
    {
     "data": {
      "application/vnd.jupyter.widget-view+json": {
       "model_id": "173b3cbce77747c28cbd6fa0af82763e",
       "version_major": 2,
       "version_minor": 0
      },
      "text/plain": [
       "Loading frames:   0%|          | 0/1 [00:00<?, ?it/s]"
      ]
     },
     "metadata": {},
     "output_type": "display_data"
    },
    {
     "data": {
      "application/vnd.jupyter.widget-view+json": {
       "model_id": "3a4733d075414905a605c77b38724b1f",
       "version_major": 2,
       "version_minor": 0
      },
      "text/plain": [
       "Loading frames:   0%|          | 0/501 [00:00<?, ?it/s]"
      ]
     },
     "metadata": {},
     "output_type": "display_data"
    }
   ],
   "source": [
    "u.transfer_to_memory(step=10,verbose=True)\n",
    "v.transfer_to_memory(step=10, verbose=True)\n",
    "#w.transfer_to_memory(step=100, verbose=True)"
   ]
  },
  {
   "cell_type": "code",
   "execution_count": 26,
   "id": "cfca8bb7-ea02-492f-8b42-9a4e0bc79761",
   "metadata": {},
   "outputs": [],
   "source": [
    "if (cdr == 'h1') or (cdr=='h2') or (cdr=='h3') or (cdr=='heavy'):\n",
    "    v_framework = np.concatenate((v.segments.resindices[0][5:11+1], v.segments.resindices[0][38:45+1],v.segments.resindices[0][80:90+1],v.segments.resindices[0][105:len(pose.chain_sequence(1))]))\n",
    "    v_loop = v.segments.resindices[0][where]\n",
    "elif (cdr == 'l1') or (cdr=='l2') or (cdr=='l3') or (cdr=='light'):\n",
    "    v_framework = np.concatenate((v.segments.resindices[1][6:19+1], v.segments.resindices[1][37:43+1],v.segments.resindices[1][75:84+1],v.segments.resindices[1][100:len(pose.chain_sequence(2))]))\n",
    "    v_loop = v.segments.resindices[1][where[0]-len(pose.chain_sequence(1))]\n",
    "elif cdr == 'all':\n",
    "    framework1 = np.concatenate((v.segments.resindices[0][5:11+1], v.segments.resindices[0][38:45+1],v.segments.resindices[0][80:90+1],v.segments.resindices[0][105:len(pose.chain_sequence(1))]))\n",
    "    framework2 = np.concatenate((v.segments.resindices[1][6:19+1], v.segments.resindices[1][37:43+1],v.segments.resindices[1][75:84+1],v.segments.resindices[1][100:len(pose.chain_sequence(2))]))\n",
    "    v_framework = np.concatenate((framework1,framework2))\n",
    "    \n",
    "resids = ''\n",
    "for i in v_framework:\n",
    "    resids += 'resindex ' + str(i) + ' or '\n",
    "v_framework_selection = 'not name O and (backbone and (' + resids[:-4] +'))'\n",
    "\n",
    "resids = ''\n",
    "for i in v_loop:\n",
    "    resids += 'resindex ' + str(i) + ' or '\n",
    "v_loop_selection = 'not name O and (backbone and (' + resids[:-4] +'))'"
   ]
  },
  {
   "cell_type": "code",
   "execution_count": 27,
   "id": "42618d32-30d2-4ea9-abe6-a5c422774c4b",
   "metadata": {},
   "outputs": [],
   "source": [
    "if (cdr == 'h1') or (cdr=='h2') or (cdr=='h3') or (cdr=='heavy'):\n",
    "    u_framework = np.concatenate((u.segments.resindices[0][5:11+1], u.segments.resindices[0][38:45+1],u.segments.resindices[0][80:90+1],u.segments.resindices[0][105:len(pose.chain_sequence(1))]))\n",
    "    u_loop = u.segments.resindices[0][where]\n",
    "elif (cdr == 'l1') or (cdr=='l2') or (cdr=='l3') or (cdr=='light'):\n",
    "    u_framework = np.concatenate((u.segments.resindices[1][6:19+1], u.segments.resindices[1][37:43+1],u.segments.resindices[1][75:84+1],u.segments.resindices[1][100:len(pose.chain_sequence(2))]))\n",
    "    u_loop = u.segments.resindices[1][where[0]-len(pose.chain_sequence(1))]\n",
    "elif cdr == 'all':\n",
    "    framework1 = np.concatenate((u.segments.resindices[0][5:11+1], u.segments.resindices[0][38:45+1],u.segments.resindices[0][80:90+1],u.segments.resindices[0][105:len(pose.chain_sequence(1))]))\n",
    "    framework2 = np.concatenate((u.segments.resindices[1][6:19+1], u.segments.resindices[1][37:43+1],u.segments.resindices[1][75:84+1],u.segments.resindices[1][100:len(pose.chain_sequence(2))]))\n",
    "    u_framework = np.concatenate((framework1,framework2))\n",
    "    \n",
    "resids = ''\n",
    "for i in u_framework:\n",
    "    resids += 'resindex ' + str(i) + ' or '\n",
    "u_framework_selection = 'not name O and (backbone and (' + resids[:-4] +'))'\n",
    "\n",
    "resids = ''\n",
    "for i in u_loop:\n",
    "    resids += 'resindex ' + str(i) + ' or '\n",
    "u_loop_selection = 'not name O and (backbone and (' + resids[:-4] +'))'"
   ]
  },
  {
   "cell_type": "code",
   "execution_count": 28,
   "id": "f642f1b4-59b0-4d1e-9bdb-610b5c0eb58d",
   "metadata": {},
   "outputs": [
    {
     "data": {
      "application/vnd.jupyter.widget-view+json": {
       "model_id": "c0feb186d6d741a990fbc44cd207a6fd",
       "version_major": 2,
       "version_minor": 0
      },
      "text/plain": [
       "  0%|          | 0/501 [00:00<?, ?it/s]"
      ]
     },
     "metadata": {},
     "output_type": "display_data"
    }
   ],
   "source": [
    "z = align.AlignTraj(v,u,select=(v_framework_selection,u_framework_selection),verbose=True).run()"
   ]
  },
  {
   "cell_type": "code",
   "execution_count": 29,
   "id": "715c44bb-1593-42a2-a670-9d3bef2beaba",
   "metadata": {},
   "outputs": [],
   "source": [
    "u_loop_position = u.select_atoms(u_loop_selection).positions\n",
    "a = []\n",
    "for _ in v.trajectory:\n",
    "    a.append(rms.rmsd(v.select_atoms(v_loop_selection).positions, u_loop_position, center=False, superposition=False))"
   ]
  },
  {
   "cell_type": "code",
   "execution_count": 30,
   "id": "b81aadbd-3424-4dd6-8ad3-380209c4ee33",
   "metadata": {},
   "outputs": [
    {
     "data": {
      "text/plain": [
       "[<matplotlib.lines.Line2D at 0x7f2f9f6bac40>]"
      ]
     },
     "execution_count": 30,
     "metadata": {},
     "output_type": "execute_result"
    },
    {
     "data": {
      "image/png": "[encoded data removed]",
      "text/plain": [
       "<Figure size 432x288 with 1 Axes>"
      ]
     },
     "metadata": {
      "needs_background": "light"
     },
     "output_type": "display_data"
    }
   ],
   "source": [
    "plt.plot(a)"
   ]
  },
  {
   "cell_type": "code",
   "execution_count": null,
   "id": "7e2aafb9-840d-43ac-b3f5-aebf0c4eea33",
   "metadata": {},
   "outputs": [],
   "source": [
    "x = np.zeros([len(u.trajectory), len(v.trajectory)])\n",
    "y = np.zeros([len(u.trajectory), len(v.trajectory)])\n",
    "\n",
    "for i in range(0,len(u.trajectory)):\n",
    "    #u.trajectory[i]\n",
    "    r = rms.RMSD(v, u, select=(v_framework_selection,u_framework_selection), ref_frame=i, groupselections=[u_loop_selection]).run()\n",
    "    x[i,:] = r.rmsd[:,2]\n",
    "    y[i,:] = r.rmsd[:,3]"
   ]
  },
  {
   "cell_type": "markdown",
   "id": "b16e1718-fe0c-499d-8f84-128f1962d058",
   "metadata": {
    "jp-MarkdownHeadingCollapsed": true,
    "tags": []
   },
   "source": [
    "### Actual code to find loop rmsds between trajectories"
   ]
  },
  {
   "cell_type": "code",
   "execution_count": 21,
   "id": "e2c9c0d4-fc38-476c-91ce-f0acb59589d3",
   "metadata": {},
   "outputs": [
    {
     "name": "stdout",
     "output_type": "stream",
     "text": [
      "PyRosetta-4 2022 [Rosetta PyRosetta4.conda.linux.cxx11thread.serialization.CentOS.python39.Release 2022.37+release.4c51f714cd413ab5625d699da693250e86294a85 2022-09-16T17:05:06] retrieved from: http://www.pyrosetta.org\n",
      "(C) Copyright Rosetta Commons Member Institutions. Created in JHU by Sergey Lyskov and PyRosetta Team.\n"
     ]
    },
    {
     "ename": "RuntimeError",
     "evalue": "\n\nFile: /home/benchmark/rosetta/source/src/protocols/antibody/AntibodyInfo.cc:791\nL1peptide bond geometry issues at loop position 24 L \nPlease check pdb for large chainbreaks or missing density.  \nLoop modeling applications can be used to close loops or create residues in the loop from missing density. \nYou can OVERRIDE this check by passing the flag -check_cdr_chainbreaks false \n",
     "output_type": "error",
     "traceback": [
      "\u001b[0;31m---------------------------------------------------------------------------\u001b[0m",
      "\u001b[0;31mRuntimeError\u001b[0m                              Traceback (most recent call last)",
      "Input \u001b[0;32mIn [21]\u001b[0m, in \u001b[0;36m<cell line: 31>\u001b[0;34m()\u001b[0m\n\u001b[1;32m     28\u001b[0m cdr \u001b[38;5;241m=\u001b[39m \u001b[38;5;124m'\u001b[39m\u001b[38;5;124mh3\u001b[39m\u001b[38;5;124m'\u001b[39m\n\u001b[1;32m     30\u001b[0m pose \u001b[38;5;241m=\u001b[39m py\u001b[38;5;241m.\u001b[39mpose_from_pdb(renumbered_pdb)\n\u001b[0;32m---> 31\u001b[0m ab_info \u001b[38;5;241m=\u001b[39m \u001b[43mantibody\u001b[49m\u001b[38;5;241;43m.\u001b[39;49m\u001b[43mAntibodyInfo\u001b[49m\u001b[43m(\u001b[49m\u001b[43mpose\u001b[49m\u001b[43m,\u001b[49m\u001b[43m \u001b[49m\u001b[43mantibody\u001b[49m\u001b[38;5;241;43m.\u001b[39;49m\u001b[43mChothia_Scheme\u001b[49m\u001b[43m,\u001b[49m\u001b[43m \u001b[49m\u001b[43mantibody\u001b[49m\u001b[38;5;241;43m.\u001b[39;49m\u001b[43mNorth\u001b[49m\u001b[43m)\u001b[49m\n\u001b[1;32m     33\u001b[0m \u001b[38;5;28;01mif\u001b[39;00m cdr \u001b[38;5;241m==\u001b[39m \u001b[38;5;124m'\u001b[39m\u001b[38;5;124mall\u001b[39m\u001b[38;5;124m'\u001b[39m:\n\u001b[1;32m     34\u001b[0m     vec \u001b[38;5;241m=\u001b[39m ab_info\u001b[38;5;241m.\u001b[39mget_all_cdrs()\n",
      "\u001b[0;31mRuntimeError\u001b[0m: \n\nFile: /home/benchmark/rosetta/source/src/protocols/antibody/AntibodyInfo.cc:791\nL1peptide bond geometry issues at loop position 24 L \nPlease check pdb for large chainbreaks or missing density.  \nLoop modeling applications can be used to close loops or create residues in the loop from missing density. \nYou can OVERRIDE this check by passing the flag -check_cdr_chainbreaks false \n"
     ]
    }
   ],
   "source": [
    "'''\n",
    "Calculate the RMSD of the loops between trajectories. Supported loops are h/l1-3, heavy,light, all.\n",
    "NOTE THAT SELECTIONS HAVE TO BE EQUIVALENT.\n",
    "'''\n",
    "\n",
    "import sys\n",
    "import matplotlib\n",
    "import numpy as np\n",
    "import MDAnalysis as mda\n",
    "import pyrosetta as py\n",
    "from MDAnalysis.analysis import rms\n",
    "from pyrosetta.rosetta.protocols import antibody\n",
    "from rosetta.protocols.antibody.residue_selector import CDRResidueSelector\n",
    "import matplotlib.pyplot as plt\n",
    "import seaborn as sns\n",
    "cmap = matplotlib.cm.get_cmap(\"jet\", 6)\n",
    "py.init('-out:level 0')\n",
    "\n",
    "ref_top = '340K_pierce_simulations/9/mdframe.pdb'\n",
    "ref_traj = '340K_pierce_simulations/9/md_corrected.xtc'\n",
    "mobile_top = 'pierce_simulations/9/mdframe.pdb'\n",
    "mobile_traj = 'pierce_simulations/9/md_corrected.xtc'\n",
    "name = '1'\n",
    "index_ref = 340\n",
    "index_mob = 310\n",
    "rmsd_val = 1\n",
    "renumbered_pdb = 'pierce_simulations/9/fv_chothia.pdb'\n",
    "cdr = 'h3'\n",
    "\n",
    "pose = py.pose_from_pdb(renumbered_pdb)\n",
    "ab_info = antibody.AntibodyInfo(pose, antibody.Chothia_Scheme, antibody.North)\n",
    "\n",
    "if cdr == 'all':\n",
    "    vec = ab_info.get_all_cdrs()\n",
    "elif cdr == 'heavy':\n",
    "    vec = py.rosetta.utility.vector1_bool(6)\n",
    "    vec[antibody.h1] = True\n",
    "    vec[antibody.h2] = True\n",
    "    vec[antibody.h3] = True\n",
    "\n",
    "elif cdr == 'light':\n",
    "    vec = py.rosetta.utility.vector1_bool(6)\n",
    "    vec[antibody.l1] = True\n",
    "    vec[antibody.l2] = True\n",
    "    vec[antibody.l3] = True\n",
    "\n",
    "else:\n",
    "    vec = py.rosetta.utility.vector1_bool(6)\n",
    "    vec[getattr(antibody,cdr)] = True\n",
    "\n",
    "cdr_sel = py.rosetta.protocols.antibody.residue_selector.CDRResidueSelector(ab_info, vec)\n",
    "where = np.where(cdr_sel.apply(pose))\n",
    "\n",
    "u = mda.Universe(ref_top,ref_traj)\n",
    "v = mda.Universe(mobile_top,mobile_traj)\n",
    "\n",
    "u.transfer_to_memory(step=10,verbose=True)\n",
    "v.transfer_to_memory(step=100,verbose=True)\n",
    "\n",
    "if (cdr == 'h1') or (cdr=='h2') or (cdr=='h3') or (cdr=='heavy'):\n",
    "    x = 0\n",
    "    framework = np.concatenate((u.segments.resindices[0][5:11+1], u.segments.resindices[0][38:45+1],u.segments.resindices[0][80:90+1],u.segments.resindices[0][105:len(pose.chain_sequence(1))]))\n",
    "    loop = u.segments.resindices[0][where]\n",
    "elif (cdr == 'l1') or (cdr=='l2') or (cdr=='l3') or (cdr=='light'):\n",
    "    x = 1\n",
    "    framework = np.concatenate((u.segments.resindices[1][6:19+1], u.segments.resindices[1][37:43+1],u.segments.resindices[1][75:84+1],u.segments.resindices[1][100:len(pose.chain_sequence(2))]))\n",
    "    loop = u.segments.resindices[1][where[0]-len(pose.chain_sequence(1))]\n",
    "elif cdr == 'all':\n",
    "    framework1 = np.concatenate((u.segments.resindices[0][5:11+1], u.segments.resindices[0][38:45+1],u.segments.resindices[0][80:90+1],u.segments.resindices[0][105:len(pose.chain_sequence(1))]))\n",
    "    framework2 = np.concatenate((u.segments.resindices[1][6:19+1], u.segments.resindices[1][37:43+1],u.segments.resindices[1][75:84+1],u.segments.resindices[1][100:len(pose.chain_sequence(2))]))\n",
    "    framework = np.concatenate((framework1,framework2))\n",
    "\n",
    "resids = ''\n",
    "for i in framework:\n",
    "    resids += 'resindex ' + str(i) + ' or '\n",
    "framework_selection = 'not name O and (backbone and (' + resids[:-4] +'))'\n",
    "\n",
    "resids = ''\n",
    "for i in loop:\n",
    "    resids += 'resindex ' + str(i) + ' or '\n",
    "loop_selection = 'not name O and (backbone and (' + resids[:-4] +'))'\n",
    "    \n",
    "frmsd = np.zeros([len(u.trajectory), len(v.trajectory)]) #framework rmsd\n",
    "lrmsd = np.zeros([len(u.trajectory), len(v.trajectory)]) # loop rmsd\n",
    "\n",
    "for i in range(0,len(u.trajectory)):\n",
    "    r = rms.RMSD(v, u, select=framework_selection, ref_frame=i, groupselections=[loop_selection]).run()\n",
    "    frmsd[i,:] = r.rmsd[:,2]\n",
    "    lrmsd[i,:] = r.rmsd[:,3]\n",
    "\n",
    "match = np.where((lrmsd<float(rmsd_val)).any(axis=1))[0].shape[0]/len(v.trajectory)\n",
    "print(name,index_ref,index_mob,cdr,rmsd_val,str(match)[:4],sep='\\t')\n",
    "\n",
    "plt.figure(figsize=(12,8))\n",
    "sns.heatmap(lrmsd, cmap = cmap, vmin=0,vmax=6)\n",
    "plt.xlabel('Mobile-'+str(index_mob))\n",
    "plt.ylabel('Reference-'+str(index_ref))\n",
    "plt.title(str(name)+' Frame-wise RMSD  ($\\AA$) '+str(cdr))\n",
    "plt.savefig(\"{}_lrmsd_{}_{}_{}.png\".format(name,index_ref,index_mob,cdr),dpi=300, facecolor='white',bbox_inches='tight')\n",
    "\n",
    "plt.figure(figsize=(12,8))\n",
    "sns.heatmap(frmsd, cmap = cmap, vmin=0,vmax=6)\n",
    "plt.xlabel('Mobile-'+str(index_mob))\n",
    "plt.ylabel('Reference-'+str(index_ref))\n",
    "plt.title(str(name)+' Frame-wise RMSD  ($\\AA$) '+str(cdr))\n",
    "plt.savefig(\"{}_frmsd_{}_{}_{}.png\".format(name,index_ref,index_mob,cdr),dpi=300, facecolor='white',bbox_inches='tight')"
   ]
  },
  {
   "cell_type": "markdown",
   "id": "0c35775f-2775-4020-98d7-3909da4e1799",
   "metadata": {
    "tags": []
   },
   "source": [
    "### Actual code to find loop rmsd between a trajectory and a pdb"
   ]
  },
  {
   "cell_type": "code",
   "execution_count": 18,
   "id": "722b085b-9d11-4d1f-b57c-f1c9545a52db",
   "metadata": {
    "tags": []
   },
   "outputs": [
    {
     "name": "stdout",
     "output_type": "stream",
     "text": [
      "PyRosetta-4 2022 [Rosetta PyRosetta4.conda.linux.cxx11thread.serialization.CentOS.python39.Release 2022.37+release.4c51f714cd413ab5625d699da693250e86294a85 2022-09-16T17:05:06] retrieved from: http://www.pyrosetta.org\n",
      "(C) Copyright Rosetta Commons Member Institutions. Created in JHU by Sergey Lyskov and PyRosetta Team.\n"
     ]
    },
    {
     "data": {
      "application/vnd.jupyter.widget-view+json": {
       "model_id": "0bb79ba3a521449ba83995d638bad949",
       "version_major": 2,
       "version_minor": 0
      },
      "text/plain": [
       "Loading frames:   0%|          | 0/1 [00:00<?, ?it/s]"
      ]
     },
     "metadata": {},
     "output_type": "display_data"
    },
    {
     "name": "stderr",
     "output_type": "stream",
     "text": [
      "/home/akshay/apps/anaconda3/lib/python3.9/site-packages/MDAnalysis/core/universe.py:641: UserWarning: Reader has no dt information, set to 1.0 ps\n",
      "  dt=self.trajectory.ts.dt * step,\n"
     ]
    },
    {
     "data": {
      "application/vnd.jupyter.widget-view+json": {
       "model_id": "4408b3e5cd004465b42ee4e982d427b7",
       "version_major": 2,
       "version_minor": 0
      },
      "text/plain": [
       "Loading frames:   0%|          | 0/5001 [00:00<?, ?it/s]"
      ]
     },
     "metadata": {},
     "output_type": "display_data"
    },
    {
     "data": {
      "application/vnd.jupyter.widget-view+json": {
       "model_id": "0845728db6664299986da563db65a8e7",
       "version_major": 2,
       "version_minor": 0
      },
      "text/plain": [
       "  0%|          | 0/5001 [00:00<?, ?it/s]"
      ]
     },
     "metadata": {},
     "output_type": "display_data"
    },
    {
     "name": "stderr",
     "output_type": "stream",
     "text": [
      "/home/akshay/apps/anaconda3/lib/python3.9/site-packages/MDAnalysis/analysis/align.py:719: DeprecationWarning: The `rmsd` attribute was deprecated in MDAnalysis 2.0.0 and will be removed in MDAnalysis 3.0.0. Please use `results.rmsd` instead.\n",
      "  warnings.warn(wmsg, DeprecationWarning)\n"
     ]
    },
    {
     "name": "stdout",
     "output_type": "stream",
     "text": [
      "1\t0\t310\tlight\t2\t1.46\n"
     ]
    },
    {
     "data": {
      "text/plain": [
       "<matplotlib.legend.Legend at 0x7f76acf554c0>"
      ]
     },
     "execution_count": 18,
     "metadata": {},
     "output_type": "execute_result"
    },
    {
     "data": {
      "image/png": "[encoded data removed]",
      "text/plain": [
       "<Figure size 288x216 with 1 Axes>"
      ]
     },
     "metadata": {
      "needs_background": "light"
     },
     "output_type": "display_data"
    }
   ],
   "source": [
    "'''\n",
    "Calculate the RMSD of the loops between a trajectory and a pdb. Supported loops are h/l1-3, heavy,light, all.\n",
    "Use this when selections are not equivalent.\n",
    "'''\n",
    "\n",
    "import sys\n",
    "import matplotlib\n",
    "import numpy as np\n",
    "import MDAnalysis as mda\n",
    "import pyrosetta as py\n",
    "from MDAnalysis.analysis import rms\n",
    "from MDAnalysis.analysis import align\n",
    "from pyrosetta.rosetta.protocols import antibody\n",
    "from rosetta.protocols.antibody.residue_selector import CDRResidueSelector\n",
    "import matplotlib.pyplot as plt\n",
    "py.init('-out:level 0')\n",
    "\n",
    "ref_top = '/home/akshay/apo_md/analysis/loop_rmsd_traj-pdb/macrostate_renum_fvs/1.pdb'\n",
    "ref_traj = '/home/akshay/apo_md/analysis/loop_rmsd_traj-pdb/macrostate_renum_fvs/1.pdb'\n",
    "mobile_top = 'pierce_simulations/1/mdframe.pdb'\n",
    "mobile_traj = 'pierce_simulations/1/md_corrected.xtc'\n",
    "name = '1'\n",
    "index_ref = 0\n",
    "index_mob = 310\n",
    "rmsd_val = 2\n",
    "renumbered_pdb = '/home/akshay/apo_md/analysis/loop_rmsd_traj-pdb/macrostate_renum_fvs/1.pdb'\n",
    "cdr = 'light'\n",
    "\n",
    "pose = py.pose_from_pdb(renumbered_pdb)\n",
    "ab_info = antibody.AntibodyInfo(pose, antibody.Chothia_Scheme, antibody.North)\n",
    "\n",
    "if cdr == 'all':\n",
    "    vec = ab_info.get_all_cdrs()\n",
    "elif cdr == 'heavy':\n",
    "    vec = py.rosetta.utility.vector1_bool(6)\n",
    "    vec[antibody.h1] = True\n",
    "    vec[antibody.h2] = True\n",
    "    vec[antibody.h3] = True\n",
    "\n",
    "elif cdr == 'light':\n",
    "    vec = py.rosetta.utility.vector1_bool(6)\n",
    "    vec[antibody.l1] = True\n",
    "    vec[antibody.l2] = True\n",
    "    vec[antibody.l3] = True\n",
    "\n",
    "else:\n",
    "    vec = py.rosetta.utility.vector1_bool(6)\n",
    "    vec[getattr(antibody,cdr)] = True\n",
    "\n",
    "cdr_sel = py.rosetta.protocols.antibody.residue_selector.CDRResidueSelector(ab_info, vec)\n",
    "where = np.where(cdr_sel.apply(pose))\n",
    "\n",
    "u = mda.Universe(ref_top,ref_traj)\n",
    "v = mda.Universe(mobile_top,mobile_traj)\n",
    "\n",
    "u.transfer_to_memory(step=10,verbose=True)\n",
    "v.transfer_to_memory(step=10,verbose=True)\n",
    "\n",
    "if (cdr == 'h1') or (cdr=='h2') or (cdr=='h3') or (cdr=='heavy'):\n",
    "    v_framework = np.concatenate((v.segments.resindices[0][5:11+1], v.segments.resindices[0][38:45+1],v.segments.resindices[0][80:90+1],v.segments.resindices[0][105:len(pose.chain_sequence(1))]))\n",
    "    v_loop = v.segments.resindices[0][where]\n",
    "elif (cdr == 'l1') or (cdr=='l2') or (cdr=='l3') or (cdr=='light'):\n",
    "    v_framework = np.concatenate((v.segments.resindices[1][6:19+1], v.segments.resindices[1][37:43+1],v.segments.resindices[1][75:84+1],v.segments.resindices[1][100:len(pose.chain_sequence(2))]))\n",
    "    v_loop = v.segments.resindices[1][where[0]-len(pose.chain_sequence(1))]\n",
    "elif cdr == 'all':\n",
    "    framework1 = np.concatenate((v.segments.resindices[0][5:11+1], v.segments.resindices[0][38:45+1],v.segments.resindices[0][80:90+1],v.segments.resindices[0][105:len(pose.chain_sequence(1))]))\n",
    "    framework2 = np.concatenate((v.segments.resindices[1][6:19+1], v.segments.resindices[1][37:43+1],v.segments.resindices[1][75:84+1],v.segments.resindices[1][100:len(pose.chain_sequence(2))]))\n",
    "    v_framework = np.concatenate((framework1,framework2))\n",
    "    \n",
    "resids = ''\n",
    "for i in v_framework:\n",
    "    resids += 'resindex ' + str(i) + ' or '\n",
    "v_framework_selection = 'not name O and (backbone and (' + resids[:-4] +'))'\n",
    "\n",
    "resids = ''\n",
    "for i in v_loop:\n",
    "    resids += 'resindex ' + str(i) + ' or '\n",
    "v_loop_selection = 'not name O and (backbone and (' + resids[:-4] +'))'\n",
    "\n",
    "\n",
    "if (cdr == 'h1') or (cdr=='h2') or (cdr=='h3') or (cdr=='heavy'):\n",
    "    u_framework = np.concatenate((u.segments.resindices[0][5:11+1], u.segments.resindices[0][38:45+1],u.segments.resindices[0][80:90+1],u.segments.resindices[0][105:len(pose.chain_sequence(1))]))\n",
    "    u_loop = u.segments.resindices[0][where]\n",
    "elif (cdr == 'l1') or (cdr=='l2') or (cdr=='l3') or (cdr=='light'):\n",
    "    u_framework = np.concatenate((u.segments.resindices[1][6:19+1], u.segments.resindices[1][37:43+1],u.segments.resindices[1][75:84+1],u.segments.resindices[1][100:len(pose.chain_sequence(2))]))\n",
    "    u_loop = u.segments.resindices[1][where[0]-len(pose.chain_sequence(1))]\n",
    "elif cdr == 'all':\n",
    "    framework1 = np.concatenate((u.segments.resindices[0][5:11+1], u.segments.resindices[0][38:45+1],u.segments.resindices[0][80:90+1],u.segments.resindices[0][105:len(pose.chain_sequence(1))]))\n",
    "    framework2 = np.concatenate((u.segments.resindices[1][6:19+1], u.segments.resindices[1][37:43+1],u.segments.resindices[1][75:84+1],u.segments.resindices[1][100:len(pose.chain_sequence(2))]))\n",
    "    u_framework = np.concatenate((framework1,framework2))\n",
    "\n",
    "resids = ''\n",
    "for i in u_framework:\n",
    "    resids += 'resindex ' + str(i) + ' or '\n",
    "u_framework_selection = 'not name O and (backbone and (' + resids[:-4] +'))'\n",
    "\n",
    "resids = ''\n",
    "for i in u_loop:\n",
    "    resids += 'resindex ' + str(i) + ' or '\n",
    "u_loop_selection = 'not name O and (backbone and (' + resids[:-4] +'))'\n",
    "\n",
    "z = align.AlignTraj(v,u,select=(v_framework_selection,u_framework_selection),verbose=True).run()\n",
    "frmsd = z.rmsd # Framework RMSD\n",
    "\n",
    "u_loop_position = u.select_atoms(u_loop_selection).positions\n",
    "lrmsd = [] #loop rmsd\n",
    "for _ in v.trajectory:\n",
    "    lrmsd.append(rms.rmsd(v.select_atoms(v_loop_selection).positions, u_loop_position, center=False, superposition=False))\n",
    "\n",
    "lrmsd = np.array(lrmsd)\n",
    "print(name,index_ref,index_mob,cdr,rmsd_val,str(lrmsd.min())[:4],sep='\\t')\n",
    "\n",
    "plt.figure(figsize=(4,3))\n",
    "plt.rcParams['font.size'] = '12'\n",
    "plt.plot(lrmsd)\n",
    "plt.plot(frmsd)\n",
    "plt.xlabel('#Frame')\n",
    "plt.ylabel('RMSD ($\\AA$)')\n",
    "plt.legend([cdr,'Framework'])\n",
    "#plt.savxefig(\"{}_nativermsd_{}_{}_{}.png\".format(name,index_ref,index_mob,cdr),dpi=300, facecolor='white',bbox_inches='tight')"
   ]
  },
  {
   "cell_type": "code",
   "execution_count": 16,
   "id": "0913d1d5-1614-4061-b0ae-a0317f7f0cb9",
   "metadata": {},
   "outputs": [
    {
     "data": {
      "text/plain": [
       "array([ 23,  24,  25,  26,  27,  28,  29,  30,  31,  32,  33,  34,  35,\n",
       "        50,  51,  52,  53,  54,  55,  56,  57,  58,  59,  97,  98,  99,\n",
       "       100, 101, 102, 103, 104, 105, 106, 107, 108, 109])"
      ]
     },
     "execution_count": 16,
     "metadata": {},
     "output_type": "execute_result"
    }
   ],
   "source": [
    "v_loop+1"
   ]
  },
  {
   "cell_type": "code",
   "execution_count": 17,
   "id": "999a57df-7a05-4630-90d2-6cdb986e08a1",
   "metadata": {},
   "outputs": [
    {
     "data": {
      "text/plain": [
       "array([  6,   7,   8,   9,  10,  11,  12,  39,  40,  41,  42,  43,  44,\n",
       "        45,  46,  81,  82,  83,  84,  85,  86,  87,  88,  89,  90,  91,\n",
       "       106, 107, 108, 109, 110, 111, 112, 113, 114, 115, 116, 117, 118,\n",
       "       119, 120])"
      ]
     },
     "execution_count": 17,
     "metadata": {},
     "output_type": "execute_result"
    }
   ],
   "source": [
    "v_framework+1"
   ]
  },
  {
   "cell_type": "code",
   "execution_count": 19,
   "id": "5de95b58-3261-4973-bfcc-7b83936ad7ae",
   "metadata": {},
   "outputs": [
    {
     "data": {
      "text/plain": [
       "array([242, 243, 244, 245, 246, 247, 248, 249, 250, 251, 252, 267, 268,\n",
       "       269, 270, 271, 272, 273, 274, 307, 308, 309, 310, 311, 312, 313,\n",
       "       314, 315])"
      ]
     },
     "execution_count": 19,
     "metadata": {},
     "output_type": "execute_result"
    }
   ],
   "source": [
    "v_loop+1"
   ]
  },
  {
   "cell_type": "code",
   "execution_count": 20,
   "id": "49c9ceca-f1e1-4a90-81b9-29a510b5c822",
   "metadata": {},
   "outputs": [
    {
     "data": {
      "text/plain": [
       "array([225, 226, 227, 228, 229, 230, 231, 232, 233, 234, 235, 236, 237,\n",
       "       238, 256, 257, 258, 259, 260, 261, 262, 294, 295, 296, 297, 298,\n",
       "       299, 300, 301, 302, 303, 319, 320, 321, 322, 323, 324, 325])"
      ]
     },
     "execution_count": 20,
     "metadata": {},
     "output_type": "execute_result"
    }
   ],
   "source": [
    "v_framework+1"
   ]
  },
  {
   "cell_type": "markdown",
   "id": "ca04d4db-f4e1-4f41-8cf0-73f6e56c817f",
   "metadata": {
    "tags": []
   },
   "source": [
    "### Code to find loop rmsds between two pdbs"
   ]
  },
  {
   "cell_type": "code",
   "execution_count": 1,
   "id": "5c5410bb-055f-44ca-84f4-7779358bd008",
   "metadata": {},
   "outputs": [
    {
     "name": "stderr",
     "output_type": "stream",
     "text": [
      "/tmp/ipykernel_2847765/1588962876.py:14: UserWarning: Import of 'rosetta' as a top-level module is deprecated and may be removed in 2018, import via 'pyrosetta.rosetta'.\n",
      "  from rosetta.protocols.antibody.residue_selector import CDRResidueSelector\n"
     ]
    },
    {
     "name": "stdout",
     "output_type": "stream",
     "text": [
      "PyRosetta-4 2022 [Rosetta PyRosetta4.conda.linux.cxx11thread.serialization.CentOS.python39.Release 2022.37+release.4c51f714cd413ab5625d699da693250e86294a85 2022-09-16T17:05:06] retrieved from: http://www.pyrosetta.org\n",
      "(C) Copyright Rosetta Commons Member Institutions. Created in JHU by Sergey Lyskov and PyRosetta Team.\n"
     ]
    },
    {
     "data": {
      "application/vnd.jupyter.widget-view+json": {
       "model_id": "d32dbad8237e4f80970607c1823cc20b",
       "version_major": 2,
       "version_minor": 0
      },
      "text/plain": [
       "Loading frames:   0%|          | 0/1 [00:00<?, ?it/s]"
      ]
     },
     "metadata": {},
     "output_type": "display_data"
    },
    {
     "name": "stderr",
     "output_type": "stream",
     "text": [
      "/home/akshay/apps/anaconda3/lib/python3.9/site-packages/MDAnalysis/core/universe.py:641: UserWarning: Reader has no dt information, set to 1.0 ps\n",
      "  dt=self.trajectory.ts.dt * step,\n"
     ]
    },
    {
     "data": {
      "application/vnd.jupyter.widget-view+json": {
       "model_id": "efb80dd00e87485b973bd2e07d7c32dc",
       "version_major": 2,
       "version_minor": 0
      },
      "text/plain": [
       "Loading frames:   0%|          | 0/1 [00:00<?, ?it/s]"
      ]
     },
     "metadata": {},
     "output_type": "display_data"
    },
    {
     "data": {
      "application/vnd.jupyter.widget-view+json": {
       "model_id": "c2d9aca305ad4d4591ba86b6daf37cb7",
       "version_major": 2,
       "version_minor": 0
      },
      "text/plain": [
       "  0%|          | 0/1 [00:00<?, ?it/s]"
      ]
     },
     "metadata": {},
     "output_type": "display_data"
    },
    {
     "name": "stdout",
     "output_type": "stream",
     "text": [
      "1\t1\tall\t0.00\t0.00\n"
     ]
    },
    {
     "name": "stderr",
     "output_type": "stream",
     "text": [
      "/home/akshay/apps/anaconda3/lib/python3.9/site-packages/MDAnalysis/analysis/align.py:719: DeprecationWarning: The `rmsd` attribute was deprecated in MDAnalysis 2.0.0 and will be removed in MDAnalysis 3.0.0. Please use `results.rmsd` instead.\n",
      "  warnings.warn(wmsg, DeprecationWarning)\n"
     ]
    }
   ],
   "source": [
    "'''\n",
    "Calculate the RMSD of the loops between a pdb and a pdb. Supported loops are h/l1-3, heavy,light, all.\n",
    "Use this when selections are not equivalent.\n",
    "'''\n",
    "\n",
    "import sys\n",
    "import matplotlib\n",
    "import numpy as np\n",
    "import MDAnalysis as mda\n",
    "import pyrosetta as py\n",
    "from MDAnalysis.analysis import rms\n",
    "from MDAnalysis.analysis import align\n",
    "from pyrosetta.rosetta.protocols import antibody\n",
    "from rosetta.protocols.antibody.residue_selector import CDRResidueSelector\n",
    "import matplotlib.pyplot as plt\n",
    "py.init('-out:level 0')\n",
    "\n",
    "ref_top = '/home/akshay/apo_md/analysis/loop_rmsd_traj-pdb/macrostate_renum_fvs/1.pdb'\n",
    "ref_traj = '/home/akshay/apo_md/analysis/loop_rmsd_traj-pdb/macrostate_renum_fvs/1.pdb'\n",
    "mobile_top = '/home/akshay/apo_md/analysis/loop_rmsd_traj-pdb/macrostate_renum_fvs/1.pdb'\n",
    "mobile_traj = '/home/akshay/apo_md/analysis/loop_rmsd_traj-pdb/macrostate_renum_fvs/1.pdb'\n",
    "renumbered_pdb = '/home/akshay/apo_md/analysis/loop_rmsd_traj-pdb/macrostate_renum_fvs/1.pdb'\n",
    "cdr = 'all'\n",
    "\n",
    "pose = py.pose_from_pdb(renumbered_pdb)\n",
    "ab_info = antibody.AntibodyInfo(pose, antibody.Chothia_Scheme, antibody.North)\n",
    "\n",
    "if cdr == 'all':\n",
    "    vec = ab_info.get_all_cdrs()\n",
    "elif cdr == 'heavy':\n",
    "    vec = py.rosetta.utility.vector1_bool(6)\n",
    "    vec[antibody.h1] = True\n",
    "    vec[antibody.h2] = True\n",
    "    vec[antibody.h3] = True\n",
    "\n",
    "elif cdr == 'light':\n",
    "    vec = py.rosetta.utility.vector1_bool(6)\n",
    "    vec[antibody.l1] = True\n",
    "    vec[antibody.l2] = True\n",
    "    vec[antibody.l3] = True\n",
    "\n",
    "else:\n",
    "    vec = py.rosetta.utility.vector1_bool(6)\n",
    "    vec[getattr(antibody,cdr)] = True\n",
    "\n",
    "cdr_sel = py.rosetta.protocols.antibody.residue_selector.CDRResidueSelector(ab_info, vec)\n",
    "where = np.where(cdr_sel.apply(pose))\n",
    "\n",
    "u = mda.Universe(ref_top,ref_traj)\n",
    "v = mda.Universe(mobile_top,mobile_traj)\n",
    "\n",
    "u.transfer_to_memory(step=10,verbose=True)\n",
    "v.transfer_to_memory(step=10,verbose=True)\n",
    "\n",
    "if (cdr == 'h1') or (cdr=='h2') or (cdr=='h3') or (cdr=='heavy'):\n",
    "    v_framework = np.concatenate((v.segments.resindices[0][5:11+1], v.segments.resindices[0][38:45+1],v.segments.resindices[0][80:90+1],v.segments.resindices[0][105:len(pose.chain_sequence(1))]))\n",
    "    v_loop = v.segments.resindices[0][where]\n",
    "elif (cdr == 'l1') or (cdr=='l2') or (cdr=='l3') or (cdr=='light'):\n",
    "    v_framework = np.concatenate((v.segments.resindices[1][6:19+1], v.segments.resindices[1][37:43+1],v.segments.resindices[1][75:84+1],v.segments.resindices[1][100:len(pose.chain_sequence(2))]))\n",
    "    v_loop = v.segments.resindices[1][where[0]-len(pose.chain_sequence(1))]\n",
    "elif cdr == 'all':\n",
    "    framework1 = np.concatenate((v.segments.resindices[0][5:11+1], v.segments.resindices[0][38:45+1],v.segments.resindices[0][80:90+1],v.segments.resindices[0][105:len(pose.chain_sequence(1))]))\n",
    "    framework2 = np.concatenate((v.segments.resindices[1][6:19+1], v.segments.resindices[1][37:43+1],v.segments.resindices[1][75:84+1],v.segments.resindices[1][100:len(pose.chain_sequence(2))]))\n",
    "    v_framework = np.concatenate((framework1,framework2))\n",
    "    x = len(pose.chain_sequence(1))\n",
    "    h = where[0][where[0] < x-1]\n",
    "    l = where[0][where[0] > x-1] - x\n",
    "    v_looph = v.segments.resindices[0][h]\n",
    "    v_loopl = v.segments.resindices[1][l]\n",
    "    v_loop = np.concatenate((v_looph,v_loopl))\n",
    "    \n",
    "resids = ''\n",
    "for i in v_framework:\n",
    "    resids += 'resindex ' + str(i) + ' or '\n",
    "v_framework_selection = 'not name O and (backbone and (' + resids[:-4] +'))'\n",
    "\n",
    "resids = ''\n",
    "for i in v_loop:\n",
    "    resids += 'resindex ' + str(i) + ' or '\n",
    "v_loop_selection = 'not name O and (backbone and (' + resids[:-4] +'))'\n",
    "\n",
    "\n",
    "if (cdr == 'h1') or (cdr=='h2') or (cdr=='h3') or (cdr=='heavy'):\n",
    "    u_framework = np.concatenate((u.segments.resindices[0][5:11+1], u.segments.resindices[0][38:45+1],u.segments.resindices[0][80:90+1],u.segments.resindices[0][105:len(pose.chain_sequence(1))]))\n",
    "    u_loop = u.segments.resindices[0][where]\n",
    "elif (cdr == 'l1') or (cdr=='l2') or (cdr=='l3') or (cdr=='light'):\n",
    "    u_framework = np.concatenate((u.segments.resindices[1][6:19+1], u.segments.resindices[1][37:43+1],u.segments.resindices[1][75:84+1],u.segments.resindices[1][100:len(pose.chain_sequence(2))]))\n",
    "    u_loop = u.segments.resindices[1][where[0]-len(pose.chain_sequence(1))]\n",
    "elif cdr == 'all':\n",
    "    framework1 = np.concatenate((u.segments.resindices[0][5:11+1], u.segments.resindices[0][38:45+1],u.segments.resindices[0][80:90+1],u.segments.resindices[0][105:len(pose.chain_sequence(1))]))\n",
    "    framework2 = np.concatenate((u.segments.resindices[1][6:19+1], u.segments.resindices[1][37:43+1],u.segments.resindices[1][75:84+1],u.segments.resindices[1][100:len(pose.chain_sequence(2))]))\n",
    "    u_framework = np.concatenate((framework1,framework2))\n",
    "    x = len(pose.chain_sequence(1))\n",
    "    h = where[0][where[0] < x-1]\n",
    "    l = where[0][where[0] > x-1] - x\n",
    "    u_looph = v.segments.resindices[0][h]\n",
    "    u_loopl = v.segments.resindices[1][l]\n",
    "    u_loop = np.concatenate((u_looph,u_loopl))\n",
    "    \n",
    "\n",
    "resids = ''\n",
    "for i in u_framework:\n",
    "    resids += 'resindex ' + str(i) + ' or '\n",
    "u_framework_selection = 'not name O and (backbone and (' + resids[:-4] +'))'\n",
    "\n",
    "resids = ''\n",
    "for i in u_loop:\n",
    "    resids += 'resindex ' + str(i) + ' or '\n",
    "u_loop_selection = 'not name O and (backbone and (' + resids[:-4] +'))'\n",
    "\n",
    "z = align.AlignTraj(v,u,select=(v_framework_selection,u_framework_selection),verbose=True).run()\n",
    "frmsd = z.rmsd # Framework RMSD\n",
    "\n",
    "u_loop_position = u.select_atoms(u_loop_selection).positions\n",
    "lrmsd = [] #loop rmsd\n",
    "for _ in v.trajectory:\n",
    "    lrmsd.append(rms.rmsd(v.select_atoms(v_loop_selection).positions, u_loop_position, center=False, superposition=False))\n",
    "\n",
    "lrmsd = np.array(lrmsd)\n",
    "print(ref_traj.split('/')[-1][:-4], mobile_traj.split('/')[-1][:-4], cdr,\"{:.2f}\".format(frmsd[0]),\"{:.2f}\".format(lrmsd[0]),sep='\\t')"
   ]
  },
  {
   "cell_type": "code",
   "execution_count": 2,
   "id": "15768d98-72d6-47f2-98f5-50e4e863b7fc",
   "metadata": {},
   "outputs": [
    {
     "data": {
      "text/plain": [
       "array([ 23,  24,  25,  26,  27,  28,  29,  30,  31,  32,  33,  34,  35,\n",
       "        50,  51,  52,  53,  54,  55,  56,  57,  58,  59,  97,  98,  99,\n",
       "       100, 101, 102, 103, 104, 105, 106, 107, 108, 109, 144, 145, 146,\n",
       "       147, 148, 149, 150, 151, 152, 153, 154, 169, 170, 171, 172, 173,\n",
       "       174, 175, 176])"
      ]
     },
     "execution_count": 2,
     "metadata": {},
     "output_type": "execute_result"
    }
   ],
   "source": [
    "u_loop+1"
   ]
  },
  {
   "cell_type": "code",
   "execution_count": 3,
   "id": "6a5fd7c3-86f5-482e-a431-250e37b7f636",
   "metadata": {},
   "outputs": [
    {
     "data": {
      "text/plain": [
       "array([  6,   7,   8,   9,  10,  11,  12,  39,  40,  41,  42,  43,  44,\n",
       "        45,  46,  81,  82,  83,  84,  85,  86,  87,  88,  89,  90,  91,\n",
       "       106, 107, 108, 109, 110, 111, 112, 113, 114, 115, 116, 117, 118,\n",
       "       119, 120, 127, 128, 129, 130, 131, 132, 133, 134, 135, 136, 137,\n",
       "       138, 139, 140, 158, 159, 160, 161, 162, 163, 164, 196, 197, 198,\n",
       "       199, 200, 201, 202, 203, 204, 205, 221, 222, 223, 224, 225, 226,\n",
       "       227])"
      ]
     },
     "execution_count": 3,
     "metadata": {},
     "output_type": "execute_result"
    }
   ],
   "source": [
    "u_framework+1"
   ]
  },
  {
   "cell_type": "code",
   "execution_count": 26,
   "id": "9bdf1a43-61da-4c16-8487-5695ac60ad26",
   "metadata": {},
   "outputs": [
    {
     "data": {
      "text/plain": [
       "'not name O and (backbone and (resindex 22 or resindex 23 or resindex 24 or resindex 25 or resindex 26 or resindex 27 or resindex 28 or resindex 29 or resindex 30 or resindex 31 or resindex 32 or resindex 33 or resindex 34 or resindex 49 or resindex 50 or resindex 51 or resindex 52 or resindex 53 or resindex 54 or resindex 55 or resindex 56 or resindex 57 or resindex 58 or resindex 96 or resindex 97 or resindex 98 or resindex 99 or resindex 100 or resindex 101 or resindex 102 or resindex 103 or resindex 104 or resindex 105 or resindex 106 or resindex 107 or resindex 108 or resindex 143 or resindex 144 or resindex 145 or resindex 146 or resindex 147 or resindex 148 or resindex 149 or resindex 150 or resindex 151 or resindex 152 or resindex 153 or resindex 168 or resindex 169 or resindex 170 or resindex 171 or resindex 172 or resindex 173 or resindex 174 or resindex 175))'"
      ]
     },
     "execution_count": 26,
     "metadata": {},
     "output_type": "execute_result"
    }
   ],
   "source": [
    "u_loop_selection"
   ]
  },
  {
   "cell_type": "markdown",
   "id": "9f958541-41fe-406d-a257-847338102bd6",
   "metadata": {
    "jp-MarkdownHeadingCollapsed": true,
    "tags": []
   },
   "source": [
    "# Test"
   ]
  },
  {
   "cell_type": "code",
   "execution_count": 18,
   "id": "3062c135-f985-4bfc-a77d-2057d20bc968",
   "metadata": {},
   "outputs": [],
   "source": [
    "x = len(pose.chain_sequence(1))"
   ]
  },
  {
   "cell_type": "code",
   "execution_count": 22,
   "id": "40c90f7e-03bc-4587-a221-4631add0898e",
   "metadata": {},
   "outputs": [],
   "source": [
    "a = where[0][where[0] < x-1]"
   ]
  },
  {
   "cell_type": "code",
   "execution_count": 24,
   "id": "d54b91f8-f660-433b-ad12-01efe1ed8d46",
   "metadata": {},
   "outputs": [
    {
     "data": {
      "text/plain": [
       "array([23, 24, 25, 26, 27, 28, 29, 30, 31, 32, 33, 48, 49, 50, 51, 52, 53,\n",
       "       54, 55])"
      ]
     },
     "execution_count": 24,
     "metadata": {},
     "output_type": "execute_result"
    }
   ],
   "source": [
    "where[0][where[0] > x-1] - x"
   ]
  },
  {
   "cell_type": "code",
   "execution_count": 9,
   "id": "8742389e-a2cd-4b4f-a93c-160ea0608577",
   "metadata": {},
   "outputs": [],
   "source": [
    "p1 = py.pose_from_pdb('/home/akshay/apo_md/analysis/loop_rmsd_traj-pdb/macrostate_renum_fvs/1.pdb')\n",
    "p2 = py.pose_from_pdb('/home/akshay/apo_md/analysis/loop_rmsd_traj-pdb/macrostate_renum_fvs/2.pdb')"
   ]
  },
  {
   "cell_type": "code",
   "execution_count": 10,
   "id": "80ddf6c6-69d8-4479-b859-a12fdecfc352",
   "metadata": {},
   "outputs": [
    {
     "data": {
      "text/plain": [
       "vector1_double[3.35914, 0.768062, 0.983249, 0.629097, 1.85078, 0.855857, 1.37138, 1.81, 1.86305]"
      ]
     },
     "execution_count": 10,
     "metadata": {},
     "output_type": "execute_result"
    }
   ],
   "source": [
    "antibody.cdr_backbone_rmsds(p1,p2,ab_info,ab_info)"
   ]
  },
  {
   "cell_type": "code",
   "execution_count": 15,
   "id": "ada7223e-8bb0-4a7c-a749-a6291a87135e",
   "metadata": {},
   "outputs": [
    {
     "data": {
      "text/plain": [
       "\u001b[0;31mDocstring:\u001b[0m\n",
       "cdr_backbone_rmsds(*args, **kwargs)\n",
       "Overloaded function.\n",
       "\n",
       "1. cdr_backbone_rmsds(p1: pyrosetta.rosetta.core.pose.Pose, p2: pyrosetta.rosetta.core.pose.Pose, a1: protocols::antibody::AntibodyInfo, a2: protocols::antibody::AntibodyInfo) -> pyrosetta.rosetta.utility.vector1_double\n",
       "\n",
       "2. cdr_backbone_rmsds(p1: pyrosetta.rosetta.core.pose.Pose, p2: pyrosetta.rosetta.core.pose.Pose, a1: protocols::antibody::AntibodyInfo, a2: protocols::antibody::AntibodyInfo, aln_thresh: int) -> pyrosetta.rosetta.utility.vector1_double\n",
       "\n",
       "Align two sequence matching antibodies and calculate CDR rmsds (add OCD), then store in scores\n",
       " \n",
       "\n",
       " vector is made up of:\n",
       " OCD\n",
       " FRH\n",
       " H1 RMS\n",
       " H2 RMS\n",
       " H3 RMS\n",
       " FRL\n",
       " L1 RMS\n",
       " L2 RMS\n",
       " L3 RMS\n",
       "\n",
       "C++: protocols::antibody::cdr_backbone_rmsds(class core::pose::Pose &, const class core::pose::Pose &, const class std::shared_ptr<class protocols::antibody::AntibodyInfo>, const class std::shared_ptr<class protocols::antibody::AntibodyInfo>, unsigned long) --> class utility::vector1<double, class std::allocator<double> >\n",
       "\u001b[0;31mType:\u001b[0m      builtin_function_or_method\n"
      ]
     },
     "metadata": {},
     "output_type": "display_data"
    }
   ],
   "source": [
    "antibody.cdr_backbone_rmsds?"
   ]
  },
  {
   "cell_type": "code",
   "execution_count": 14,
   "id": "46e75676-20ac-4b5b-bcc0-6f06eb143c22",
   "metadata": {},
   "outputs": [
    {
     "ename": "TypeError",
     "evalue": "cdr_energy(): incompatible function arguments. The following argument types are supported:\n    1. (pose: pyrosetta.rosetta.core.pose.Pose, ab_info: protocols::antibody::AntibodyInfo, scorefxn: pyrosetta.rosetta.core.scoring.ScoreFunction, cdr: pyrosetta.rosetta.protocols.antibody.CDRNameEnum) -> float\n\nInvoked with: ",
     "output_type": "error",
     "traceback": [
      "\u001b[0;31m---------------------------------------------------------------------------\u001b[0m",
      "\u001b[0;31mTypeError\u001b[0m                                 Traceback (most recent call last)",
      "Input \u001b[0;32mIn [14]\u001b[0m, in \u001b[0;36m<cell line: 1>\u001b[0;34m()\u001b[0m\n\u001b[0;32m----> 1\u001b[0m \u001b[43mantibody\u001b[49m\u001b[38;5;241;43m.\u001b[39;49m\u001b[43mcdr_energy\u001b[49m\u001b[43m(\u001b[49m\u001b[43m)\u001b[49m\n",
      "\u001b[0;31mTypeError\u001b[0m: cdr_energy(): incompatible function arguments. The following argument types are supported:\n    1. (pose: pyrosetta.rosetta.core.pose.Pose, ab_info: protocols::antibody::AntibodyInfo, scorefxn: pyrosetta.rosetta.core.scoring.ScoreFunction, cdr: pyrosetta.rosetta.protocols.antibody.CDRNameEnum) -> float\n\nInvoked with: "
     ]
    }
   ],
   "source": [
    "\n",
    "antibody.cdr_energy()"
   ]
  },
  {
   "cell_type": "code",
   "execution_count": null,
   "id": "58531ce0-748d-40d3-86f2-57f8fe16b8fe",
   "metadata": {},
   "outputs": [],
   "source": []
  }
 ],
 "metadata": {
  "kernelspec": {
   "display_name": "Python 3 (ipykernel)",
   "language": "python",
   "name": "python3"
  },
  "language_info": {
   "codemirror_mode": {
    "name": "ipython",
    "version": 3
   },
   "file_extension": ".py",
   "mimetype": "text/x-python",
   "name": "python",
   "nbconvert_exporter": "python",
   "pygments_lexer": "ipython3",
   "version": "3.9.12"
  }
 },
 "nbformat": 4,
 "nbformat_minor": 5
}
